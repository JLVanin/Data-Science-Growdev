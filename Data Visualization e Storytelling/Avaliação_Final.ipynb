{
  "nbformat": 4,
  "nbformat_minor": 0,
  "metadata": {
    "colab": {
      "provenance": []
    },
    "kernelspec": {
      "name": "python3",
      "display_name": "Python 3"
    },
    "language_info": {
      "name": "python"
    }
  },
  "cells": [
    {
      "cell_type": "markdown",
      "source": [
        "###Criação de visual utilizando Python + *Plotly*"
      ],
      "metadata": {
        "id": "AEZj0R00_jQx"
      }
    },
    {
      "cell_type": "markdown",
      "source": [
        "###Utilizando os dados do [Censo Escolar de 2021](https://download.inep.gov.br/dados_abertos/microdados_censo_escolar_2021.zip), disponibilizados pelo INEP, seguem as orientações gerais da atividade:\n",
        "\n",
        "*   Realizar uma análise focada das entidades escolares com localização diferenciada\n",
        "(área de assentamento, terra indígena e áreas remanescentes de quilombos) no\n",
        "estado Rio Grande do Sul.\n",
        "*   O objetivo principal da investigação é entender a distribuição entre a quantidade.\n",
        "*   Foi solicitado para que os resultados sejam mostrados em dois gráficos separados\n",
        "lado a lado considerando o tipo de localização da entidade (Urbana ou Rural).\n",
        "*   As escolas que não estão situadas em áreas de localização diferenciada devem\n",
        "ser removidas da análise.\n",
        "*   O valor de quantidade de turmas também deve ser utilizado como uma dimensão\n",
        "adicional para dar mais destaque às entidades que possuem mais turmas.\n",
        "\n",
        "\n",
        "\n",
        "\n",
        "\n",
        "\n",
        "\n"
      ],
      "metadata": {
        "id": "9W4fd8Ow_rTg"
      }
    },
    {
      "cell_type": "markdown",
      "source": [
        "###Para realizar a atividade, será necessário seguir alguns padrões:\n",
        "\n",
        "\n",
        "1.   Gerar os gráficos utilizando Python + Plotly (Google Colab).\n",
        "2.   Baixar a base de dados do Censo escolar 2021, necessária para a realização da\n",
        "prática (esse material compactado já contém a base de dados em um arquivo\n",
        "CSV e um dicionário de dados em um arquivo XLSX).\n",
        "3. Os gráficos devem respeitar o template padrão “ggplot2”.\n",
        "4. O título do gráfico deve ser: “Censo Escolar 2021: Análise de Localização\n",
        "Diferenciada (RS)”, centralizado, todo em negrito com tamanho de fonte 14.\n",
        "5. O gráfico deve ser gerado com 600 pixels de altura e 1200 pixels de largura.\n",
        "6. A legenda deve ser utilizada na orientação horizontal, centralizado e na parte\n",
        "inferior do gráfico. Também deve apresentar o significado de cada dado,\n",
        "conforme o dicionário de dados.\n",
        "7. O título da legenda de ser alterado para: “Localização Diferenciada”, com\n",
        "tamanho de fonte igual a 12.\n",
        "8. Para escolas em área de assentamento, deve ser utilizada a cor “brown”.\n",
        "9. Para escola em terra indígena, deve ser utilizada a cor “orange”.\n",
        "10. Para escolas em áreas remanescentes de quilombo, deve ser utilizada a cor\n",
        "“turquoise”.\n",
        "11. Os títulos individuais dos subgráficos devem apresentar o significado de cada\n",
        "tipo de localização, conforme o dicionário de dados.\n",
        "12. O eixo com a quantidade de matrículas deve ser fixado entre 0 e 500. Deve\n",
        "também receber o título: “Quantidade de Matrículas”, com fonte tamanho 11.\n",
        "13. O eixo com a quantidade de docentes deve ser fixado entre 0 e 200. Deve\n",
        "também receber o título: “Quantidade de Matrículas”, com fonte tamanho 11.\n",
        "14. Os marcadores devem ter borda da cor preta e opacidade de 75%.\n",
        "15. Marcadores devem ter seu tamanho máximo igual a 30.\n",
        "16. No canto superior direito da imagem, deve ser inserida uma anotação com o\n",
        "texto “Fonte: INEP”, com a cor “dark_gray” e fonte tamanho 12. \n",
        "17. O visual deve ser exportado no formato HMTL com o nome:\n",
        "“localizacao_diferenciada_rs.html”.\n",
        "\n",
        "\n",
        "\n"
      ],
      "metadata": {
        "id": "o_91N7zZA3NP"
      }
    },
    {
      "cell_type": "code",
      "source": [
        "import pandas as pd\n",
        "import plotly.express as px\n",
        "import plotly.graph_objects as go\n",
        "from plotly.subplots import make_subplots"
      ],
      "metadata": {
        "id": "UZLbIZbe_mLp"
      },
      "execution_count": 1,
      "outputs": []
    },
    {
      "cell_type": "code",
      "source": [
        "# Lendo dados do DF\n",
        "df_ed_basica = pd.read_csv('microdados_ed_basica_2021.csv', sep=';', \n",
        "                       encoding = \"iso-8859-1\")"
      ],
      "metadata": {
        "colab": {
          "base_uri": "https://localhost:8080/"
        },
        "id": "lSRtXq8ECQej",
        "outputId": "773fcf6a-fea9-42d4-f7fd-70cd34be7c02"
      },
      "execution_count": 2,
      "outputs": [
        {
          "output_type": "stream",
          "name": "stderr",
          "text": [
            "/usr/local/lib/python3.8/dist-packages/IPython/core/interactiveshell.py:3326: DtypeWarning: Columns (27) have mixed types.Specify dtype option on import or set low_memory=False.\n",
            "  exec(code_obj, self.user_global_ns, self.user_ns)\n"
          ]
        }
      ]
    },
    {
      "cell_type": "code",
      "source": [
        "# Filtro por estado \n",
        "df_ed_basica_RS = df_ed_basica[df_ed_basica['SG_UF'] == 'RS']"
      ],
      "metadata": {
        "id": "_llWsPLbDAD-"
      },
      "execution_count": 3,
      "outputs": []
    },
    {
      "cell_type": "code",
      "source": [
        "# Filtro por entidades \n",
        "df_loc_diferenciada = df_ed_basica_RS[df_ed_basica_RS['TP_LOCALIZACAO_DIFERENCIADA'] != 0]"
      ],
      "metadata": {
        "id": "FVEAVxljHRkl"
      },
      "execution_count": 4,
      "outputs": []
    },
    {
      "cell_type": "code",
      "source": [
        "# Excluindo valores nulos\n",
        "df_loc_diferenciada = df_loc_diferenciada.dropna(subset=['QT_TUR_BAS'])"
      ],
      "metadata": {
        "id": "732bIEazKcWc"
      },
      "execution_count": 5,
      "outputs": []
    },
    {
      "cell_type": "code",
      "source": [
        "# Alterando dados para \"str\"\n",
        "df_loc_diferenciada['TP_LOCALIZACAO_DIFERENCIADA'] = df_loc_diferenciada['TP_LOCALIZACAO_DIFERENCIADA'].astype(str)"
      ],
      "metadata": {
        "id": "BKikxMBlISZV"
      },
      "execution_count": 6,
      "outputs": []
    },
    {
      "cell_type": "code",
      "source": [
        "# Definindo legendas\n",
        "cores = {'3.0':'turquoise' , '2.0': 'orange', '1.0':'brown'} \n",
        "ordem = {'TP_LOCALIZACAO_DIFERENCIADA' : ['1.0', '2.0', '3.0']}"
      ],
      "metadata": {
        "id": "x9-x1K82Hxou"
      },
      "execution_count": 7,
      "outputs": []
    },
    {
      "cell_type": "markdown",
      "source": [
        "####Plotando gráfico, padrão “ggplot2”."
      ],
      "metadata": {
        "id": "xjHc0RF_bMhi"
      }
    },
    {
      "cell_type": "code",
      "source": [
        "fig = px.scatter(df_loc_diferenciada,\n",
        "           x='QT_MAT_BAS', \n",
        "           y= 'QT_DOC_BAS', \n",
        "           facet_col='TP_LOCALIZACAO', \n",
        "           color = 'TP_LOCALIZACAO_DIFERENCIADA',\n",
        "           color_discrete_map = cores,\n",
        "           size = \"QT_TUR_BAS\",\n",
        "           size_max = 30,\n",
        "           category_orders = ordem,\n",
        "           opacity = 0.75\n",
        "           )\n",
        "\n",
        "fig.update_layout(template='ggplot2')\n",
        "\n",
        "fig.show()"
      ],
      "metadata": {
        "colab": {
          "base_uri": "https://localhost:8080/",
          "height": 542
        },
        "id": "Fy2gMWaPU4qh",
        "outputId": "838ecbde-b1ef-4cf4-ecdd-e257d296058a"
      },
      "execution_count": 8,
      "outputs": [
        {
          "output_type": "display_data",
          "data": {
            "text/html": [
              "<html>\n",
              "<head><meta charset=\"utf-8\" /></head>\n",
              "<body>\n",
              "    <div>            <script src=\"https://cdnjs.cloudflare.com/ajax/libs/mathjax/2.7.5/MathJax.js?config=TeX-AMS-MML_SVG\"></script><script type=\"text/javascript\">if (window.MathJax) {MathJax.Hub.Config({SVG: {font: \"STIX-Web\"}});}</script>                <script type=\"text/javascript\">window.PlotlyConfig = {MathJaxConfig: 'local'};</script>\n",
              "        <script src=\"https://cdn.plot.ly/plotly-2.8.3.min.js\"></script>                <div id=\"8639c8c1-487d-4513-bb52-ae1867dd8394\" class=\"plotly-graph-div\" style=\"height:525px; width:100%;\"></div>            <script type=\"text/javascript\">                                    window.PLOTLYENV=window.PLOTLYENV || {};                                    if (document.getElementById(\"8639c8c1-487d-4513-bb52-ae1867dd8394\")) {                    Plotly.newPlot(                        \"8639c8c1-487d-4513-bb52-ae1867dd8394\",                        [{\"hovertemplate\":\"TP_LOCALIZACAO_DIFERENCIADA=1.0<br>TP_LOCALIZACAO=2<br>QT_MAT_BAS=%{x}<br>QT_DOC_BAS=%{y}<br>QT_TUR_BAS=%{marker.size}<extra></extra>\",\"legendgroup\":\"1.0\",\"marker\":{\"color\":\"brown\",\"opacity\":0.75,\"size\":[4.0,7.0,4.0,2.0,10.0,11.0,6.0,3.0,7.0,6.0,5.0,5.0,4.0,4.0,6.0,4.0,1.0,11.0,4.0,11.0,5.0,6.0,9.0,8.0,4.0,13.0,10.0,5.0,8.0,4.0,13.0,4.0,9.0,3.0,7.0,4.0,16.0,2.0,11.0,11.0,10.0,2.0,3.0,10.0,1.0,1.0,4.0,2.0,8.0,6.0,12.0,3.0,8.0,2.0,9.0,11.0,3.0,12.0,4.0,3.0,11.0,10.0,11.0,3.0,11.0],\"sizemode\":\"area\",\"sizeref\":0.028888888888888888,\"symbol\":\"circle\"},\"mode\":\"markers\",\"name\":\"1.0\",\"orientation\":\"v\",\"showlegend\":true,\"x\":[32.0,64.0,31.0,12.0,150.0,270.0,73.0,35.0,62.0,62.0,32.0,6.0,29.0,23.0,45.0,42.0,12.0,242.0,38.0,132.0,51.0,39.0,98.0,58.0,48.0,105.0,158.0,64.0,67.0,38.0,201.0,22.0,83.0,29.0,78.0,87.0,350.0,25.0,31.0,81.0,36.0,12.0,21.0,128.0,14.0,7.0,30.0,10.0,69.0,88.0,179.0,21.0,105.0,14.0,76.0,85.0,35.0,153.0,52.0,33.0,74.0,53.0,65.0,21.0,277.0],\"xaxis\":\"x\",\"y\":[6.0,47.0,14.0,9.0,7.0,17.0,6.0,5.0,6.0,10.0,13.0,27.0,9.0,8.0,13.0,39.0,45.0,16.0,24.0,5.0,12.0,13.0,34.0,12.0,54.0,5.0,11.0,5.0,11.0,12.0,6.0,3.0,57.0,3.0,7.0,30.0,14.0,75.0,9.0,3.0,2.0,1.0,4.0,35.0,15.0,47.0,15.0,3.0,5.0,16.0,12.0,8.0,27.0,18.0,4.0,31.0,5.0,6.0,51.0,11.0,38.0,34.0,6.0,5.0,10.0],\"yaxis\":\"y\",\"type\":\"scatter\"},{\"hovertemplate\":\"TP_LOCALIZACAO_DIFERENCIADA=2.0<br>TP_LOCALIZACAO=2<br>QT_MAT_BAS=%{x}<br>QT_DOC_BAS=%{y}<br>QT_TUR_BAS=%{marker.size}<extra></extra>\",\"legendgroup\":\"2.0\",\"marker\":{\"color\":\"orange\",\"opacity\":0.75,\"size\":[7.0,5.0,4.0,4.0,2.0,3.0,7.0,15.0,1.0,1.0,2.0,9.0,2.0,3.0,1.0,3.0,20.0,2.0,5.0,1.0,3.0,1.0,8.0,6.0,4.0,1.0,2.0,4.0,5.0,9.0,2.0,7.0,15.0,5.0,4.0,2.0,10.0,1.0,1.0,3.0,3.0,6.0,12.0,1.0,3.0,11.0,2.0,3.0,7.0,2.0,21.0,13.0,10.0,10.0,9.0,3.0,4.0,2.0,7.0,5.0,2.0,13.0,3.0,7.0,6.0,5.0,7.0,6.0,11.0,18.0,1.0,11.0,11.0,15.0,10.0,7.0,4.0,9.0,7.0],\"sizemode\":\"area\",\"sizeref\":0.028888888888888888,\"symbol\":\"circle\"},\"mode\":\"markers\",\"name\":\"2.0\",\"orientation\":\"v\",\"showlegend\":true,\"x\":[112.0,45.0,16.0,34.0,33.0,29.0,85.0,240.0,2.0,8.0,12.0,141.0,25.0,46.0,3.0,34.0,337.0,21.0,76.0,2.0,49.0,15.0,56.0,49.0,49.0,6.0,11.0,57.0,35.0,149.0,18.0,115.0,254.0,36.0,74.0,30.0,112.0,3.0,8.0,34.0,20.0,79.0,174.0,8.0,15.0,184.0,9.0,6.0,82.0,22.0,407.0,237.0,129.0,141.0,130.0,31.0,56.0,19.0,85.0,40.0,10.0,180.0,30.0,50.0,61.0,22.0,57.0,65.0,149.0,334.0,7.0,137.0,167.0,198.0,111.0,48.0,35.0,54.0,86.0],\"xaxis\":\"x\",\"y\":[4.0,16.0,2.0,10.0,18.0,1.0,20.0,17.0,14.0,20.0,16.0,13.0,2.0,12.0,6.0,26.0,20.0,33.0,14.0,16.0,8.0,2.0,3.0,5.0,2.0,3.0,3.0,8.0,4.0,2.0,1.0,9.0,3.0,26.0,19.0,16.0,9.0,18.0,6.0,47.0,9.0,22.0,41.0,15.0,7.0,20.0,3.0,21.0,4.0,2.0,18.0,2.0,18.0,16.0,37.0,14.0,3.0,6.0,14.0,21.0,5.0,13.0,6.0,2.0,30.0,2.0,8.0,10.0,8.0,13.0,5.0,5.0,11.0,5.0,4.0,5.0,3.0,5.0,11.0],\"yaxis\":\"y\",\"type\":\"scatter\"},{\"hovertemplate\":\"TP_LOCALIZACAO_DIFERENCIADA=2.0<br>TP_LOCALIZACAO=1<br>QT_MAT_BAS=%{x}<br>QT_DOC_BAS=%{y}<br>QT_TUR_BAS=%{marker.size}<extra></extra>\",\"legendgroup\":\"2.0\",\"marker\":{\"color\":\"orange\",\"opacity\":0.75,\"size\":[1.0,3.0,2.0,3.0,2.0,13.0,4.0,2.0],\"sizemode\":\"area\",\"sizeref\":0.028888888888888888,\"symbol\":\"circle\"},\"mode\":\"markers\",\"name\":\"2.0\",\"orientation\":\"v\",\"showlegend\":false,\"x\":[11.0,17.0,20.0,9.0,4.0,58.0,38.0,13.0],\"xaxis\":\"x2\",\"y\":[2.0,23.0,11.0,15.0,20.0,33.0,11.0,3.0],\"yaxis\":\"y2\",\"type\":\"scatter\"},{\"hovertemplate\":\"TP_LOCALIZACAO_DIFERENCIADA=3.0<br>TP_LOCALIZACAO=2<br>QT_MAT_BAS=%{x}<br>QT_DOC_BAS=%{y}<br>QT_TUR_BAS=%{marker.size}<extra></extra>\",\"legendgroup\":\"3.0\",\"marker\":{\"color\":\"turquoise\",\"opacity\":0.75,\"size\":[11.0,8.0,13.0,10.0,12.0,10.0,11.0,10.0,9.0,10.0,10.0,11.0,10.0,12.0,9.0,9.0,11.0,9.0,15.0,10.0,10.0,10.0,7.0,7.0,5.0,8.0,6.0,3.0,15.0,3.0,10.0,3.0,8.0,6.0,2.0,4.0,10.0,11.0,15.0,4.0,26.0,10.0,2.0,6.0,12.0,7.0,7.0,5.0,7.0,13.0,15.0,13.0,11.0,8.0],\"sizemode\":\"area\",\"sizeref\":0.028888888888888888,\"symbol\":\"circle\"},\"mode\":\"markers\",\"name\":\"3.0\",\"orientation\":\"v\",\"showlegend\":true,\"x\":[126.0,65.0,235.0,131.0,116.0,116.0,187.0,94.0,70.0,57.0,131.0,142.0,114.0,206.0,101.0,69.0,120.0,104.0,169.0,138.0,120.0,106.0,58.0,65.0,44.0,86.0,90.0,21.0,206.0,53.0,123.0,25.0,128.0,55.0,23.0,25.0,190.0,157.0,219.0,32.0,333.0,111.0,16.0,126.0,186.0,171.0,100.0,19.0,92.0,248.0,254.0,218.0,87.0,90.0],\"xaxis\":\"x\",\"y\":[11.0,13.0,18.0,25.0,18.0,34.0,16.0,17.0,17.0,6.0,14.0,8.0,17.0,17.0,15.0,48.0,15.0,17.0,17.0,15.0,37.0,6.0,33.0,20.0,23.0,1.0,14.0,2.0,21.0,15.0,24.0,19.0,24.0,19.0,25.0,11.0,18.0,30.0,57.0,36.0,58.0,30.0,16.0,2.0,5.0,25.0,9.0,16.0,4.0,34.0,25.0,28.0,4.0,38.0],\"yaxis\":\"y\",\"type\":\"scatter\"},{\"hovertemplate\":\"TP_LOCALIZACAO_DIFERENCIADA=3.0<br>TP_LOCALIZACAO=1<br>QT_MAT_BAS=%{x}<br>QT_DOC_BAS=%{y}<br>QT_TUR_BAS=%{marker.size}<extra></extra>\",\"legendgroup\":\"3.0\",\"marker\":{\"color\":\"turquoise\",\"opacity\":0.75,\"size\":[19.0,9.0,4.0,4.0,15.0,2.0,10.0],\"sizemode\":\"area\",\"sizeref\":0.028888888888888888,\"symbol\":\"circle\"},\"mode\":\"markers\",\"name\":\"3.0\",\"orientation\":\"v\",\"showlegend\":false,\"x\":[285.0,173.0,36.0,36.0,299.0,31.0,226.0],\"xaxis\":\"x2\",\"y\":[12.0,5.0,22.0,5.0,7.0,10.0,157.0],\"yaxis\":\"y2\",\"type\":\"scatter\"}],                        {\"template\":{\"data\":{\"barpolar\":[{\"marker\":{\"line\":{\"color\":\"rgb(237,237,237)\",\"width\":0.5},\"pattern\":{\"fillmode\":\"overlay\",\"size\":10,\"solidity\":0.2}},\"type\":\"barpolar\"}],\"bar\":[{\"error_x\":{\"color\":\"rgb(51,51,51)\"},\"error_y\":{\"color\":\"rgb(51,51,51)\"},\"marker\":{\"line\":{\"color\":\"rgb(237,237,237)\",\"width\":0.5},\"pattern\":{\"fillmode\":\"overlay\",\"size\":10,\"solidity\":0.2}},\"type\":\"bar\"}],\"carpet\":[{\"aaxis\":{\"endlinecolor\":\"rgb(51,51,51)\",\"gridcolor\":\"white\",\"linecolor\":\"white\",\"minorgridcolor\":\"white\",\"startlinecolor\":\"rgb(51,51,51)\"},\"baxis\":{\"endlinecolor\":\"rgb(51,51,51)\",\"gridcolor\":\"white\",\"linecolor\":\"white\",\"minorgridcolor\":\"white\",\"startlinecolor\":\"rgb(51,51,51)\"},\"type\":\"carpet\"}],\"choropleth\":[{\"colorbar\":{\"outlinewidth\":0,\"tickcolor\":\"rgb(237,237,237)\",\"ticklen\":6,\"ticks\":\"inside\"},\"type\":\"choropleth\"}],\"contourcarpet\":[{\"colorbar\":{\"outlinewidth\":0,\"tickcolor\":\"rgb(237,237,237)\",\"ticklen\":6,\"ticks\":\"inside\"},\"type\":\"contourcarpet\"}],\"contour\":[{\"colorbar\":{\"outlinewidth\":0,\"tickcolor\":\"rgb(237,237,237)\",\"ticklen\":6,\"ticks\":\"inside\"},\"colorscale\":[[0,\"rgb(20,44,66)\"],[1,\"rgb(90,179,244)\"]],\"type\":\"contour\"}],\"heatmapgl\":[{\"colorbar\":{\"outlinewidth\":0,\"tickcolor\":\"rgb(237,237,237)\",\"ticklen\":6,\"ticks\":\"inside\"},\"colorscale\":[[0,\"rgb(20,44,66)\"],[1,\"rgb(90,179,244)\"]],\"type\":\"heatmapgl\"}],\"heatmap\":[{\"colorbar\":{\"outlinewidth\":0,\"tickcolor\":\"rgb(237,237,237)\",\"ticklen\":6,\"ticks\":\"inside\"},\"colorscale\":[[0,\"rgb(20,44,66)\"],[1,\"rgb(90,179,244)\"]],\"type\":\"heatmap\"}],\"histogram2dcontour\":[{\"colorbar\":{\"outlinewidth\":0,\"tickcolor\":\"rgb(237,237,237)\",\"ticklen\":6,\"ticks\":\"inside\"},\"colorscale\":[[0,\"rgb(20,44,66)\"],[1,\"rgb(90,179,244)\"]],\"type\":\"histogram2dcontour\"}],\"histogram2d\":[{\"colorbar\":{\"outlinewidth\":0,\"tickcolor\":\"rgb(237,237,237)\",\"ticklen\":6,\"ticks\":\"inside\"},\"colorscale\":[[0,\"rgb(20,44,66)\"],[1,\"rgb(90,179,244)\"]],\"type\":\"histogram2d\"}],\"histogram\":[{\"marker\":{\"pattern\":{\"fillmode\":\"overlay\",\"size\":10,\"solidity\":0.2}},\"type\":\"histogram\"}],\"mesh3d\":[{\"colorbar\":{\"outlinewidth\":0,\"tickcolor\":\"rgb(237,237,237)\",\"ticklen\":6,\"ticks\":\"inside\"},\"type\":\"mesh3d\"}],\"parcoords\":[{\"line\":{\"colorbar\":{\"outlinewidth\":0,\"tickcolor\":\"rgb(237,237,237)\",\"ticklen\":6,\"ticks\":\"inside\"}},\"type\":\"parcoords\"}],\"pie\":[{\"automargin\":true,\"type\":\"pie\"}],\"scatter3d\":[{\"line\":{\"colorbar\":{\"outlinewidth\":0,\"tickcolor\":\"rgb(237,237,237)\",\"ticklen\":6,\"ticks\":\"inside\"}},\"marker\":{\"colorbar\":{\"outlinewidth\":0,\"tickcolor\":\"rgb(237,237,237)\",\"ticklen\":6,\"ticks\":\"inside\"}},\"type\":\"scatter3d\"}],\"scattercarpet\":[{\"marker\":{\"colorbar\":{\"outlinewidth\":0,\"tickcolor\":\"rgb(237,237,237)\",\"ticklen\":6,\"ticks\":\"inside\"}},\"type\":\"scattercarpet\"}],\"scattergeo\":[{\"marker\":{\"colorbar\":{\"outlinewidth\":0,\"tickcolor\":\"rgb(237,237,237)\",\"ticklen\":6,\"ticks\":\"inside\"}},\"type\":\"scattergeo\"}],\"scattergl\":[{\"marker\":{\"colorbar\":{\"outlinewidth\":0,\"tickcolor\":\"rgb(237,237,237)\",\"ticklen\":6,\"ticks\":\"inside\"}},\"type\":\"scattergl\"}],\"scattermapbox\":[{\"marker\":{\"colorbar\":{\"outlinewidth\":0,\"tickcolor\":\"rgb(237,237,237)\",\"ticklen\":6,\"ticks\":\"inside\"}},\"type\":\"scattermapbox\"}],\"scatterpolargl\":[{\"marker\":{\"colorbar\":{\"outlinewidth\":0,\"tickcolor\":\"rgb(237,237,237)\",\"ticklen\":6,\"ticks\":\"inside\"}},\"type\":\"scatterpolargl\"}],\"scatterpolar\":[{\"marker\":{\"colorbar\":{\"outlinewidth\":0,\"tickcolor\":\"rgb(237,237,237)\",\"ticklen\":6,\"ticks\":\"inside\"}},\"type\":\"scatterpolar\"}],\"scatter\":[{\"marker\":{\"colorbar\":{\"outlinewidth\":0,\"tickcolor\":\"rgb(237,237,237)\",\"ticklen\":6,\"ticks\":\"inside\"}},\"type\":\"scatter\"}],\"scatterternary\":[{\"marker\":{\"colorbar\":{\"outlinewidth\":0,\"tickcolor\":\"rgb(237,237,237)\",\"ticklen\":6,\"ticks\":\"inside\"}},\"type\":\"scatterternary\"}],\"surface\":[{\"colorbar\":{\"outlinewidth\":0,\"tickcolor\":\"rgb(237,237,237)\",\"ticklen\":6,\"ticks\":\"inside\"},\"colorscale\":[[0,\"rgb(20,44,66)\"],[1,\"rgb(90,179,244)\"]],\"type\":\"surface\"}],\"table\":[{\"cells\":{\"fill\":{\"color\":\"rgb(237,237,237)\"},\"line\":{\"color\":\"white\"}},\"header\":{\"fill\":{\"color\":\"rgb(217,217,217)\"},\"line\":{\"color\":\"white\"}},\"type\":\"table\"}]},\"layout\":{\"annotationdefaults\":{\"arrowhead\":0,\"arrowwidth\":1},\"autotypenumbers\":\"strict\",\"coloraxis\":{\"colorbar\":{\"outlinewidth\":0,\"tickcolor\":\"rgb(237,237,237)\",\"ticklen\":6,\"ticks\":\"inside\"}},\"colorscale\":{\"sequential\":[[0,\"rgb(20,44,66)\"],[1,\"rgb(90,179,244)\"]],\"sequentialminus\":[[0,\"rgb(20,44,66)\"],[1,\"rgb(90,179,244)\"]]},\"colorway\":[\"#F8766D\",\"#A3A500\",\"#00BF7D\",\"#00B0F6\",\"#E76BF3\"],\"font\":{\"color\":\"rgb(51,51,51)\"},\"geo\":{\"bgcolor\":\"white\",\"lakecolor\":\"white\",\"landcolor\":\"rgb(237,237,237)\",\"showlakes\":true,\"showland\":true,\"subunitcolor\":\"white\"},\"hoverlabel\":{\"align\":\"left\"},\"hovermode\":\"closest\",\"paper_bgcolor\":\"white\",\"plot_bgcolor\":\"rgb(237,237,237)\",\"polar\":{\"angularaxis\":{\"gridcolor\":\"white\",\"linecolor\":\"white\",\"showgrid\":true,\"tickcolor\":\"rgb(51,51,51)\",\"ticks\":\"outside\"},\"bgcolor\":\"rgb(237,237,237)\",\"radialaxis\":{\"gridcolor\":\"white\",\"linecolor\":\"white\",\"showgrid\":true,\"tickcolor\":\"rgb(51,51,51)\",\"ticks\":\"outside\"}},\"scene\":{\"xaxis\":{\"backgroundcolor\":\"rgb(237,237,237)\",\"gridcolor\":\"white\",\"gridwidth\":2,\"linecolor\":\"white\",\"showbackground\":true,\"showgrid\":true,\"tickcolor\":\"rgb(51,51,51)\",\"ticks\":\"outside\",\"zerolinecolor\":\"white\"},\"yaxis\":{\"backgroundcolor\":\"rgb(237,237,237)\",\"gridcolor\":\"white\",\"gridwidth\":2,\"linecolor\":\"white\",\"showbackground\":true,\"showgrid\":true,\"tickcolor\":\"rgb(51,51,51)\",\"ticks\":\"outside\",\"zerolinecolor\":\"white\"},\"zaxis\":{\"backgroundcolor\":\"rgb(237,237,237)\",\"gridcolor\":\"white\",\"gridwidth\":2,\"linecolor\":\"white\",\"showbackground\":true,\"showgrid\":true,\"tickcolor\":\"rgb(51,51,51)\",\"ticks\":\"outside\",\"zerolinecolor\":\"white\"}},\"shapedefaults\":{\"fillcolor\":\"black\",\"line\":{\"width\":0},\"opacity\":0.3},\"ternary\":{\"aaxis\":{\"gridcolor\":\"white\",\"linecolor\":\"white\",\"showgrid\":true,\"tickcolor\":\"rgb(51,51,51)\",\"ticks\":\"outside\"},\"baxis\":{\"gridcolor\":\"white\",\"linecolor\":\"white\",\"showgrid\":true,\"tickcolor\":\"rgb(51,51,51)\",\"ticks\":\"outside\"},\"bgcolor\":\"rgb(237,237,237)\",\"caxis\":{\"gridcolor\":\"white\",\"linecolor\":\"white\",\"showgrid\":true,\"tickcolor\":\"rgb(51,51,51)\",\"ticks\":\"outside\"}},\"xaxis\":{\"automargin\":true,\"gridcolor\":\"white\",\"linecolor\":\"white\",\"showgrid\":true,\"tickcolor\":\"rgb(51,51,51)\",\"ticks\":\"outside\",\"title\":{\"standoff\":15},\"zerolinecolor\":\"white\"},\"yaxis\":{\"automargin\":true,\"gridcolor\":\"white\",\"linecolor\":\"white\",\"showgrid\":true,\"tickcolor\":\"rgb(51,51,51)\",\"ticks\":\"outside\",\"title\":{\"standoff\":15},\"zerolinecolor\":\"white\"}}},\"xaxis\":{\"anchor\":\"y\",\"domain\":[0.0,0.49],\"title\":{\"text\":\"QT_MAT_BAS\"}},\"yaxis\":{\"anchor\":\"x\",\"domain\":[0.0,1.0],\"title\":{\"text\":\"QT_DOC_BAS\"}},\"xaxis2\":{\"anchor\":\"y2\",\"domain\":[0.51,1.0],\"matches\":\"x\",\"title\":{\"text\":\"QT_MAT_BAS\"}},\"yaxis2\":{\"anchor\":\"x2\",\"domain\":[0.0,1.0],\"matches\":\"y\",\"showticklabels\":false},\"annotations\":[{\"font\":{},\"showarrow\":false,\"text\":\"TP_LOCALIZACAO=2\",\"x\":0.245,\"xanchor\":\"center\",\"xref\":\"paper\",\"y\":1.0,\"yanchor\":\"bottom\",\"yref\":\"paper\"},{\"font\":{},\"showarrow\":false,\"text\":\"TP_LOCALIZACAO=1\",\"x\":0.755,\"xanchor\":\"center\",\"xref\":\"paper\",\"y\":1.0,\"yanchor\":\"bottom\",\"yref\":\"paper\"}],\"legend\":{\"title\":{\"text\":\"TP_LOCALIZACAO_DIFERENCIADA\"},\"tracegroupgap\":0,\"itemsizing\":\"constant\"},\"margin\":{\"t\":60}},                        {\"responsive\": true}                    ).then(function(){\n",
              "                            \n",
              "var gd = document.getElementById('8639c8c1-487d-4513-bb52-ae1867dd8394');\n",
              "var x = new MutationObserver(function (mutations, observer) {{\n",
              "        var display = window.getComputedStyle(gd).display;\n",
              "        if (!display || display === 'none') {{\n",
              "            console.log([gd, 'removed!']);\n",
              "            Plotly.purge(gd);\n",
              "            observer.disconnect();\n",
              "        }}\n",
              "}});\n",
              "\n",
              "// Listen for the removal of the full notebook cells\n",
              "var notebookContainer = gd.closest('#notebook-container');\n",
              "if (notebookContainer) {{\n",
              "    x.observe(notebookContainer, {childList: true});\n",
              "}}\n",
              "\n",
              "// Listen for the clearing of the current output cell\n",
              "var outputEl = gd.closest('.output');\n",
              "if (outputEl) {{\n",
              "    x.observe(outputEl, {childList: true});\n",
              "}}\n",
              "\n",
              "                        })                };                            </script>        </div>\n",
              "</body>\n",
              "</html>"
            ]
          },
          "metadata": {}
        }
      ]
    },
    {
      "cell_type": "markdown",
      "source": [
        "####Definindo título do gráfico."
      ],
      "metadata": {
        "id": "3X8rszmOboE2"
      }
    },
    {
      "cell_type": "code",
      "source": [
        "fig.update_layout(\n",
        "    title = '<b>Censo Escolar 2021: Análise de Localização Diferenciada (RS)</b>',\n",
        "    xaxis = dict(titlefont_size=14, tickfont_size=11),\n",
        "    yaxis = dict(titlefont_size=14, tickfont_size=11)\n",
        ")"
      ],
      "metadata": {
        "colab": {
          "base_uri": "https://localhost:8080/",
          "height": 542
        },
        "id": "89iEHzatVyap",
        "outputId": "d7d2f4a6-f248-4798-cb31-ba5d9df435c0"
      },
      "execution_count": 9,
      "outputs": [
        {
          "output_type": "display_data",
          "data": {
            "text/html": [
              "<html>\n",
              "<head><meta charset=\"utf-8\" /></head>\n",
              "<body>\n",
              "    <div>            <script src=\"https://cdnjs.cloudflare.com/ajax/libs/mathjax/2.7.5/MathJax.js?config=TeX-AMS-MML_SVG\"></script><script type=\"text/javascript\">if (window.MathJax) {MathJax.Hub.Config({SVG: {font: \"STIX-Web\"}});}</script>                <script type=\"text/javascript\">window.PlotlyConfig = {MathJaxConfig: 'local'};</script>\n",
              "        <script src=\"https://cdn.plot.ly/plotly-2.8.3.min.js\"></script>                <div id=\"44955fad-efb8-4634-8277-556372d43992\" class=\"plotly-graph-div\" style=\"height:525px; width:100%;\"></div>            <script type=\"text/javascript\">                                    window.PLOTLYENV=window.PLOTLYENV || {};                                    if (document.getElementById(\"44955fad-efb8-4634-8277-556372d43992\")) {                    Plotly.newPlot(                        \"44955fad-efb8-4634-8277-556372d43992\",                        [{\"hovertemplate\":\"TP_LOCALIZACAO_DIFERENCIADA=1.0<br>TP_LOCALIZACAO=2<br>QT_MAT_BAS=%{x}<br>QT_DOC_BAS=%{y}<br>QT_TUR_BAS=%{marker.size}<extra></extra>\",\"legendgroup\":\"1.0\",\"marker\":{\"color\":\"brown\",\"opacity\":0.75,\"size\":[4.0,7.0,4.0,2.0,10.0,11.0,6.0,3.0,7.0,6.0,5.0,5.0,4.0,4.0,6.0,4.0,1.0,11.0,4.0,11.0,5.0,6.0,9.0,8.0,4.0,13.0,10.0,5.0,8.0,4.0,13.0,4.0,9.0,3.0,7.0,4.0,16.0,2.0,11.0,11.0,10.0,2.0,3.0,10.0,1.0,1.0,4.0,2.0,8.0,6.0,12.0,3.0,8.0,2.0,9.0,11.0,3.0,12.0,4.0,3.0,11.0,10.0,11.0,3.0,11.0],\"sizemode\":\"area\",\"sizeref\":0.028888888888888888,\"symbol\":\"circle\"},\"mode\":\"markers\",\"name\":\"1.0\",\"orientation\":\"v\",\"showlegend\":true,\"x\":[32.0,64.0,31.0,12.0,150.0,270.0,73.0,35.0,62.0,62.0,32.0,6.0,29.0,23.0,45.0,42.0,12.0,242.0,38.0,132.0,51.0,39.0,98.0,58.0,48.0,105.0,158.0,64.0,67.0,38.0,201.0,22.0,83.0,29.0,78.0,87.0,350.0,25.0,31.0,81.0,36.0,12.0,21.0,128.0,14.0,7.0,30.0,10.0,69.0,88.0,179.0,21.0,105.0,14.0,76.0,85.0,35.0,153.0,52.0,33.0,74.0,53.0,65.0,21.0,277.0],\"xaxis\":\"x\",\"y\":[6.0,47.0,14.0,9.0,7.0,17.0,6.0,5.0,6.0,10.0,13.0,27.0,9.0,8.0,13.0,39.0,45.0,16.0,24.0,5.0,12.0,13.0,34.0,12.0,54.0,5.0,11.0,5.0,11.0,12.0,6.0,3.0,57.0,3.0,7.0,30.0,14.0,75.0,9.0,3.0,2.0,1.0,4.0,35.0,15.0,47.0,15.0,3.0,5.0,16.0,12.0,8.0,27.0,18.0,4.0,31.0,5.0,6.0,51.0,11.0,38.0,34.0,6.0,5.0,10.0],\"yaxis\":\"y\",\"type\":\"scatter\"},{\"hovertemplate\":\"TP_LOCALIZACAO_DIFERENCIADA=2.0<br>TP_LOCALIZACAO=2<br>QT_MAT_BAS=%{x}<br>QT_DOC_BAS=%{y}<br>QT_TUR_BAS=%{marker.size}<extra></extra>\",\"legendgroup\":\"2.0\",\"marker\":{\"color\":\"orange\",\"opacity\":0.75,\"size\":[7.0,5.0,4.0,4.0,2.0,3.0,7.0,15.0,1.0,1.0,2.0,9.0,2.0,3.0,1.0,3.0,20.0,2.0,5.0,1.0,3.0,1.0,8.0,6.0,4.0,1.0,2.0,4.0,5.0,9.0,2.0,7.0,15.0,5.0,4.0,2.0,10.0,1.0,1.0,3.0,3.0,6.0,12.0,1.0,3.0,11.0,2.0,3.0,7.0,2.0,21.0,13.0,10.0,10.0,9.0,3.0,4.0,2.0,7.0,5.0,2.0,13.0,3.0,7.0,6.0,5.0,7.0,6.0,11.0,18.0,1.0,11.0,11.0,15.0,10.0,7.0,4.0,9.0,7.0],\"sizemode\":\"area\",\"sizeref\":0.028888888888888888,\"symbol\":\"circle\"},\"mode\":\"markers\",\"name\":\"2.0\",\"orientation\":\"v\",\"showlegend\":true,\"x\":[112.0,45.0,16.0,34.0,33.0,29.0,85.0,240.0,2.0,8.0,12.0,141.0,25.0,46.0,3.0,34.0,337.0,21.0,76.0,2.0,49.0,15.0,56.0,49.0,49.0,6.0,11.0,57.0,35.0,149.0,18.0,115.0,254.0,36.0,74.0,30.0,112.0,3.0,8.0,34.0,20.0,79.0,174.0,8.0,15.0,184.0,9.0,6.0,82.0,22.0,407.0,237.0,129.0,141.0,130.0,31.0,56.0,19.0,85.0,40.0,10.0,180.0,30.0,50.0,61.0,22.0,57.0,65.0,149.0,334.0,7.0,137.0,167.0,198.0,111.0,48.0,35.0,54.0,86.0],\"xaxis\":\"x\",\"y\":[4.0,16.0,2.0,10.0,18.0,1.0,20.0,17.0,14.0,20.0,16.0,13.0,2.0,12.0,6.0,26.0,20.0,33.0,14.0,16.0,8.0,2.0,3.0,5.0,2.0,3.0,3.0,8.0,4.0,2.0,1.0,9.0,3.0,26.0,19.0,16.0,9.0,18.0,6.0,47.0,9.0,22.0,41.0,15.0,7.0,20.0,3.0,21.0,4.0,2.0,18.0,2.0,18.0,16.0,37.0,14.0,3.0,6.0,14.0,21.0,5.0,13.0,6.0,2.0,30.0,2.0,8.0,10.0,8.0,13.0,5.0,5.0,11.0,5.0,4.0,5.0,3.0,5.0,11.0],\"yaxis\":\"y\",\"type\":\"scatter\"},{\"hovertemplate\":\"TP_LOCALIZACAO_DIFERENCIADA=2.0<br>TP_LOCALIZACAO=1<br>QT_MAT_BAS=%{x}<br>QT_DOC_BAS=%{y}<br>QT_TUR_BAS=%{marker.size}<extra></extra>\",\"legendgroup\":\"2.0\",\"marker\":{\"color\":\"orange\",\"opacity\":0.75,\"size\":[1.0,3.0,2.0,3.0,2.0,13.0,4.0,2.0],\"sizemode\":\"area\",\"sizeref\":0.028888888888888888,\"symbol\":\"circle\"},\"mode\":\"markers\",\"name\":\"2.0\",\"orientation\":\"v\",\"showlegend\":false,\"x\":[11.0,17.0,20.0,9.0,4.0,58.0,38.0,13.0],\"xaxis\":\"x2\",\"y\":[2.0,23.0,11.0,15.0,20.0,33.0,11.0,3.0],\"yaxis\":\"y2\",\"type\":\"scatter\"},{\"hovertemplate\":\"TP_LOCALIZACAO_DIFERENCIADA=3.0<br>TP_LOCALIZACAO=2<br>QT_MAT_BAS=%{x}<br>QT_DOC_BAS=%{y}<br>QT_TUR_BAS=%{marker.size}<extra></extra>\",\"legendgroup\":\"3.0\",\"marker\":{\"color\":\"turquoise\",\"opacity\":0.75,\"size\":[11.0,8.0,13.0,10.0,12.0,10.0,11.0,10.0,9.0,10.0,10.0,11.0,10.0,12.0,9.0,9.0,11.0,9.0,15.0,10.0,10.0,10.0,7.0,7.0,5.0,8.0,6.0,3.0,15.0,3.0,10.0,3.0,8.0,6.0,2.0,4.0,10.0,11.0,15.0,4.0,26.0,10.0,2.0,6.0,12.0,7.0,7.0,5.0,7.0,13.0,15.0,13.0,11.0,8.0],\"sizemode\":\"area\",\"sizeref\":0.028888888888888888,\"symbol\":\"circle\"},\"mode\":\"markers\",\"name\":\"3.0\",\"orientation\":\"v\",\"showlegend\":true,\"x\":[126.0,65.0,235.0,131.0,116.0,116.0,187.0,94.0,70.0,57.0,131.0,142.0,114.0,206.0,101.0,69.0,120.0,104.0,169.0,138.0,120.0,106.0,58.0,65.0,44.0,86.0,90.0,21.0,206.0,53.0,123.0,25.0,128.0,55.0,23.0,25.0,190.0,157.0,219.0,32.0,333.0,111.0,16.0,126.0,186.0,171.0,100.0,19.0,92.0,248.0,254.0,218.0,87.0,90.0],\"xaxis\":\"x\",\"y\":[11.0,13.0,18.0,25.0,18.0,34.0,16.0,17.0,17.0,6.0,14.0,8.0,17.0,17.0,15.0,48.0,15.0,17.0,17.0,15.0,37.0,6.0,33.0,20.0,23.0,1.0,14.0,2.0,21.0,15.0,24.0,19.0,24.0,19.0,25.0,11.0,18.0,30.0,57.0,36.0,58.0,30.0,16.0,2.0,5.0,25.0,9.0,16.0,4.0,34.0,25.0,28.0,4.0,38.0],\"yaxis\":\"y\",\"type\":\"scatter\"},{\"hovertemplate\":\"TP_LOCALIZACAO_DIFERENCIADA=3.0<br>TP_LOCALIZACAO=1<br>QT_MAT_BAS=%{x}<br>QT_DOC_BAS=%{y}<br>QT_TUR_BAS=%{marker.size}<extra></extra>\",\"legendgroup\":\"3.0\",\"marker\":{\"color\":\"turquoise\",\"opacity\":0.75,\"size\":[19.0,9.0,4.0,4.0,15.0,2.0,10.0],\"sizemode\":\"area\",\"sizeref\":0.028888888888888888,\"symbol\":\"circle\"},\"mode\":\"markers\",\"name\":\"3.0\",\"orientation\":\"v\",\"showlegend\":false,\"x\":[285.0,173.0,36.0,36.0,299.0,31.0,226.0],\"xaxis\":\"x2\",\"y\":[12.0,5.0,22.0,5.0,7.0,10.0,157.0],\"yaxis\":\"y2\",\"type\":\"scatter\"}],                        {\"template\":{\"data\":{\"barpolar\":[{\"marker\":{\"line\":{\"color\":\"rgb(237,237,237)\",\"width\":0.5},\"pattern\":{\"fillmode\":\"overlay\",\"size\":10,\"solidity\":0.2}},\"type\":\"barpolar\"}],\"bar\":[{\"error_x\":{\"color\":\"rgb(51,51,51)\"},\"error_y\":{\"color\":\"rgb(51,51,51)\"},\"marker\":{\"line\":{\"color\":\"rgb(237,237,237)\",\"width\":0.5},\"pattern\":{\"fillmode\":\"overlay\",\"size\":10,\"solidity\":0.2}},\"type\":\"bar\"}],\"carpet\":[{\"aaxis\":{\"endlinecolor\":\"rgb(51,51,51)\",\"gridcolor\":\"white\",\"linecolor\":\"white\",\"minorgridcolor\":\"white\",\"startlinecolor\":\"rgb(51,51,51)\"},\"baxis\":{\"endlinecolor\":\"rgb(51,51,51)\",\"gridcolor\":\"white\",\"linecolor\":\"white\",\"minorgridcolor\":\"white\",\"startlinecolor\":\"rgb(51,51,51)\"},\"type\":\"carpet\"}],\"choropleth\":[{\"colorbar\":{\"outlinewidth\":0,\"tickcolor\":\"rgb(237,237,237)\",\"ticklen\":6,\"ticks\":\"inside\"},\"type\":\"choropleth\"}],\"contourcarpet\":[{\"colorbar\":{\"outlinewidth\":0,\"tickcolor\":\"rgb(237,237,237)\",\"ticklen\":6,\"ticks\":\"inside\"},\"type\":\"contourcarpet\"}],\"contour\":[{\"colorbar\":{\"outlinewidth\":0,\"tickcolor\":\"rgb(237,237,237)\",\"ticklen\":6,\"ticks\":\"inside\"},\"colorscale\":[[0,\"rgb(20,44,66)\"],[1,\"rgb(90,179,244)\"]],\"type\":\"contour\"}],\"heatmapgl\":[{\"colorbar\":{\"outlinewidth\":0,\"tickcolor\":\"rgb(237,237,237)\",\"ticklen\":6,\"ticks\":\"inside\"},\"colorscale\":[[0,\"rgb(20,44,66)\"],[1,\"rgb(90,179,244)\"]],\"type\":\"heatmapgl\"}],\"heatmap\":[{\"colorbar\":{\"outlinewidth\":0,\"tickcolor\":\"rgb(237,237,237)\",\"ticklen\":6,\"ticks\":\"inside\"},\"colorscale\":[[0,\"rgb(20,44,66)\"],[1,\"rgb(90,179,244)\"]],\"type\":\"heatmap\"}],\"histogram2dcontour\":[{\"colorbar\":{\"outlinewidth\":0,\"tickcolor\":\"rgb(237,237,237)\",\"ticklen\":6,\"ticks\":\"inside\"},\"colorscale\":[[0,\"rgb(20,44,66)\"],[1,\"rgb(90,179,244)\"]],\"type\":\"histogram2dcontour\"}],\"histogram2d\":[{\"colorbar\":{\"outlinewidth\":0,\"tickcolor\":\"rgb(237,237,237)\",\"ticklen\":6,\"ticks\":\"inside\"},\"colorscale\":[[0,\"rgb(20,44,66)\"],[1,\"rgb(90,179,244)\"]],\"type\":\"histogram2d\"}],\"histogram\":[{\"marker\":{\"pattern\":{\"fillmode\":\"overlay\",\"size\":10,\"solidity\":0.2}},\"type\":\"histogram\"}],\"mesh3d\":[{\"colorbar\":{\"outlinewidth\":0,\"tickcolor\":\"rgb(237,237,237)\",\"ticklen\":6,\"ticks\":\"inside\"},\"type\":\"mesh3d\"}],\"parcoords\":[{\"line\":{\"colorbar\":{\"outlinewidth\":0,\"tickcolor\":\"rgb(237,237,237)\",\"ticklen\":6,\"ticks\":\"inside\"}},\"type\":\"parcoords\"}],\"pie\":[{\"automargin\":true,\"type\":\"pie\"}],\"scatter3d\":[{\"line\":{\"colorbar\":{\"outlinewidth\":0,\"tickcolor\":\"rgb(237,237,237)\",\"ticklen\":6,\"ticks\":\"inside\"}},\"marker\":{\"colorbar\":{\"outlinewidth\":0,\"tickcolor\":\"rgb(237,237,237)\",\"ticklen\":6,\"ticks\":\"inside\"}},\"type\":\"scatter3d\"}],\"scattercarpet\":[{\"marker\":{\"colorbar\":{\"outlinewidth\":0,\"tickcolor\":\"rgb(237,237,237)\",\"ticklen\":6,\"ticks\":\"inside\"}},\"type\":\"scattercarpet\"}],\"scattergeo\":[{\"marker\":{\"colorbar\":{\"outlinewidth\":0,\"tickcolor\":\"rgb(237,237,237)\",\"ticklen\":6,\"ticks\":\"inside\"}},\"type\":\"scattergeo\"}],\"scattergl\":[{\"marker\":{\"colorbar\":{\"outlinewidth\":0,\"tickcolor\":\"rgb(237,237,237)\",\"ticklen\":6,\"ticks\":\"inside\"}},\"type\":\"scattergl\"}],\"scattermapbox\":[{\"marker\":{\"colorbar\":{\"outlinewidth\":0,\"tickcolor\":\"rgb(237,237,237)\",\"ticklen\":6,\"ticks\":\"inside\"}},\"type\":\"scattermapbox\"}],\"scatterpolargl\":[{\"marker\":{\"colorbar\":{\"outlinewidth\":0,\"tickcolor\":\"rgb(237,237,237)\",\"ticklen\":6,\"ticks\":\"inside\"}},\"type\":\"scatterpolargl\"}],\"scatterpolar\":[{\"marker\":{\"colorbar\":{\"outlinewidth\":0,\"tickcolor\":\"rgb(237,237,237)\",\"ticklen\":6,\"ticks\":\"inside\"}},\"type\":\"scatterpolar\"}],\"scatter\":[{\"marker\":{\"colorbar\":{\"outlinewidth\":0,\"tickcolor\":\"rgb(237,237,237)\",\"ticklen\":6,\"ticks\":\"inside\"}},\"type\":\"scatter\"}],\"scatterternary\":[{\"marker\":{\"colorbar\":{\"outlinewidth\":0,\"tickcolor\":\"rgb(237,237,237)\",\"ticklen\":6,\"ticks\":\"inside\"}},\"type\":\"scatterternary\"}],\"surface\":[{\"colorbar\":{\"outlinewidth\":0,\"tickcolor\":\"rgb(237,237,237)\",\"ticklen\":6,\"ticks\":\"inside\"},\"colorscale\":[[0,\"rgb(20,44,66)\"],[1,\"rgb(90,179,244)\"]],\"type\":\"surface\"}],\"table\":[{\"cells\":{\"fill\":{\"color\":\"rgb(237,237,237)\"},\"line\":{\"color\":\"white\"}},\"header\":{\"fill\":{\"color\":\"rgb(217,217,217)\"},\"line\":{\"color\":\"white\"}},\"type\":\"table\"}]},\"layout\":{\"annotationdefaults\":{\"arrowhead\":0,\"arrowwidth\":1},\"autotypenumbers\":\"strict\",\"coloraxis\":{\"colorbar\":{\"outlinewidth\":0,\"tickcolor\":\"rgb(237,237,237)\",\"ticklen\":6,\"ticks\":\"inside\"}},\"colorscale\":{\"sequential\":[[0,\"rgb(20,44,66)\"],[1,\"rgb(90,179,244)\"]],\"sequentialminus\":[[0,\"rgb(20,44,66)\"],[1,\"rgb(90,179,244)\"]]},\"colorway\":[\"#F8766D\",\"#A3A500\",\"#00BF7D\",\"#00B0F6\",\"#E76BF3\"],\"font\":{\"color\":\"rgb(51,51,51)\"},\"geo\":{\"bgcolor\":\"white\",\"lakecolor\":\"white\",\"landcolor\":\"rgb(237,237,237)\",\"showlakes\":true,\"showland\":true,\"subunitcolor\":\"white\"},\"hoverlabel\":{\"align\":\"left\"},\"hovermode\":\"closest\",\"paper_bgcolor\":\"white\",\"plot_bgcolor\":\"rgb(237,237,237)\",\"polar\":{\"angularaxis\":{\"gridcolor\":\"white\",\"linecolor\":\"white\",\"showgrid\":true,\"tickcolor\":\"rgb(51,51,51)\",\"ticks\":\"outside\"},\"bgcolor\":\"rgb(237,237,237)\",\"radialaxis\":{\"gridcolor\":\"white\",\"linecolor\":\"white\",\"showgrid\":true,\"tickcolor\":\"rgb(51,51,51)\",\"ticks\":\"outside\"}},\"scene\":{\"xaxis\":{\"backgroundcolor\":\"rgb(237,237,237)\",\"gridcolor\":\"white\",\"gridwidth\":2,\"linecolor\":\"white\",\"showbackground\":true,\"showgrid\":true,\"tickcolor\":\"rgb(51,51,51)\",\"ticks\":\"outside\",\"zerolinecolor\":\"white\"},\"yaxis\":{\"backgroundcolor\":\"rgb(237,237,237)\",\"gridcolor\":\"white\",\"gridwidth\":2,\"linecolor\":\"white\",\"showbackground\":true,\"showgrid\":true,\"tickcolor\":\"rgb(51,51,51)\",\"ticks\":\"outside\",\"zerolinecolor\":\"white\"},\"zaxis\":{\"backgroundcolor\":\"rgb(237,237,237)\",\"gridcolor\":\"white\",\"gridwidth\":2,\"linecolor\":\"white\",\"showbackground\":true,\"showgrid\":true,\"tickcolor\":\"rgb(51,51,51)\",\"ticks\":\"outside\",\"zerolinecolor\":\"white\"}},\"shapedefaults\":{\"fillcolor\":\"black\",\"line\":{\"width\":0},\"opacity\":0.3},\"ternary\":{\"aaxis\":{\"gridcolor\":\"white\",\"linecolor\":\"white\",\"showgrid\":true,\"tickcolor\":\"rgb(51,51,51)\",\"ticks\":\"outside\"},\"baxis\":{\"gridcolor\":\"white\",\"linecolor\":\"white\",\"showgrid\":true,\"tickcolor\":\"rgb(51,51,51)\",\"ticks\":\"outside\"},\"bgcolor\":\"rgb(237,237,237)\",\"caxis\":{\"gridcolor\":\"white\",\"linecolor\":\"white\",\"showgrid\":true,\"tickcolor\":\"rgb(51,51,51)\",\"ticks\":\"outside\"}},\"xaxis\":{\"automargin\":true,\"gridcolor\":\"white\",\"linecolor\":\"white\",\"showgrid\":true,\"tickcolor\":\"rgb(51,51,51)\",\"ticks\":\"outside\",\"title\":{\"standoff\":15},\"zerolinecolor\":\"white\"},\"yaxis\":{\"automargin\":true,\"gridcolor\":\"white\",\"linecolor\":\"white\",\"showgrid\":true,\"tickcolor\":\"rgb(51,51,51)\",\"ticks\":\"outside\",\"title\":{\"standoff\":15},\"zerolinecolor\":\"white\"}}},\"xaxis\":{\"anchor\":\"y\",\"domain\":[0.0,0.49],\"title\":{\"text\":\"QT_MAT_BAS\",\"font\":{\"size\":14}},\"tickfont\":{\"size\":11}},\"yaxis\":{\"anchor\":\"x\",\"domain\":[0.0,1.0],\"title\":{\"text\":\"QT_DOC_BAS\",\"font\":{\"size\":14}},\"tickfont\":{\"size\":11}},\"xaxis2\":{\"anchor\":\"y2\",\"domain\":[0.51,1.0],\"matches\":\"x\",\"title\":{\"text\":\"QT_MAT_BAS\"}},\"yaxis2\":{\"anchor\":\"x2\",\"domain\":[0.0,1.0],\"matches\":\"y\",\"showticklabels\":false},\"annotations\":[{\"font\":{},\"showarrow\":false,\"text\":\"TP_LOCALIZACAO=2\",\"x\":0.245,\"xanchor\":\"center\",\"xref\":\"paper\",\"y\":1.0,\"yanchor\":\"bottom\",\"yref\":\"paper\"},{\"font\":{},\"showarrow\":false,\"text\":\"TP_LOCALIZACAO=1\",\"x\":0.755,\"xanchor\":\"center\",\"xref\":\"paper\",\"y\":1.0,\"yanchor\":\"bottom\",\"yref\":\"paper\"}],\"legend\":{\"title\":{\"text\":\"TP_LOCALIZACAO_DIFERENCIADA\"},\"tracegroupgap\":0,\"itemsizing\":\"constant\"},\"margin\":{\"t\":60},\"title\":{\"text\":\"<b>Censo Escolar 2021: An\\u00e1lise de Localiza\\u00e7\\u00e3o Diferenciada (RS)</b>\"}},                        {\"responsive\": true}                    ).then(function(){\n",
              "                            \n",
              "var gd = document.getElementById('44955fad-efb8-4634-8277-556372d43992');\n",
              "var x = new MutationObserver(function (mutations, observer) {{\n",
              "        var display = window.getComputedStyle(gd).display;\n",
              "        if (!display || display === 'none') {{\n",
              "            console.log([gd, 'removed!']);\n",
              "            Plotly.purge(gd);\n",
              "            observer.disconnect();\n",
              "        }}\n",
              "}});\n",
              "\n",
              "// Listen for the removal of the full notebook cells\n",
              "var notebookContainer = gd.closest('#notebook-container');\n",
              "if (notebookContainer) {{\n",
              "    x.observe(notebookContainer, {childList: true});\n",
              "}}\n",
              "\n",
              "// Listen for the clearing of the current output cell\n",
              "var outputEl = gd.closest('.output');\n",
              "if (outputEl) {{\n",
              "    x.observe(outputEl, {childList: true});\n",
              "}}\n",
              "\n",
              "                        })                };                            </script>        </div>\n",
              "</body>\n",
              "</html>"
            ]
          },
          "metadata": {}
        }
      ]
    },
    {
      "cell_type": "markdown",
      "source": [
        "##### Definindo tamanho do gráfico"
      ],
      "metadata": {
        "id": "SlNT8V4jbyHO"
      }
    },
    {
      "cell_type": "code",
      "source": [
        "fig.update_layout(height = 600, width = 1200)"
      ],
      "metadata": {
        "colab": {
          "base_uri": "https://localhost:8080/",
          "height": 637
        },
        "id": "BqKndoHHWHbi",
        "outputId": "5401c330-a6b4-4cb9-a985-78c5099cdfbc"
      },
      "execution_count": 10,
      "outputs": [
        {
          "output_type": "display_data",
          "data": {
            "text/html": [
              "<html>\n",
              "<head><meta charset=\"utf-8\" /></head>\n",
              "<body>\n",
              "    <div>            <script src=\"https://cdnjs.cloudflare.com/ajax/libs/mathjax/2.7.5/MathJax.js?config=TeX-AMS-MML_SVG\"></script><script type=\"text/javascript\">if (window.MathJax) {MathJax.Hub.Config({SVG: {font: \"STIX-Web\"}});}</script>                <script type=\"text/javascript\">window.PlotlyConfig = {MathJaxConfig: 'local'};</script>\n",
              "        <script src=\"https://cdn.plot.ly/plotly-2.8.3.min.js\"></script>                <div id=\"c21143cb-ca81-4b78-8cf3-ff5e76390c23\" class=\"plotly-graph-div\" style=\"height:600px; width:1200px;\"></div>            <script type=\"text/javascript\">                                    window.PLOTLYENV=window.PLOTLYENV || {};                                    if (document.getElementById(\"c21143cb-ca81-4b78-8cf3-ff5e76390c23\")) {                    Plotly.newPlot(                        \"c21143cb-ca81-4b78-8cf3-ff5e76390c23\",                        [{\"hovertemplate\":\"TP_LOCALIZACAO_DIFERENCIADA=1.0<br>TP_LOCALIZACAO=2<br>QT_MAT_BAS=%{x}<br>QT_DOC_BAS=%{y}<br>QT_TUR_BAS=%{marker.size}<extra></extra>\",\"legendgroup\":\"1.0\",\"marker\":{\"color\":\"brown\",\"opacity\":0.75,\"size\":[4.0,7.0,4.0,2.0,10.0,11.0,6.0,3.0,7.0,6.0,5.0,5.0,4.0,4.0,6.0,4.0,1.0,11.0,4.0,11.0,5.0,6.0,9.0,8.0,4.0,13.0,10.0,5.0,8.0,4.0,13.0,4.0,9.0,3.0,7.0,4.0,16.0,2.0,11.0,11.0,10.0,2.0,3.0,10.0,1.0,1.0,4.0,2.0,8.0,6.0,12.0,3.0,8.0,2.0,9.0,11.0,3.0,12.0,4.0,3.0,11.0,10.0,11.0,3.0,11.0],\"sizemode\":\"area\",\"sizeref\":0.028888888888888888,\"symbol\":\"circle\"},\"mode\":\"markers\",\"name\":\"1.0\",\"orientation\":\"v\",\"showlegend\":true,\"x\":[32.0,64.0,31.0,12.0,150.0,270.0,73.0,35.0,62.0,62.0,32.0,6.0,29.0,23.0,45.0,42.0,12.0,242.0,38.0,132.0,51.0,39.0,98.0,58.0,48.0,105.0,158.0,64.0,67.0,38.0,201.0,22.0,83.0,29.0,78.0,87.0,350.0,25.0,31.0,81.0,36.0,12.0,21.0,128.0,14.0,7.0,30.0,10.0,69.0,88.0,179.0,21.0,105.0,14.0,76.0,85.0,35.0,153.0,52.0,33.0,74.0,53.0,65.0,21.0,277.0],\"xaxis\":\"x\",\"y\":[6.0,47.0,14.0,9.0,7.0,17.0,6.0,5.0,6.0,10.0,13.0,27.0,9.0,8.0,13.0,39.0,45.0,16.0,24.0,5.0,12.0,13.0,34.0,12.0,54.0,5.0,11.0,5.0,11.0,12.0,6.0,3.0,57.0,3.0,7.0,30.0,14.0,75.0,9.0,3.0,2.0,1.0,4.0,35.0,15.0,47.0,15.0,3.0,5.0,16.0,12.0,8.0,27.0,18.0,4.0,31.0,5.0,6.0,51.0,11.0,38.0,34.0,6.0,5.0,10.0],\"yaxis\":\"y\",\"type\":\"scatter\"},{\"hovertemplate\":\"TP_LOCALIZACAO_DIFERENCIADA=2.0<br>TP_LOCALIZACAO=2<br>QT_MAT_BAS=%{x}<br>QT_DOC_BAS=%{y}<br>QT_TUR_BAS=%{marker.size}<extra></extra>\",\"legendgroup\":\"2.0\",\"marker\":{\"color\":\"orange\",\"opacity\":0.75,\"size\":[7.0,5.0,4.0,4.0,2.0,3.0,7.0,15.0,1.0,1.0,2.0,9.0,2.0,3.0,1.0,3.0,20.0,2.0,5.0,1.0,3.0,1.0,8.0,6.0,4.0,1.0,2.0,4.0,5.0,9.0,2.0,7.0,15.0,5.0,4.0,2.0,10.0,1.0,1.0,3.0,3.0,6.0,12.0,1.0,3.0,11.0,2.0,3.0,7.0,2.0,21.0,13.0,10.0,10.0,9.0,3.0,4.0,2.0,7.0,5.0,2.0,13.0,3.0,7.0,6.0,5.0,7.0,6.0,11.0,18.0,1.0,11.0,11.0,15.0,10.0,7.0,4.0,9.0,7.0],\"sizemode\":\"area\",\"sizeref\":0.028888888888888888,\"symbol\":\"circle\"},\"mode\":\"markers\",\"name\":\"2.0\",\"orientation\":\"v\",\"showlegend\":true,\"x\":[112.0,45.0,16.0,34.0,33.0,29.0,85.0,240.0,2.0,8.0,12.0,141.0,25.0,46.0,3.0,34.0,337.0,21.0,76.0,2.0,49.0,15.0,56.0,49.0,49.0,6.0,11.0,57.0,35.0,149.0,18.0,115.0,254.0,36.0,74.0,30.0,112.0,3.0,8.0,34.0,20.0,79.0,174.0,8.0,15.0,184.0,9.0,6.0,82.0,22.0,407.0,237.0,129.0,141.0,130.0,31.0,56.0,19.0,85.0,40.0,10.0,180.0,30.0,50.0,61.0,22.0,57.0,65.0,149.0,334.0,7.0,137.0,167.0,198.0,111.0,48.0,35.0,54.0,86.0],\"xaxis\":\"x\",\"y\":[4.0,16.0,2.0,10.0,18.0,1.0,20.0,17.0,14.0,20.0,16.0,13.0,2.0,12.0,6.0,26.0,20.0,33.0,14.0,16.0,8.0,2.0,3.0,5.0,2.0,3.0,3.0,8.0,4.0,2.0,1.0,9.0,3.0,26.0,19.0,16.0,9.0,18.0,6.0,47.0,9.0,22.0,41.0,15.0,7.0,20.0,3.0,21.0,4.0,2.0,18.0,2.0,18.0,16.0,37.0,14.0,3.0,6.0,14.0,21.0,5.0,13.0,6.0,2.0,30.0,2.0,8.0,10.0,8.0,13.0,5.0,5.0,11.0,5.0,4.0,5.0,3.0,5.0,11.0],\"yaxis\":\"y\",\"type\":\"scatter\"},{\"hovertemplate\":\"TP_LOCALIZACAO_DIFERENCIADA=2.0<br>TP_LOCALIZACAO=1<br>QT_MAT_BAS=%{x}<br>QT_DOC_BAS=%{y}<br>QT_TUR_BAS=%{marker.size}<extra></extra>\",\"legendgroup\":\"2.0\",\"marker\":{\"color\":\"orange\",\"opacity\":0.75,\"size\":[1.0,3.0,2.0,3.0,2.0,13.0,4.0,2.0],\"sizemode\":\"area\",\"sizeref\":0.028888888888888888,\"symbol\":\"circle\"},\"mode\":\"markers\",\"name\":\"2.0\",\"orientation\":\"v\",\"showlegend\":false,\"x\":[11.0,17.0,20.0,9.0,4.0,58.0,38.0,13.0],\"xaxis\":\"x2\",\"y\":[2.0,23.0,11.0,15.0,20.0,33.0,11.0,3.0],\"yaxis\":\"y2\",\"type\":\"scatter\"},{\"hovertemplate\":\"TP_LOCALIZACAO_DIFERENCIADA=3.0<br>TP_LOCALIZACAO=2<br>QT_MAT_BAS=%{x}<br>QT_DOC_BAS=%{y}<br>QT_TUR_BAS=%{marker.size}<extra></extra>\",\"legendgroup\":\"3.0\",\"marker\":{\"color\":\"turquoise\",\"opacity\":0.75,\"size\":[11.0,8.0,13.0,10.0,12.0,10.0,11.0,10.0,9.0,10.0,10.0,11.0,10.0,12.0,9.0,9.0,11.0,9.0,15.0,10.0,10.0,10.0,7.0,7.0,5.0,8.0,6.0,3.0,15.0,3.0,10.0,3.0,8.0,6.0,2.0,4.0,10.0,11.0,15.0,4.0,26.0,10.0,2.0,6.0,12.0,7.0,7.0,5.0,7.0,13.0,15.0,13.0,11.0,8.0],\"sizemode\":\"area\",\"sizeref\":0.028888888888888888,\"symbol\":\"circle\"},\"mode\":\"markers\",\"name\":\"3.0\",\"orientation\":\"v\",\"showlegend\":true,\"x\":[126.0,65.0,235.0,131.0,116.0,116.0,187.0,94.0,70.0,57.0,131.0,142.0,114.0,206.0,101.0,69.0,120.0,104.0,169.0,138.0,120.0,106.0,58.0,65.0,44.0,86.0,90.0,21.0,206.0,53.0,123.0,25.0,128.0,55.0,23.0,25.0,190.0,157.0,219.0,32.0,333.0,111.0,16.0,126.0,186.0,171.0,100.0,19.0,92.0,248.0,254.0,218.0,87.0,90.0],\"xaxis\":\"x\",\"y\":[11.0,13.0,18.0,25.0,18.0,34.0,16.0,17.0,17.0,6.0,14.0,8.0,17.0,17.0,15.0,48.0,15.0,17.0,17.0,15.0,37.0,6.0,33.0,20.0,23.0,1.0,14.0,2.0,21.0,15.0,24.0,19.0,24.0,19.0,25.0,11.0,18.0,30.0,57.0,36.0,58.0,30.0,16.0,2.0,5.0,25.0,9.0,16.0,4.0,34.0,25.0,28.0,4.0,38.0],\"yaxis\":\"y\",\"type\":\"scatter\"},{\"hovertemplate\":\"TP_LOCALIZACAO_DIFERENCIADA=3.0<br>TP_LOCALIZACAO=1<br>QT_MAT_BAS=%{x}<br>QT_DOC_BAS=%{y}<br>QT_TUR_BAS=%{marker.size}<extra></extra>\",\"legendgroup\":\"3.0\",\"marker\":{\"color\":\"turquoise\",\"opacity\":0.75,\"size\":[19.0,9.0,4.0,4.0,15.0,2.0,10.0],\"sizemode\":\"area\",\"sizeref\":0.028888888888888888,\"symbol\":\"circle\"},\"mode\":\"markers\",\"name\":\"3.0\",\"orientation\":\"v\",\"showlegend\":false,\"x\":[285.0,173.0,36.0,36.0,299.0,31.0,226.0],\"xaxis\":\"x2\",\"y\":[12.0,5.0,22.0,5.0,7.0,10.0,157.0],\"yaxis\":\"y2\",\"type\":\"scatter\"}],                        {\"template\":{\"data\":{\"barpolar\":[{\"marker\":{\"line\":{\"color\":\"rgb(237,237,237)\",\"width\":0.5},\"pattern\":{\"fillmode\":\"overlay\",\"size\":10,\"solidity\":0.2}},\"type\":\"barpolar\"}],\"bar\":[{\"error_x\":{\"color\":\"rgb(51,51,51)\"},\"error_y\":{\"color\":\"rgb(51,51,51)\"},\"marker\":{\"line\":{\"color\":\"rgb(237,237,237)\",\"width\":0.5},\"pattern\":{\"fillmode\":\"overlay\",\"size\":10,\"solidity\":0.2}},\"type\":\"bar\"}],\"carpet\":[{\"aaxis\":{\"endlinecolor\":\"rgb(51,51,51)\",\"gridcolor\":\"white\",\"linecolor\":\"white\",\"minorgridcolor\":\"white\",\"startlinecolor\":\"rgb(51,51,51)\"},\"baxis\":{\"endlinecolor\":\"rgb(51,51,51)\",\"gridcolor\":\"white\",\"linecolor\":\"white\",\"minorgridcolor\":\"white\",\"startlinecolor\":\"rgb(51,51,51)\"},\"type\":\"carpet\"}],\"choropleth\":[{\"colorbar\":{\"outlinewidth\":0,\"tickcolor\":\"rgb(237,237,237)\",\"ticklen\":6,\"ticks\":\"inside\"},\"type\":\"choropleth\"}],\"contourcarpet\":[{\"colorbar\":{\"outlinewidth\":0,\"tickcolor\":\"rgb(237,237,237)\",\"ticklen\":6,\"ticks\":\"inside\"},\"type\":\"contourcarpet\"}],\"contour\":[{\"colorbar\":{\"outlinewidth\":0,\"tickcolor\":\"rgb(237,237,237)\",\"ticklen\":6,\"ticks\":\"inside\"},\"colorscale\":[[0,\"rgb(20,44,66)\"],[1,\"rgb(90,179,244)\"]],\"type\":\"contour\"}],\"heatmapgl\":[{\"colorbar\":{\"outlinewidth\":0,\"tickcolor\":\"rgb(237,237,237)\",\"ticklen\":6,\"ticks\":\"inside\"},\"colorscale\":[[0,\"rgb(20,44,66)\"],[1,\"rgb(90,179,244)\"]],\"type\":\"heatmapgl\"}],\"heatmap\":[{\"colorbar\":{\"outlinewidth\":0,\"tickcolor\":\"rgb(237,237,237)\",\"ticklen\":6,\"ticks\":\"inside\"},\"colorscale\":[[0,\"rgb(20,44,66)\"],[1,\"rgb(90,179,244)\"]],\"type\":\"heatmap\"}],\"histogram2dcontour\":[{\"colorbar\":{\"outlinewidth\":0,\"tickcolor\":\"rgb(237,237,237)\",\"ticklen\":6,\"ticks\":\"inside\"},\"colorscale\":[[0,\"rgb(20,44,66)\"],[1,\"rgb(90,179,244)\"]],\"type\":\"histogram2dcontour\"}],\"histogram2d\":[{\"colorbar\":{\"outlinewidth\":0,\"tickcolor\":\"rgb(237,237,237)\",\"ticklen\":6,\"ticks\":\"inside\"},\"colorscale\":[[0,\"rgb(20,44,66)\"],[1,\"rgb(90,179,244)\"]],\"type\":\"histogram2d\"}],\"histogram\":[{\"marker\":{\"pattern\":{\"fillmode\":\"overlay\",\"size\":10,\"solidity\":0.2}},\"type\":\"histogram\"}],\"mesh3d\":[{\"colorbar\":{\"outlinewidth\":0,\"tickcolor\":\"rgb(237,237,237)\",\"ticklen\":6,\"ticks\":\"inside\"},\"type\":\"mesh3d\"}],\"parcoords\":[{\"line\":{\"colorbar\":{\"outlinewidth\":0,\"tickcolor\":\"rgb(237,237,237)\",\"ticklen\":6,\"ticks\":\"inside\"}},\"type\":\"parcoords\"}],\"pie\":[{\"automargin\":true,\"type\":\"pie\"}],\"scatter3d\":[{\"line\":{\"colorbar\":{\"outlinewidth\":0,\"tickcolor\":\"rgb(237,237,237)\",\"ticklen\":6,\"ticks\":\"inside\"}},\"marker\":{\"colorbar\":{\"outlinewidth\":0,\"tickcolor\":\"rgb(237,237,237)\",\"ticklen\":6,\"ticks\":\"inside\"}},\"type\":\"scatter3d\"}],\"scattercarpet\":[{\"marker\":{\"colorbar\":{\"outlinewidth\":0,\"tickcolor\":\"rgb(237,237,237)\",\"ticklen\":6,\"ticks\":\"inside\"}},\"type\":\"scattercarpet\"}],\"scattergeo\":[{\"marker\":{\"colorbar\":{\"outlinewidth\":0,\"tickcolor\":\"rgb(237,237,237)\",\"ticklen\":6,\"ticks\":\"inside\"}},\"type\":\"scattergeo\"}],\"scattergl\":[{\"marker\":{\"colorbar\":{\"outlinewidth\":0,\"tickcolor\":\"rgb(237,237,237)\",\"ticklen\":6,\"ticks\":\"inside\"}},\"type\":\"scattergl\"}],\"scattermapbox\":[{\"marker\":{\"colorbar\":{\"outlinewidth\":0,\"tickcolor\":\"rgb(237,237,237)\",\"ticklen\":6,\"ticks\":\"inside\"}},\"type\":\"scattermapbox\"}],\"scatterpolargl\":[{\"marker\":{\"colorbar\":{\"outlinewidth\":0,\"tickcolor\":\"rgb(237,237,237)\",\"ticklen\":6,\"ticks\":\"inside\"}},\"type\":\"scatterpolargl\"}],\"scatterpolar\":[{\"marker\":{\"colorbar\":{\"outlinewidth\":0,\"tickcolor\":\"rgb(237,237,237)\",\"ticklen\":6,\"ticks\":\"inside\"}},\"type\":\"scatterpolar\"}],\"scatter\":[{\"marker\":{\"colorbar\":{\"outlinewidth\":0,\"tickcolor\":\"rgb(237,237,237)\",\"ticklen\":6,\"ticks\":\"inside\"}},\"type\":\"scatter\"}],\"scatterternary\":[{\"marker\":{\"colorbar\":{\"outlinewidth\":0,\"tickcolor\":\"rgb(237,237,237)\",\"ticklen\":6,\"ticks\":\"inside\"}},\"type\":\"scatterternary\"}],\"surface\":[{\"colorbar\":{\"outlinewidth\":0,\"tickcolor\":\"rgb(237,237,237)\",\"ticklen\":6,\"ticks\":\"inside\"},\"colorscale\":[[0,\"rgb(20,44,66)\"],[1,\"rgb(90,179,244)\"]],\"type\":\"surface\"}],\"table\":[{\"cells\":{\"fill\":{\"color\":\"rgb(237,237,237)\"},\"line\":{\"color\":\"white\"}},\"header\":{\"fill\":{\"color\":\"rgb(217,217,217)\"},\"line\":{\"color\":\"white\"}},\"type\":\"table\"}]},\"layout\":{\"annotationdefaults\":{\"arrowhead\":0,\"arrowwidth\":1},\"autotypenumbers\":\"strict\",\"coloraxis\":{\"colorbar\":{\"outlinewidth\":0,\"tickcolor\":\"rgb(237,237,237)\",\"ticklen\":6,\"ticks\":\"inside\"}},\"colorscale\":{\"sequential\":[[0,\"rgb(20,44,66)\"],[1,\"rgb(90,179,244)\"]],\"sequentialminus\":[[0,\"rgb(20,44,66)\"],[1,\"rgb(90,179,244)\"]]},\"colorway\":[\"#F8766D\",\"#A3A500\",\"#00BF7D\",\"#00B0F6\",\"#E76BF3\"],\"font\":{\"color\":\"rgb(51,51,51)\"},\"geo\":{\"bgcolor\":\"white\",\"lakecolor\":\"white\",\"landcolor\":\"rgb(237,237,237)\",\"showlakes\":true,\"showland\":true,\"subunitcolor\":\"white\"},\"hoverlabel\":{\"align\":\"left\"},\"hovermode\":\"closest\",\"paper_bgcolor\":\"white\",\"plot_bgcolor\":\"rgb(237,237,237)\",\"polar\":{\"angularaxis\":{\"gridcolor\":\"white\",\"linecolor\":\"white\",\"showgrid\":true,\"tickcolor\":\"rgb(51,51,51)\",\"ticks\":\"outside\"},\"bgcolor\":\"rgb(237,237,237)\",\"radialaxis\":{\"gridcolor\":\"white\",\"linecolor\":\"white\",\"showgrid\":true,\"tickcolor\":\"rgb(51,51,51)\",\"ticks\":\"outside\"}},\"scene\":{\"xaxis\":{\"backgroundcolor\":\"rgb(237,237,237)\",\"gridcolor\":\"white\",\"gridwidth\":2,\"linecolor\":\"white\",\"showbackground\":true,\"showgrid\":true,\"tickcolor\":\"rgb(51,51,51)\",\"ticks\":\"outside\",\"zerolinecolor\":\"white\"},\"yaxis\":{\"backgroundcolor\":\"rgb(237,237,237)\",\"gridcolor\":\"white\",\"gridwidth\":2,\"linecolor\":\"white\",\"showbackground\":true,\"showgrid\":true,\"tickcolor\":\"rgb(51,51,51)\",\"ticks\":\"outside\",\"zerolinecolor\":\"white\"},\"zaxis\":{\"backgroundcolor\":\"rgb(237,237,237)\",\"gridcolor\":\"white\",\"gridwidth\":2,\"linecolor\":\"white\",\"showbackground\":true,\"showgrid\":true,\"tickcolor\":\"rgb(51,51,51)\",\"ticks\":\"outside\",\"zerolinecolor\":\"white\"}},\"shapedefaults\":{\"fillcolor\":\"black\",\"line\":{\"width\":0},\"opacity\":0.3},\"ternary\":{\"aaxis\":{\"gridcolor\":\"white\",\"linecolor\":\"white\",\"showgrid\":true,\"tickcolor\":\"rgb(51,51,51)\",\"ticks\":\"outside\"},\"baxis\":{\"gridcolor\":\"white\",\"linecolor\":\"white\",\"showgrid\":true,\"tickcolor\":\"rgb(51,51,51)\",\"ticks\":\"outside\"},\"bgcolor\":\"rgb(237,237,237)\",\"caxis\":{\"gridcolor\":\"white\",\"linecolor\":\"white\",\"showgrid\":true,\"tickcolor\":\"rgb(51,51,51)\",\"ticks\":\"outside\"}},\"xaxis\":{\"automargin\":true,\"gridcolor\":\"white\",\"linecolor\":\"white\",\"showgrid\":true,\"tickcolor\":\"rgb(51,51,51)\",\"ticks\":\"outside\",\"title\":{\"standoff\":15},\"zerolinecolor\":\"white\"},\"yaxis\":{\"automargin\":true,\"gridcolor\":\"white\",\"linecolor\":\"white\",\"showgrid\":true,\"tickcolor\":\"rgb(51,51,51)\",\"ticks\":\"outside\",\"title\":{\"standoff\":15},\"zerolinecolor\":\"white\"}}},\"xaxis\":{\"anchor\":\"y\",\"domain\":[0.0,0.49],\"title\":{\"text\":\"QT_MAT_BAS\",\"font\":{\"size\":14}},\"tickfont\":{\"size\":11}},\"yaxis\":{\"anchor\":\"x\",\"domain\":[0.0,1.0],\"title\":{\"text\":\"QT_DOC_BAS\",\"font\":{\"size\":14}},\"tickfont\":{\"size\":11}},\"xaxis2\":{\"anchor\":\"y2\",\"domain\":[0.51,1.0],\"matches\":\"x\",\"title\":{\"text\":\"QT_MAT_BAS\"}},\"yaxis2\":{\"anchor\":\"x2\",\"domain\":[0.0,1.0],\"matches\":\"y\",\"showticklabels\":false},\"annotations\":[{\"font\":{},\"showarrow\":false,\"text\":\"TP_LOCALIZACAO=2\",\"x\":0.245,\"xanchor\":\"center\",\"xref\":\"paper\",\"y\":1.0,\"yanchor\":\"bottom\",\"yref\":\"paper\"},{\"font\":{},\"showarrow\":false,\"text\":\"TP_LOCALIZACAO=1\",\"x\":0.755,\"xanchor\":\"center\",\"xref\":\"paper\",\"y\":1.0,\"yanchor\":\"bottom\",\"yref\":\"paper\"}],\"legend\":{\"title\":{\"text\":\"TP_LOCALIZACAO_DIFERENCIADA\"},\"tracegroupgap\":0,\"itemsizing\":\"constant\"},\"margin\":{\"t\":60},\"title\":{\"text\":\"<b>Censo Escolar 2021: An\\u00e1lise de Localiza\\u00e7\\u00e3o Diferenciada (RS)</b>\"},\"height\":600,\"width\":1200},                        {\"responsive\": true}                    ).then(function(){\n",
              "                            \n",
              "var gd = document.getElementById('c21143cb-ca81-4b78-8cf3-ff5e76390c23');\n",
              "var x = new MutationObserver(function (mutations, observer) {{\n",
              "        var display = window.getComputedStyle(gd).display;\n",
              "        if (!display || display === 'none') {{\n",
              "            console.log([gd, 'removed!']);\n",
              "            Plotly.purge(gd);\n",
              "            observer.disconnect();\n",
              "        }}\n",
              "}});\n",
              "\n",
              "// Listen for the removal of the full notebook cells\n",
              "var notebookContainer = gd.closest('#notebook-container');\n",
              "if (notebookContainer) {{\n",
              "    x.observe(notebookContainer, {childList: true});\n",
              "}}\n",
              "\n",
              "// Listen for the clearing of the current output cell\n",
              "var outputEl = gd.closest('.output');\n",
              "if (outputEl) {{\n",
              "    x.observe(outputEl, {childList: true});\n",
              "}}\n",
              "\n",
              "                        })                };                            </script>        </div>\n",
              "</body>\n",
              "</html>"
            ]
          },
          "metadata": {}
        }
      ]
    },
    {
      "cell_type": "markdown",
      "source": [
        "##### Definindo local da legenda e significado conforme dicionário"
      ],
      "metadata": {
        "id": "mx6Sou7hb5An"
      }
    },
    {
      "cell_type": "code",
      "source": [
        "fig.update_layout(\n",
        "    legend=dict(\n",
        "        orientation = 'h', \n",
        "        yanchor = 'top',\n",
        "        y = -.2,\n",
        "        xanchor = 'center',\n",
        "        x = 0.5\n",
        "    )\n",
        ")\n",
        "sig_entidades = {'1.0':'Área de Assentamento', '2.0': 'Terra Indígena', \n",
        "                 '3.0': 'Remanescentes Quilombolas'}\n",
        "\n",
        "fig.for_each_trace(\n",
        "    lambda e: e.update(\n",
        "    name = sig_entidades[e.name],\n",
        "    legendgroup = sig_entidades[e.name]\n",
        "    )\n",
        ")"
      ],
      "metadata": {
        "colab": {
          "base_uri": "https://localhost:8080/",
          "height": 637
        },
        "id": "T7pDJR76WlQQ",
        "outputId": "053fa98c-26dd-4d16-8be6-943160f8b4c0"
      },
      "execution_count": 11,
      "outputs": [
        {
          "output_type": "display_data",
          "data": {
            "text/html": [
              "<html>\n",
              "<head><meta charset=\"utf-8\" /></head>\n",
              "<body>\n",
              "    <div>            <script src=\"https://cdnjs.cloudflare.com/ajax/libs/mathjax/2.7.5/MathJax.js?config=TeX-AMS-MML_SVG\"></script><script type=\"text/javascript\">if (window.MathJax) {MathJax.Hub.Config({SVG: {font: \"STIX-Web\"}});}</script>                <script type=\"text/javascript\">window.PlotlyConfig = {MathJaxConfig: 'local'};</script>\n",
              "        <script src=\"https://cdn.plot.ly/plotly-2.8.3.min.js\"></script>                <div id=\"40fbe478-52e0-40cc-86f6-99bedb4d243b\" class=\"plotly-graph-div\" style=\"height:600px; width:1200px;\"></div>            <script type=\"text/javascript\">                                    window.PLOTLYENV=window.PLOTLYENV || {};                                    if (document.getElementById(\"40fbe478-52e0-40cc-86f6-99bedb4d243b\")) {                    Plotly.newPlot(                        \"40fbe478-52e0-40cc-86f6-99bedb4d243b\",                        [{\"hovertemplate\":\"TP_LOCALIZACAO_DIFERENCIADA=1.0<br>TP_LOCALIZACAO=2<br>QT_MAT_BAS=%{x}<br>QT_DOC_BAS=%{y}<br>QT_TUR_BAS=%{marker.size}<extra></extra>\",\"legendgroup\":\"\\u00c1rea de Assentamento\",\"marker\":{\"color\":\"brown\",\"opacity\":0.75,\"size\":[4.0,7.0,4.0,2.0,10.0,11.0,6.0,3.0,7.0,6.0,5.0,5.0,4.0,4.0,6.0,4.0,1.0,11.0,4.0,11.0,5.0,6.0,9.0,8.0,4.0,13.0,10.0,5.0,8.0,4.0,13.0,4.0,9.0,3.0,7.0,4.0,16.0,2.0,11.0,11.0,10.0,2.0,3.0,10.0,1.0,1.0,4.0,2.0,8.0,6.0,12.0,3.0,8.0,2.0,9.0,11.0,3.0,12.0,4.0,3.0,11.0,10.0,11.0,3.0,11.0],\"sizemode\":\"area\",\"sizeref\":0.028888888888888888,\"symbol\":\"circle\"},\"mode\":\"markers\",\"name\":\"\\u00c1rea de Assentamento\",\"orientation\":\"v\",\"showlegend\":true,\"x\":[32.0,64.0,31.0,12.0,150.0,270.0,73.0,35.0,62.0,62.0,32.0,6.0,29.0,23.0,45.0,42.0,12.0,242.0,38.0,132.0,51.0,39.0,98.0,58.0,48.0,105.0,158.0,64.0,67.0,38.0,201.0,22.0,83.0,29.0,78.0,87.0,350.0,25.0,31.0,81.0,36.0,12.0,21.0,128.0,14.0,7.0,30.0,10.0,69.0,88.0,179.0,21.0,105.0,14.0,76.0,85.0,35.0,153.0,52.0,33.0,74.0,53.0,65.0,21.0,277.0],\"xaxis\":\"x\",\"y\":[6.0,47.0,14.0,9.0,7.0,17.0,6.0,5.0,6.0,10.0,13.0,27.0,9.0,8.0,13.0,39.0,45.0,16.0,24.0,5.0,12.0,13.0,34.0,12.0,54.0,5.0,11.0,5.0,11.0,12.0,6.0,3.0,57.0,3.0,7.0,30.0,14.0,75.0,9.0,3.0,2.0,1.0,4.0,35.0,15.0,47.0,15.0,3.0,5.0,16.0,12.0,8.0,27.0,18.0,4.0,31.0,5.0,6.0,51.0,11.0,38.0,34.0,6.0,5.0,10.0],\"yaxis\":\"y\",\"type\":\"scatter\"},{\"hovertemplate\":\"TP_LOCALIZACAO_DIFERENCIADA=2.0<br>TP_LOCALIZACAO=2<br>QT_MAT_BAS=%{x}<br>QT_DOC_BAS=%{y}<br>QT_TUR_BAS=%{marker.size}<extra></extra>\",\"legendgroup\":\"Terra Ind\\u00edgena\",\"marker\":{\"color\":\"orange\",\"opacity\":0.75,\"size\":[7.0,5.0,4.0,4.0,2.0,3.0,7.0,15.0,1.0,1.0,2.0,9.0,2.0,3.0,1.0,3.0,20.0,2.0,5.0,1.0,3.0,1.0,8.0,6.0,4.0,1.0,2.0,4.0,5.0,9.0,2.0,7.0,15.0,5.0,4.0,2.0,10.0,1.0,1.0,3.0,3.0,6.0,12.0,1.0,3.0,11.0,2.0,3.0,7.0,2.0,21.0,13.0,10.0,10.0,9.0,3.0,4.0,2.0,7.0,5.0,2.0,13.0,3.0,7.0,6.0,5.0,7.0,6.0,11.0,18.0,1.0,11.0,11.0,15.0,10.0,7.0,4.0,9.0,7.0],\"sizemode\":\"area\",\"sizeref\":0.028888888888888888,\"symbol\":\"circle\"},\"mode\":\"markers\",\"name\":\"Terra Ind\\u00edgena\",\"orientation\":\"v\",\"showlegend\":true,\"x\":[112.0,45.0,16.0,34.0,33.0,29.0,85.0,240.0,2.0,8.0,12.0,141.0,25.0,46.0,3.0,34.0,337.0,21.0,76.0,2.0,49.0,15.0,56.0,49.0,49.0,6.0,11.0,57.0,35.0,149.0,18.0,115.0,254.0,36.0,74.0,30.0,112.0,3.0,8.0,34.0,20.0,79.0,174.0,8.0,15.0,184.0,9.0,6.0,82.0,22.0,407.0,237.0,129.0,141.0,130.0,31.0,56.0,19.0,85.0,40.0,10.0,180.0,30.0,50.0,61.0,22.0,57.0,65.0,149.0,334.0,7.0,137.0,167.0,198.0,111.0,48.0,35.0,54.0,86.0],\"xaxis\":\"x\",\"y\":[4.0,16.0,2.0,10.0,18.0,1.0,20.0,17.0,14.0,20.0,16.0,13.0,2.0,12.0,6.0,26.0,20.0,33.0,14.0,16.0,8.0,2.0,3.0,5.0,2.0,3.0,3.0,8.0,4.0,2.0,1.0,9.0,3.0,26.0,19.0,16.0,9.0,18.0,6.0,47.0,9.0,22.0,41.0,15.0,7.0,20.0,3.0,21.0,4.0,2.0,18.0,2.0,18.0,16.0,37.0,14.0,3.0,6.0,14.0,21.0,5.0,13.0,6.0,2.0,30.0,2.0,8.0,10.0,8.0,13.0,5.0,5.0,11.0,5.0,4.0,5.0,3.0,5.0,11.0],\"yaxis\":\"y\",\"type\":\"scatter\"},{\"hovertemplate\":\"TP_LOCALIZACAO_DIFERENCIADA=2.0<br>TP_LOCALIZACAO=1<br>QT_MAT_BAS=%{x}<br>QT_DOC_BAS=%{y}<br>QT_TUR_BAS=%{marker.size}<extra></extra>\",\"legendgroup\":\"Terra Ind\\u00edgena\",\"marker\":{\"color\":\"orange\",\"opacity\":0.75,\"size\":[1.0,3.0,2.0,3.0,2.0,13.0,4.0,2.0],\"sizemode\":\"area\",\"sizeref\":0.028888888888888888,\"symbol\":\"circle\"},\"mode\":\"markers\",\"name\":\"Terra Ind\\u00edgena\",\"orientation\":\"v\",\"showlegend\":false,\"x\":[11.0,17.0,20.0,9.0,4.0,58.0,38.0,13.0],\"xaxis\":\"x2\",\"y\":[2.0,23.0,11.0,15.0,20.0,33.0,11.0,3.0],\"yaxis\":\"y2\",\"type\":\"scatter\"},{\"hovertemplate\":\"TP_LOCALIZACAO_DIFERENCIADA=3.0<br>TP_LOCALIZACAO=2<br>QT_MAT_BAS=%{x}<br>QT_DOC_BAS=%{y}<br>QT_TUR_BAS=%{marker.size}<extra></extra>\",\"legendgroup\":\"Remanescentes Quilombolas\",\"marker\":{\"color\":\"turquoise\",\"opacity\":0.75,\"size\":[11.0,8.0,13.0,10.0,12.0,10.0,11.0,10.0,9.0,10.0,10.0,11.0,10.0,12.0,9.0,9.0,11.0,9.0,15.0,10.0,10.0,10.0,7.0,7.0,5.0,8.0,6.0,3.0,15.0,3.0,10.0,3.0,8.0,6.0,2.0,4.0,10.0,11.0,15.0,4.0,26.0,10.0,2.0,6.0,12.0,7.0,7.0,5.0,7.0,13.0,15.0,13.0,11.0,8.0],\"sizemode\":\"area\",\"sizeref\":0.028888888888888888,\"symbol\":\"circle\"},\"mode\":\"markers\",\"name\":\"Remanescentes Quilombolas\",\"orientation\":\"v\",\"showlegend\":true,\"x\":[126.0,65.0,235.0,131.0,116.0,116.0,187.0,94.0,70.0,57.0,131.0,142.0,114.0,206.0,101.0,69.0,120.0,104.0,169.0,138.0,120.0,106.0,58.0,65.0,44.0,86.0,90.0,21.0,206.0,53.0,123.0,25.0,128.0,55.0,23.0,25.0,190.0,157.0,219.0,32.0,333.0,111.0,16.0,126.0,186.0,171.0,100.0,19.0,92.0,248.0,254.0,218.0,87.0,90.0],\"xaxis\":\"x\",\"y\":[11.0,13.0,18.0,25.0,18.0,34.0,16.0,17.0,17.0,6.0,14.0,8.0,17.0,17.0,15.0,48.0,15.0,17.0,17.0,15.0,37.0,6.0,33.0,20.0,23.0,1.0,14.0,2.0,21.0,15.0,24.0,19.0,24.0,19.0,25.0,11.0,18.0,30.0,57.0,36.0,58.0,30.0,16.0,2.0,5.0,25.0,9.0,16.0,4.0,34.0,25.0,28.0,4.0,38.0],\"yaxis\":\"y\",\"type\":\"scatter\"},{\"hovertemplate\":\"TP_LOCALIZACAO_DIFERENCIADA=3.0<br>TP_LOCALIZACAO=1<br>QT_MAT_BAS=%{x}<br>QT_DOC_BAS=%{y}<br>QT_TUR_BAS=%{marker.size}<extra></extra>\",\"legendgroup\":\"Remanescentes Quilombolas\",\"marker\":{\"color\":\"turquoise\",\"opacity\":0.75,\"size\":[19.0,9.0,4.0,4.0,15.0,2.0,10.0],\"sizemode\":\"area\",\"sizeref\":0.028888888888888888,\"symbol\":\"circle\"},\"mode\":\"markers\",\"name\":\"Remanescentes Quilombolas\",\"orientation\":\"v\",\"showlegend\":false,\"x\":[285.0,173.0,36.0,36.0,299.0,31.0,226.0],\"xaxis\":\"x2\",\"y\":[12.0,5.0,22.0,5.0,7.0,10.0,157.0],\"yaxis\":\"y2\",\"type\":\"scatter\"}],                        {\"template\":{\"data\":{\"barpolar\":[{\"marker\":{\"line\":{\"color\":\"rgb(237,237,237)\",\"width\":0.5},\"pattern\":{\"fillmode\":\"overlay\",\"size\":10,\"solidity\":0.2}},\"type\":\"barpolar\"}],\"bar\":[{\"error_x\":{\"color\":\"rgb(51,51,51)\"},\"error_y\":{\"color\":\"rgb(51,51,51)\"},\"marker\":{\"line\":{\"color\":\"rgb(237,237,237)\",\"width\":0.5},\"pattern\":{\"fillmode\":\"overlay\",\"size\":10,\"solidity\":0.2}},\"type\":\"bar\"}],\"carpet\":[{\"aaxis\":{\"endlinecolor\":\"rgb(51,51,51)\",\"gridcolor\":\"white\",\"linecolor\":\"white\",\"minorgridcolor\":\"white\",\"startlinecolor\":\"rgb(51,51,51)\"},\"baxis\":{\"endlinecolor\":\"rgb(51,51,51)\",\"gridcolor\":\"white\",\"linecolor\":\"white\",\"minorgridcolor\":\"white\",\"startlinecolor\":\"rgb(51,51,51)\"},\"type\":\"carpet\"}],\"choropleth\":[{\"colorbar\":{\"outlinewidth\":0,\"tickcolor\":\"rgb(237,237,237)\",\"ticklen\":6,\"ticks\":\"inside\"},\"type\":\"choropleth\"}],\"contourcarpet\":[{\"colorbar\":{\"outlinewidth\":0,\"tickcolor\":\"rgb(237,237,237)\",\"ticklen\":6,\"ticks\":\"inside\"},\"type\":\"contourcarpet\"}],\"contour\":[{\"colorbar\":{\"outlinewidth\":0,\"tickcolor\":\"rgb(237,237,237)\",\"ticklen\":6,\"ticks\":\"inside\"},\"colorscale\":[[0,\"rgb(20,44,66)\"],[1,\"rgb(90,179,244)\"]],\"type\":\"contour\"}],\"heatmapgl\":[{\"colorbar\":{\"outlinewidth\":0,\"tickcolor\":\"rgb(237,237,237)\",\"ticklen\":6,\"ticks\":\"inside\"},\"colorscale\":[[0,\"rgb(20,44,66)\"],[1,\"rgb(90,179,244)\"]],\"type\":\"heatmapgl\"}],\"heatmap\":[{\"colorbar\":{\"outlinewidth\":0,\"tickcolor\":\"rgb(237,237,237)\",\"ticklen\":6,\"ticks\":\"inside\"},\"colorscale\":[[0,\"rgb(20,44,66)\"],[1,\"rgb(90,179,244)\"]],\"type\":\"heatmap\"}],\"histogram2dcontour\":[{\"colorbar\":{\"outlinewidth\":0,\"tickcolor\":\"rgb(237,237,237)\",\"ticklen\":6,\"ticks\":\"inside\"},\"colorscale\":[[0,\"rgb(20,44,66)\"],[1,\"rgb(90,179,244)\"]],\"type\":\"histogram2dcontour\"}],\"histogram2d\":[{\"colorbar\":{\"outlinewidth\":0,\"tickcolor\":\"rgb(237,237,237)\",\"ticklen\":6,\"ticks\":\"inside\"},\"colorscale\":[[0,\"rgb(20,44,66)\"],[1,\"rgb(90,179,244)\"]],\"type\":\"histogram2d\"}],\"histogram\":[{\"marker\":{\"pattern\":{\"fillmode\":\"overlay\",\"size\":10,\"solidity\":0.2}},\"type\":\"histogram\"}],\"mesh3d\":[{\"colorbar\":{\"outlinewidth\":0,\"tickcolor\":\"rgb(237,237,237)\",\"ticklen\":6,\"ticks\":\"inside\"},\"type\":\"mesh3d\"}],\"parcoords\":[{\"line\":{\"colorbar\":{\"outlinewidth\":0,\"tickcolor\":\"rgb(237,237,237)\",\"ticklen\":6,\"ticks\":\"inside\"}},\"type\":\"parcoords\"}],\"pie\":[{\"automargin\":true,\"type\":\"pie\"}],\"scatter3d\":[{\"line\":{\"colorbar\":{\"outlinewidth\":0,\"tickcolor\":\"rgb(237,237,237)\",\"ticklen\":6,\"ticks\":\"inside\"}},\"marker\":{\"colorbar\":{\"outlinewidth\":0,\"tickcolor\":\"rgb(237,237,237)\",\"ticklen\":6,\"ticks\":\"inside\"}},\"type\":\"scatter3d\"}],\"scattercarpet\":[{\"marker\":{\"colorbar\":{\"outlinewidth\":0,\"tickcolor\":\"rgb(237,237,237)\",\"ticklen\":6,\"ticks\":\"inside\"}},\"type\":\"scattercarpet\"}],\"scattergeo\":[{\"marker\":{\"colorbar\":{\"outlinewidth\":0,\"tickcolor\":\"rgb(237,237,237)\",\"ticklen\":6,\"ticks\":\"inside\"}},\"type\":\"scattergeo\"}],\"scattergl\":[{\"marker\":{\"colorbar\":{\"outlinewidth\":0,\"tickcolor\":\"rgb(237,237,237)\",\"ticklen\":6,\"ticks\":\"inside\"}},\"type\":\"scattergl\"}],\"scattermapbox\":[{\"marker\":{\"colorbar\":{\"outlinewidth\":0,\"tickcolor\":\"rgb(237,237,237)\",\"ticklen\":6,\"ticks\":\"inside\"}},\"type\":\"scattermapbox\"}],\"scatterpolargl\":[{\"marker\":{\"colorbar\":{\"outlinewidth\":0,\"tickcolor\":\"rgb(237,237,237)\",\"ticklen\":6,\"ticks\":\"inside\"}},\"type\":\"scatterpolargl\"}],\"scatterpolar\":[{\"marker\":{\"colorbar\":{\"outlinewidth\":0,\"tickcolor\":\"rgb(237,237,237)\",\"ticklen\":6,\"ticks\":\"inside\"}},\"type\":\"scatterpolar\"}],\"scatter\":[{\"marker\":{\"colorbar\":{\"outlinewidth\":0,\"tickcolor\":\"rgb(237,237,237)\",\"ticklen\":6,\"ticks\":\"inside\"}},\"type\":\"scatter\"}],\"scatterternary\":[{\"marker\":{\"colorbar\":{\"outlinewidth\":0,\"tickcolor\":\"rgb(237,237,237)\",\"ticklen\":6,\"ticks\":\"inside\"}},\"type\":\"scatterternary\"}],\"surface\":[{\"colorbar\":{\"outlinewidth\":0,\"tickcolor\":\"rgb(237,237,237)\",\"ticklen\":6,\"ticks\":\"inside\"},\"colorscale\":[[0,\"rgb(20,44,66)\"],[1,\"rgb(90,179,244)\"]],\"type\":\"surface\"}],\"table\":[{\"cells\":{\"fill\":{\"color\":\"rgb(237,237,237)\"},\"line\":{\"color\":\"white\"}},\"header\":{\"fill\":{\"color\":\"rgb(217,217,217)\"},\"line\":{\"color\":\"white\"}},\"type\":\"table\"}]},\"layout\":{\"annotationdefaults\":{\"arrowhead\":0,\"arrowwidth\":1},\"autotypenumbers\":\"strict\",\"coloraxis\":{\"colorbar\":{\"outlinewidth\":0,\"tickcolor\":\"rgb(237,237,237)\",\"ticklen\":6,\"ticks\":\"inside\"}},\"colorscale\":{\"sequential\":[[0,\"rgb(20,44,66)\"],[1,\"rgb(90,179,244)\"]],\"sequentialminus\":[[0,\"rgb(20,44,66)\"],[1,\"rgb(90,179,244)\"]]},\"colorway\":[\"#F8766D\",\"#A3A500\",\"#00BF7D\",\"#00B0F6\",\"#E76BF3\"],\"font\":{\"color\":\"rgb(51,51,51)\"},\"geo\":{\"bgcolor\":\"white\",\"lakecolor\":\"white\",\"landcolor\":\"rgb(237,237,237)\",\"showlakes\":true,\"showland\":true,\"subunitcolor\":\"white\"},\"hoverlabel\":{\"align\":\"left\"},\"hovermode\":\"closest\",\"paper_bgcolor\":\"white\",\"plot_bgcolor\":\"rgb(237,237,237)\",\"polar\":{\"angularaxis\":{\"gridcolor\":\"white\",\"linecolor\":\"white\",\"showgrid\":true,\"tickcolor\":\"rgb(51,51,51)\",\"ticks\":\"outside\"},\"bgcolor\":\"rgb(237,237,237)\",\"radialaxis\":{\"gridcolor\":\"white\",\"linecolor\":\"white\",\"showgrid\":true,\"tickcolor\":\"rgb(51,51,51)\",\"ticks\":\"outside\"}},\"scene\":{\"xaxis\":{\"backgroundcolor\":\"rgb(237,237,237)\",\"gridcolor\":\"white\",\"gridwidth\":2,\"linecolor\":\"white\",\"showbackground\":true,\"showgrid\":true,\"tickcolor\":\"rgb(51,51,51)\",\"ticks\":\"outside\",\"zerolinecolor\":\"white\"},\"yaxis\":{\"backgroundcolor\":\"rgb(237,237,237)\",\"gridcolor\":\"white\",\"gridwidth\":2,\"linecolor\":\"white\",\"showbackground\":true,\"showgrid\":true,\"tickcolor\":\"rgb(51,51,51)\",\"ticks\":\"outside\",\"zerolinecolor\":\"white\"},\"zaxis\":{\"backgroundcolor\":\"rgb(237,237,237)\",\"gridcolor\":\"white\",\"gridwidth\":2,\"linecolor\":\"white\",\"showbackground\":true,\"showgrid\":true,\"tickcolor\":\"rgb(51,51,51)\",\"ticks\":\"outside\",\"zerolinecolor\":\"white\"}},\"shapedefaults\":{\"fillcolor\":\"black\",\"line\":{\"width\":0},\"opacity\":0.3},\"ternary\":{\"aaxis\":{\"gridcolor\":\"white\",\"linecolor\":\"white\",\"showgrid\":true,\"tickcolor\":\"rgb(51,51,51)\",\"ticks\":\"outside\"},\"baxis\":{\"gridcolor\":\"white\",\"linecolor\":\"white\",\"showgrid\":true,\"tickcolor\":\"rgb(51,51,51)\",\"ticks\":\"outside\"},\"bgcolor\":\"rgb(237,237,237)\",\"caxis\":{\"gridcolor\":\"white\",\"linecolor\":\"white\",\"showgrid\":true,\"tickcolor\":\"rgb(51,51,51)\",\"ticks\":\"outside\"}},\"xaxis\":{\"automargin\":true,\"gridcolor\":\"white\",\"linecolor\":\"white\",\"showgrid\":true,\"tickcolor\":\"rgb(51,51,51)\",\"ticks\":\"outside\",\"title\":{\"standoff\":15},\"zerolinecolor\":\"white\"},\"yaxis\":{\"automargin\":true,\"gridcolor\":\"white\",\"linecolor\":\"white\",\"showgrid\":true,\"tickcolor\":\"rgb(51,51,51)\",\"ticks\":\"outside\",\"title\":{\"standoff\":15},\"zerolinecolor\":\"white\"}}},\"xaxis\":{\"anchor\":\"y\",\"domain\":[0.0,0.49],\"title\":{\"text\":\"QT_MAT_BAS\",\"font\":{\"size\":14}},\"tickfont\":{\"size\":11}},\"yaxis\":{\"anchor\":\"x\",\"domain\":[0.0,1.0],\"title\":{\"text\":\"QT_DOC_BAS\",\"font\":{\"size\":14}},\"tickfont\":{\"size\":11}},\"xaxis2\":{\"anchor\":\"y2\",\"domain\":[0.51,1.0],\"matches\":\"x\",\"title\":{\"text\":\"QT_MAT_BAS\"}},\"yaxis2\":{\"anchor\":\"x2\",\"domain\":[0.0,1.0],\"matches\":\"y\",\"showticklabels\":false},\"annotations\":[{\"font\":{},\"showarrow\":false,\"text\":\"TP_LOCALIZACAO=2\",\"x\":0.245,\"xanchor\":\"center\",\"xref\":\"paper\",\"y\":1.0,\"yanchor\":\"bottom\",\"yref\":\"paper\"},{\"font\":{},\"showarrow\":false,\"text\":\"TP_LOCALIZACAO=1\",\"x\":0.755,\"xanchor\":\"center\",\"xref\":\"paper\",\"y\":1.0,\"yanchor\":\"bottom\",\"yref\":\"paper\"}],\"legend\":{\"title\":{\"text\":\"TP_LOCALIZACAO_DIFERENCIADA\"},\"tracegroupgap\":0,\"itemsizing\":\"constant\",\"orientation\":\"h\",\"yanchor\":\"top\",\"y\":-0.2,\"xanchor\":\"center\",\"x\":0.5},\"margin\":{\"t\":60},\"title\":{\"text\":\"<b>Censo Escolar 2021: An\\u00e1lise de Localiza\\u00e7\\u00e3o Diferenciada (RS)</b>\"},\"height\":600,\"width\":1200},                        {\"responsive\": true}                    ).then(function(){\n",
              "                            \n",
              "var gd = document.getElementById('40fbe478-52e0-40cc-86f6-99bedb4d243b');\n",
              "var x = new MutationObserver(function (mutations, observer) {{\n",
              "        var display = window.getComputedStyle(gd).display;\n",
              "        if (!display || display === 'none') {{\n",
              "            console.log([gd, 'removed!']);\n",
              "            Plotly.purge(gd);\n",
              "            observer.disconnect();\n",
              "        }}\n",
              "}});\n",
              "\n",
              "// Listen for the removal of the full notebook cells\n",
              "var notebookContainer = gd.closest('#notebook-container');\n",
              "if (notebookContainer) {{\n",
              "    x.observe(notebookContainer, {childList: true});\n",
              "}}\n",
              "\n",
              "// Listen for the clearing of the current output cell\n",
              "var outputEl = gd.closest('.output');\n",
              "if (outputEl) {{\n",
              "    x.observe(outputEl, {childList: true});\n",
              "}}\n",
              "\n",
              "                        })                };                            </script>        </div>\n",
              "</body>\n",
              "</html>"
            ]
          },
          "metadata": {}
        }
      ]
    },
    {
      "cell_type": "markdown",
      "source": [
        "####Definindo título da legenda."
      ],
      "metadata": {
        "id": "yjgRbj1CdnzA"
      }
    },
    {
      "cell_type": "code",
      "source": [
        "fig.update_layout(\n",
        "    legend=dict(\n",
        "        title = '<b>Localização Diferenciada</b>',\n",
        "        font_size = 12,\n",
        "        itemsizing = 'constant'\n",
        "    )\n",
        ")"
      ],
      "metadata": {
        "colab": {
          "base_uri": "https://localhost:8080/",
          "height": 637
        },
        "id": "_9e9zCoWXQIo",
        "outputId": "268747ee-a2e0-4866-d122-06dac10c3074"
      },
      "execution_count": 12,
      "outputs": [
        {
          "output_type": "display_data",
          "data": {
            "text/html": [
              "<html>\n",
              "<head><meta charset=\"utf-8\" /></head>\n",
              "<body>\n",
              "    <div>            <script src=\"https://cdnjs.cloudflare.com/ajax/libs/mathjax/2.7.5/MathJax.js?config=TeX-AMS-MML_SVG\"></script><script type=\"text/javascript\">if (window.MathJax) {MathJax.Hub.Config({SVG: {font: \"STIX-Web\"}});}</script>                <script type=\"text/javascript\">window.PlotlyConfig = {MathJaxConfig: 'local'};</script>\n",
              "        <script src=\"https://cdn.plot.ly/plotly-2.8.3.min.js\"></script>                <div id=\"5774e8b5-0838-4917-bcd1-c5ecdf3c6600\" class=\"plotly-graph-div\" style=\"height:600px; width:1200px;\"></div>            <script type=\"text/javascript\">                                    window.PLOTLYENV=window.PLOTLYENV || {};                                    if (document.getElementById(\"5774e8b5-0838-4917-bcd1-c5ecdf3c6600\")) {                    Plotly.newPlot(                        \"5774e8b5-0838-4917-bcd1-c5ecdf3c6600\",                        [{\"hovertemplate\":\"TP_LOCALIZACAO_DIFERENCIADA=1.0<br>TP_LOCALIZACAO=2<br>QT_MAT_BAS=%{x}<br>QT_DOC_BAS=%{y}<br>QT_TUR_BAS=%{marker.size}<extra></extra>\",\"legendgroup\":\"\\u00c1rea de Assentamento\",\"marker\":{\"color\":\"brown\",\"opacity\":0.75,\"size\":[4.0,7.0,4.0,2.0,10.0,11.0,6.0,3.0,7.0,6.0,5.0,5.0,4.0,4.0,6.0,4.0,1.0,11.0,4.0,11.0,5.0,6.0,9.0,8.0,4.0,13.0,10.0,5.0,8.0,4.0,13.0,4.0,9.0,3.0,7.0,4.0,16.0,2.0,11.0,11.0,10.0,2.0,3.0,10.0,1.0,1.0,4.0,2.0,8.0,6.0,12.0,3.0,8.0,2.0,9.0,11.0,3.0,12.0,4.0,3.0,11.0,10.0,11.0,3.0,11.0],\"sizemode\":\"area\",\"sizeref\":0.028888888888888888,\"symbol\":\"circle\"},\"mode\":\"markers\",\"name\":\"\\u00c1rea de Assentamento\",\"orientation\":\"v\",\"showlegend\":true,\"x\":[32.0,64.0,31.0,12.0,150.0,270.0,73.0,35.0,62.0,62.0,32.0,6.0,29.0,23.0,45.0,42.0,12.0,242.0,38.0,132.0,51.0,39.0,98.0,58.0,48.0,105.0,158.0,64.0,67.0,38.0,201.0,22.0,83.0,29.0,78.0,87.0,350.0,25.0,31.0,81.0,36.0,12.0,21.0,128.0,14.0,7.0,30.0,10.0,69.0,88.0,179.0,21.0,105.0,14.0,76.0,85.0,35.0,153.0,52.0,33.0,74.0,53.0,65.0,21.0,277.0],\"xaxis\":\"x\",\"y\":[6.0,47.0,14.0,9.0,7.0,17.0,6.0,5.0,6.0,10.0,13.0,27.0,9.0,8.0,13.0,39.0,45.0,16.0,24.0,5.0,12.0,13.0,34.0,12.0,54.0,5.0,11.0,5.0,11.0,12.0,6.0,3.0,57.0,3.0,7.0,30.0,14.0,75.0,9.0,3.0,2.0,1.0,4.0,35.0,15.0,47.0,15.0,3.0,5.0,16.0,12.0,8.0,27.0,18.0,4.0,31.0,5.0,6.0,51.0,11.0,38.0,34.0,6.0,5.0,10.0],\"yaxis\":\"y\",\"type\":\"scatter\"},{\"hovertemplate\":\"TP_LOCALIZACAO_DIFERENCIADA=2.0<br>TP_LOCALIZACAO=2<br>QT_MAT_BAS=%{x}<br>QT_DOC_BAS=%{y}<br>QT_TUR_BAS=%{marker.size}<extra></extra>\",\"legendgroup\":\"Terra Ind\\u00edgena\",\"marker\":{\"color\":\"orange\",\"opacity\":0.75,\"size\":[7.0,5.0,4.0,4.0,2.0,3.0,7.0,15.0,1.0,1.0,2.0,9.0,2.0,3.0,1.0,3.0,20.0,2.0,5.0,1.0,3.0,1.0,8.0,6.0,4.0,1.0,2.0,4.0,5.0,9.0,2.0,7.0,15.0,5.0,4.0,2.0,10.0,1.0,1.0,3.0,3.0,6.0,12.0,1.0,3.0,11.0,2.0,3.0,7.0,2.0,21.0,13.0,10.0,10.0,9.0,3.0,4.0,2.0,7.0,5.0,2.0,13.0,3.0,7.0,6.0,5.0,7.0,6.0,11.0,18.0,1.0,11.0,11.0,15.0,10.0,7.0,4.0,9.0,7.0],\"sizemode\":\"area\",\"sizeref\":0.028888888888888888,\"symbol\":\"circle\"},\"mode\":\"markers\",\"name\":\"Terra Ind\\u00edgena\",\"orientation\":\"v\",\"showlegend\":true,\"x\":[112.0,45.0,16.0,34.0,33.0,29.0,85.0,240.0,2.0,8.0,12.0,141.0,25.0,46.0,3.0,34.0,337.0,21.0,76.0,2.0,49.0,15.0,56.0,49.0,49.0,6.0,11.0,57.0,35.0,149.0,18.0,115.0,254.0,36.0,74.0,30.0,112.0,3.0,8.0,34.0,20.0,79.0,174.0,8.0,15.0,184.0,9.0,6.0,82.0,22.0,407.0,237.0,129.0,141.0,130.0,31.0,56.0,19.0,85.0,40.0,10.0,180.0,30.0,50.0,61.0,22.0,57.0,65.0,149.0,334.0,7.0,137.0,167.0,198.0,111.0,48.0,35.0,54.0,86.0],\"xaxis\":\"x\",\"y\":[4.0,16.0,2.0,10.0,18.0,1.0,20.0,17.0,14.0,20.0,16.0,13.0,2.0,12.0,6.0,26.0,20.0,33.0,14.0,16.0,8.0,2.0,3.0,5.0,2.0,3.0,3.0,8.0,4.0,2.0,1.0,9.0,3.0,26.0,19.0,16.0,9.0,18.0,6.0,47.0,9.0,22.0,41.0,15.0,7.0,20.0,3.0,21.0,4.0,2.0,18.0,2.0,18.0,16.0,37.0,14.0,3.0,6.0,14.0,21.0,5.0,13.0,6.0,2.0,30.0,2.0,8.0,10.0,8.0,13.0,5.0,5.0,11.0,5.0,4.0,5.0,3.0,5.0,11.0],\"yaxis\":\"y\",\"type\":\"scatter\"},{\"hovertemplate\":\"TP_LOCALIZACAO_DIFERENCIADA=2.0<br>TP_LOCALIZACAO=1<br>QT_MAT_BAS=%{x}<br>QT_DOC_BAS=%{y}<br>QT_TUR_BAS=%{marker.size}<extra></extra>\",\"legendgroup\":\"Terra Ind\\u00edgena\",\"marker\":{\"color\":\"orange\",\"opacity\":0.75,\"size\":[1.0,3.0,2.0,3.0,2.0,13.0,4.0,2.0],\"sizemode\":\"area\",\"sizeref\":0.028888888888888888,\"symbol\":\"circle\"},\"mode\":\"markers\",\"name\":\"Terra Ind\\u00edgena\",\"orientation\":\"v\",\"showlegend\":false,\"x\":[11.0,17.0,20.0,9.0,4.0,58.0,38.0,13.0],\"xaxis\":\"x2\",\"y\":[2.0,23.0,11.0,15.0,20.0,33.0,11.0,3.0],\"yaxis\":\"y2\",\"type\":\"scatter\"},{\"hovertemplate\":\"TP_LOCALIZACAO_DIFERENCIADA=3.0<br>TP_LOCALIZACAO=2<br>QT_MAT_BAS=%{x}<br>QT_DOC_BAS=%{y}<br>QT_TUR_BAS=%{marker.size}<extra></extra>\",\"legendgroup\":\"Remanescentes Quilombolas\",\"marker\":{\"color\":\"turquoise\",\"opacity\":0.75,\"size\":[11.0,8.0,13.0,10.0,12.0,10.0,11.0,10.0,9.0,10.0,10.0,11.0,10.0,12.0,9.0,9.0,11.0,9.0,15.0,10.0,10.0,10.0,7.0,7.0,5.0,8.0,6.0,3.0,15.0,3.0,10.0,3.0,8.0,6.0,2.0,4.0,10.0,11.0,15.0,4.0,26.0,10.0,2.0,6.0,12.0,7.0,7.0,5.0,7.0,13.0,15.0,13.0,11.0,8.0],\"sizemode\":\"area\",\"sizeref\":0.028888888888888888,\"symbol\":\"circle\"},\"mode\":\"markers\",\"name\":\"Remanescentes Quilombolas\",\"orientation\":\"v\",\"showlegend\":true,\"x\":[126.0,65.0,235.0,131.0,116.0,116.0,187.0,94.0,70.0,57.0,131.0,142.0,114.0,206.0,101.0,69.0,120.0,104.0,169.0,138.0,120.0,106.0,58.0,65.0,44.0,86.0,90.0,21.0,206.0,53.0,123.0,25.0,128.0,55.0,23.0,25.0,190.0,157.0,219.0,32.0,333.0,111.0,16.0,126.0,186.0,171.0,100.0,19.0,92.0,248.0,254.0,218.0,87.0,90.0],\"xaxis\":\"x\",\"y\":[11.0,13.0,18.0,25.0,18.0,34.0,16.0,17.0,17.0,6.0,14.0,8.0,17.0,17.0,15.0,48.0,15.0,17.0,17.0,15.0,37.0,6.0,33.0,20.0,23.0,1.0,14.0,2.0,21.0,15.0,24.0,19.0,24.0,19.0,25.0,11.0,18.0,30.0,57.0,36.0,58.0,30.0,16.0,2.0,5.0,25.0,9.0,16.0,4.0,34.0,25.0,28.0,4.0,38.0],\"yaxis\":\"y\",\"type\":\"scatter\"},{\"hovertemplate\":\"TP_LOCALIZACAO_DIFERENCIADA=3.0<br>TP_LOCALIZACAO=1<br>QT_MAT_BAS=%{x}<br>QT_DOC_BAS=%{y}<br>QT_TUR_BAS=%{marker.size}<extra></extra>\",\"legendgroup\":\"Remanescentes Quilombolas\",\"marker\":{\"color\":\"turquoise\",\"opacity\":0.75,\"size\":[19.0,9.0,4.0,4.0,15.0,2.0,10.0],\"sizemode\":\"area\",\"sizeref\":0.028888888888888888,\"symbol\":\"circle\"},\"mode\":\"markers\",\"name\":\"Remanescentes Quilombolas\",\"orientation\":\"v\",\"showlegend\":false,\"x\":[285.0,173.0,36.0,36.0,299.0,31.0,226.0],\"xaxis\":\"x2\",\"y\":[12.0,5.0,22.0,5.0,7.0,10.0,157.0],\"yaxis\":\"y2\",\"type\":\"scatter\"}],                        {\"template\":{\"data\":{\"barpolar\":[{\"marker\":{\"line\":{\"color\":\"rgb(237,237,237)\",\"width\":0.5},\"pattern\":{\"fillmode\":\"overlay\",\"size\":10,\"solidity\":0.2}},\"type\":\"barpolar\"}],\"bar\":[{\"error_x\":{\"color\":\"rgb(51,51,51)\"},\"error_y\":{\"color\":\"rgb(51,51,51)\"},\"marker\":{\"line\":{\"color\":\"rgb(237,237,237)\",\"width\":0.5},\"pattern\":{\"fillmode\":\"overlay\",\"size\":10,\"solidity\":0.2}},\"type\":\"bar\"}],\"carpet\":[{\"aaxis\":{\"endlinecolor\":\"rgb(51,51,51)\",\"gridcolor\":\"white\",\"linecolor\":\"white\",\"minorgridcolor\":\"white\",\"startlinecolor\":\"rgb(51,51,51)\"},\"baxis\":{\"endlinecolor\":\"rgb(51,51,51)\",\"gridcolor\":\"white\",\"linecolor\":\"white\",\"minorgridcolor\":\"white\",\"startlinecolor\":\"rgb(51,51,51)\"},\"type\":\"carpet\"}],\"choropleth\":[{\"colorbar\":{\"outlinewidth\":0,\"tickcolor\":\"rgb(237,237,237)\",\"ticklen\":6,\"ticks\":\"inside\"},\"type\":\"choropleth\"}],\"contourcarpet\":[{\"colorbar\":{\"outlinewidth\":0,\"tickcolor\":\"rgb(237,237,237)\",\"ticklen\":6,\"ticks\":\"inside\"},\"type\":\"contourcarpet\"}],\"contour\":[{\"colorbar\":{\"outlinewidth\":0,\"tickcolor\":\"rgb(237,237,237)\",\"ticklen\":6,\"ticks\":\"inside\"},\"colorscale\":[[0,\"rgb(20,44,66)\"],[1,\"rgb(90,179,244)\"]],\"type\":\"contour\"}],\"heatmapgl\":[{\"colorbar\":{\"outlinewidth\":0,\"tickcolor\":\"rgb(237,237,237)\",\"ticklen\":6,\"ticks\":\"inside\"},\"colorscale\":[[0,\"rgb(20,44,66)\"],[1,\"rgb(90,179,244)\"]],\"type\":\"heatmapgl\"}],\"heatmap\":[{\"colorbar\":{\"outlinewidth\":0,\"tickcolor\":\"rgb(237,237,237)\",\"ticklen\":6,\"ticks\":\"inside\"},\"colorscale\":[[0,\"rgb(20,44,66)\"],[1,\"rgb(90,179,244)\"]],\"type\":\"heatmap\"}],\"histogram2dcontour\":[{\"colorbar\":{\"outlinewidth\":0,\"tickcolor\":\"rgb(237,237,237)\",\"ticklen\":6,\"ticks\":\"inside\"},\"colorscale\":[[0,\"rgb(20,44,66)\"],[1,\"rgb(90,179,244)\"]],\"type\":\"histogram2dcontour\"}],\"histogram2d\":[{\"colorbar\":{\"outlinewidth\":0,\"tickcolor\":\"rgb(237,237,237)\",\"ticklen\":6,\"ticks\":\"inside\"},\"colorscale\":[[0,\"rgb(20,44,66)\"],[1,\"rgb(90,179,244)\"]],\"type\":\"histogram2d\"}],\"histogram\":[{\"marker\":{\"pattern\":{\"fillmode\":\"overlay\",\"size\":10,\"solidity\":0.2}},\"type\":\"histogram\"}],\"mesh3d\":[{\"colorbar\":{\"outlinewidth\":0,\"tickcolor\":\"rgb(237,237,237)\",\"ticklen\":6,\"ticks\":\"inside\"},\"type\":\"mesh3d\"}],\"parcoords\":[{\"line\":{\"colorbar\":{\"outlinewidth\":0,\"tickcolor\":\"rgb(237,237,237)\",\"ticklen\":6,\"ticks\":\"inside\"}},\"type\":\"parcoords\"}],\"pie\":[{\"automargin\":true,\"type\":\"pie\"}],\"scatter3d\":[{\"line\":{\"colorbar\":{\"outlinewidth\":0,\"tickcolor\":\"rgb(237,237,237)\",\"ticklen\":6,\"ticks\":\"inside\"}},\"marker\":{\"colorbar\":{\"outlinewidth\":0,\"tickcolor\":\"rgb(237,237,237)\",\"ticklen\":6,\"ticks\":\"inside\"}},\"type\":\"scatter3d\"}],\"scattercarpet\":[{\"marker\":{\"colorbar\":{\"outlinewidth\":0,\"tickcolor\":\"rgb(237,237,237)\",\"ticklen\":6,\"ticks\":\"inside\"}},\"type\":\"scattercarpet\"}],\"scattergeo\":[{\"marker\":{\"colorbar\":{\"outlinewidth\":0,\"tickcolor\":\"rgb(237,237,237)\",\"ticklen\":6,\"ticks\":\"inside\"}},\"type\":\"scattergeo\"}],\"scattergl\":[{\"marker\":{\"colorbar\":{\"outlinewidth\":0,\"tickcolor\":\"rgb(237,237,237)\",\"ticklen\":6,\"ticks\":\"inside\"}},\"type\":\"scattergl\"}],\"scattermapbox\":[{\"marker\":{\"colorbar\":{\"outlinewidth\":0,\"tickcolor\":\"rgb(237,237,237)\",\"ticklen\":6,\"ticks\":\"inside\"}},\"type\":\"scattermapbox\"}],\"scatterpolargl\":[{\"marker\":{\"colorbar\":{\"outlinewidth\":0,\"tickcolor\":\"rgb(237,237,237)\",\"ticklen\":6,\"ticks\":\"inside\"}},\"type\":\"scatterpolargl\"}],\"scatterpolar\":[{\"marker\":{\"colorbar\":{\"outlinewidth\":0,\"tickcolor\":\"rgb(237,237,237)\",\"ticklen\":6,\"ticks\":\"inside\"}},\"type\":\"scatterpolar\"}],\"scatter\":[{\"marker\":{\"colorbar\":{\"outlinewidth\":0,\"tickcolor\":\"rgb(237,237,237)\",\"ticklen\":6,\"ticks\":\"inside\"}},\"type\":\"scatter\"}],\"scatterternary\":[{\"marker\":{\"colorbar\":{\"outlinewidth\":0,\"tickcolor\":\"rgb(237,237,237)\",\"ticklen\":6,\"ticks\":\"inside\"}},\"type\":\"scatterternary\"}],\"surface\":[{\"colorbar\":{\"outlinewidth\":0,\"tickcolor\":\"rgb(237,237,237)\",\"ticklen\":6,\"ticks\":\"inside\"},\"colorscale\":[[0,\"rgb(20,44,66)\"],[1,\"rgb(90,179,244)\"]],\"type\":\"surface\"}],\"table\":[{\"cells\":{\"fill\":{\"color\":\"rgb(237,237,237)\"},\"line\":{\"color\":\"white\"}},\"header\":{\"fill\":{\"color\":\"rgb(217,217,217)\"},\"line\":{\"color\":\"white\"}},\"type\":\"table\"}]},\"layout\":{\"annotationdefaults\":{\"arrowhead\":0,\"arrowwidth\":1},\"autotypenumbers\":\"strict\",\"coloraxis\":{\"colorbar\":{\"outlinewidth\":0,\"tickcolor\":\"rgb(237,237,237)\",\"ticklen\":6,\"ticks\":\"inside\"}},\"colorscale\":{\"sequential\":[[0,\"rgb(20,44,66)\"],[1,\"rgb(90,179,244)\"]],\"sequentialminus\":[[0,\"rgb(20,44,66)\"],[1,\"rgb(90,179,244)\"]]},\"colorway\":[\"#F8766D\",\"#A3A500\",\"#00BF7D\",\"#00B0F6\",\"#E76BF3\"],\"font\":{\"color\":\"rgb(51,51,51)\"},\"geo\":{\"bgcolor\":\"white\",\"lakecolor\":\"white\",\"landcolor\":\"rgb(237,237,237)\",\"showlakes\":true,\"showland\":true,\"subunitcolor\":\"white\"},\"hoverlabel\":{\"align\":\"left\"},\"hovermode\":\"closest\",\"paper_bgcolor\":\"white\",\"plot_bgcolor\":\"rgb(237,237,237)\",\"polar\":{\"angularaxis\":{\"gridcolor\":\"white\",\"linecolor\":\"white\",\"showgrid\":true,\"tickcolor\":\"rgb(51,51,51)\",\"ticks\":\"outside\"},\"bgcolor\":\"rgb(237,237,237)\",\"radialaxis\":{\"gridcolor\":\"white\",\"linecolor\":\"white\",\"showgrid\":true,\"tickcolor\":\"rgb(51,51,51)\",\"ticks\":\"outside\"}},\"scene\":{\"xaxis\":{\"backgroundcolor\":\"rgb(237,237,237)\",\"gridcolor\":\"white\",\"gridwidth\":2,\"linecolor\":\"white\",\"showbackground\":true,\"showgrid\":true,\"tickcolor\":\"rgb(51,51,51)\",\"ticks\":\"outside\",\"zerolinecolor\":\"white\"},\"yaxis\":{\"backgroundcolor\":\"rgb(237,237,237)\",\"gridcolor\":\"white\",\"gridwidth\":2,\"linecolor\":\"white\",\"showbackground\":true,\"showgrid\":true,\"tickcolor\":\"rgb(51,51,51)\",\"ticks\":\"outside\",\"zerolinecolor\":\"white\"},\"zaxis\":{\"backgroundcolor\":\"rgb(237,237,237)\",\"gridcolor\":\"white\",\"gridwidth\":2,\"linecolor\":\"white\",\"showbackground\":true,\"showgrid\":true,\"tickcolor\":\"rgb(51,51,51)\",\"ticks\":\"outside\",\"zerolinecolor\":\"white\"}},\"shapedefaults\":{\"fillcolor\":\"black\",\"line\":{\"width\":0},\"opacity\":0.3},\"ternary\":{\"aaxis\":{\"gridcolor\":\"white\",\"linecolor\":\"white\",\"showgrid\":true,\"tickcolor\":\"rgb(51,51,51)\",\"ticks\":\"outside\"},\"baxis\":{\"gridcolor\":\"white\",\"linecolor\":\"white\",\"showgrid\":true,\"tickcolor\":\"rgb(51,51,51)\",\"ticks\":\"outside\"},\"bgcolor\":\"rgb(237,237,237)\",\"caxis\":{\"gridcolor\":\"white\",\"linecolor\":\"white\",\"showgrid\":true,\"tickcolor\":\"rgb(51,51,51)\",\"ticks\":\"outside\"}},\"xaxis\":{\"automargin\":true,\"gridcolor\":\"white\",\"linecolor\":\"white\",\"showgrid\":true,\"tickcolor\":\"rgb(51,51,51)\",\"ticks\":\"outside\",\"title\":{\"standoff\":15},\"zerolinecolor\":\"white\"},\"yaxis\":{\"automargin\":true,\"gridcolor\":\"white\",\"linecolor\":\"white\",\"showgrid\":true,\"tickcolor\":\"rgb(51,51,51)\",\"ticks\":\"outside\",\"title\":{\"standoff\":15},\"zerolinecolor\":\"white\"}}},\"xaxis\":{\"anchor\":\"y\",\"domain\":[0.0,0.49],\"title\":{\"text\":\"QT_MAT_BAS\",\"font\":{\"size\":14}},\"tickfont\":{\"size\":11}},\"yaxis\":{\"anchor\":\"x\",\"domain\":[0.0,1.0],\"title\":{\"text\":\"QT_DOC_BAS\",\"font\":{\"size\":14}},\"tickfont\":{\"size\":11}},\"xaxis2\":{\"anchor\":\"y2\",\"domain\":[0.51,1.0],\"matches\":\"x\",\"title\":{\"text\":\"QT_MAT_BAS\"}},\"yaxis2\":{\"anchor\":\"x2\",\"domain\":[0.0,1.0],\"matches\":\"y\",\"showticklabels\":false},\"annotations\":[{\"font\":{},\"showarrow\":false,\"text\":\"TP_LOCALIZACAO=2\",\"x\":0.245,\"xanchor\":\"center\",\"xref\":\"paper\",\"y\":1.0,\"yanchor\":\"bottom\",\"yref\":\"paper\"},{\"font\":{},\"showarrow\":false,\"text\":\"TP_LOCALIZACAO=1\",\"x\":0.755,\"xanchor\":\"center\",\"xref\":\"paper\",\"y\":1.0,\"yanchor\":\"bottom\",\"yref\":\"paper\"}],\"legend\":{\"title\":{\"text\":\"<b>Localiza\\u00e7\\u00e3o Diferenciada</b>\"},\"tracegroupgap\":0,\"itemsizing\":\"constant\",\"orientation\":\"h\",\"yanchor\":\"top\",\"y\":-0.2,\"xanchor\":\"center\",\"x\":0.5,\"font\":{\"size\":12}},\"margin\":{\"t\":60},\"title\":{\"text\":\"<b>Censo Escolar 2021: An\\u00e1lise de Localiza\\u00e7\\u00e3o Diferenciada (RS)</b>\"},\"height\":600,\"width\":1200},                        {\"responsive\": true}                    ).then(function(){\n",
              "                            \n",
              "var gd = document.getElementById('5774e8b5-0838-4917-bcd1-c5ecdf3c6600');\n",
              "var x = new MutationObserver(function (mutations, observer) {{\n",
              "        var display = window.getComputedStyle(gd).display;\n",
              "        if (!display || display === 'none') {{\n",
              "            console.log([gd, 'removed!']);\n",
              "            Plotly.purge(gd);\n",
              "            observer.disconnect();\n",
              "        }}\n",
              "}});\n",
              "\n",
              "// Listen for the removal of the full notebook cells\n",
              "var notebookContainer = gd.closest('#notebook-container');\n",
              "if (notebookContainer) {{\n",
              "    x.observe(notebookContainer, {childList: true});\n",
              "}}\n",
              "\n",
              "// Listen for the clearing of the current output cell\n",
              "var outputEl = gd.closest('.output');\n",
              "if (outputEl) {{\n",
              "    x.observe(outputEl, {childList: true});\n",
              "}}\n",
              "\n",
              "                        })                };                            </script>        </div>\n",
              "</body>\n",
              "</html>"
            ]
          },
          "metadata": {}
        }
      ]
    },
    {
      "cell_type": "markdown",
      "source": [
        "####Definindo títulos individuais dos subgráficos e fixando eixos."
      ],
      "metadata": {
        "id": "yP7jwL_wd26v"
      }
    },
    {
      "cell_type": "code",
      "source": [
        "fig.layout.annotations[1].text= '<b>Localização Urbana</b>'\n",
        "fig.layout.annotations[0].text= '<b>Localização Rural</b>'\n",
        "\n",
        "fig.update_layout(\n",
        "    xaxis_title = '<b>Quantidade de Matrículas</b>',\n",
        "    xaxis2_title = '<b>Quantidade de Matrículas</b>',\n",
        "    yaxis_title = '<b>Quantidade de Docentes</b>',\n",
        "    font_size = 11\n",
        ")\n",
        "\n",
        "fig.update_yaxes(range = [0,200]) \n",
        "fig.update_xaxes(range = [0,500])"
      ],
      "metadata": {
        "colab": {
          "base_uri": "https://localhost:8080/",
          "height": 637
        },
        "id": "tBvNULCmeWk1",
        "outputId": "87ed4635-42b9-41fd-b07e-4e9cfb6002f1"
      },
      "execution_count": 13,
      "outputs": [
        {
          "output_type": "display_data",
          "data": {
            "text/html": [
              "<html>\n",
              "<head><meta charset=\"utf-8\" /></head>\n",
              "<body>\n",
              "    <div>            <script src=\"https://cdnjs.cloudflare.com/ajax/libs/mathjax/2.7.5/MathJax.js?config=TeX-AMS-MML_SVG\"></script><script type=\"text/javascript\">if (window.MathJax) {MathJax.Hub.Config({SVG: {font: \"STIX-Web\"}});}</script>                <script type=\"text/javascript\">window.PlotlyConfig = {MathJaxConfig: 'local'};</script>\n",
              "        <script src=\"https://cdn.plot.ly/plotly-2.8.3.min.js\"></script>                <div id=\"cd868f23-d476-4f4d-a5da-de62eb4fdadf\" class=\"plotly-graph-div\" style=\"height:600px; width:1200px;\"></div>            <script type=\"text/javascript\">                                    window.PLOTLYENV=window.PLOTLYENV || {};                                    if (document.getElementById(\"cd868f23-d476-4f4d-a5da-de62eb4fdadf\")) {                    Plotly.newPlot(                        \"cd868f23-d476-4f4d-a5da-de62eb4fdadf\",                        [{\"hovertemplate\":\"TP_LOCALIZACAO_DIFERENCIADA=1.0<br>TP_LOCALIZACAO=2<br>QT_MAT_BAS=%{x}<br>QT_DOC_BAS=%{y}<br>QT_TUR_BAS=%{marker.size}<extra></extra>\",\"legendgroup\":\"\\u00c1rea de Assentamento\",\"marker\":{\"color\":\"brown\",\"opacity\":0.75,\"size\":[4.0,7.0,4.0,2.0,10.0,11.0,6.0,3.0,7.0,6.0,5.0,5.0,4.0,4.0,6.0,4.0,1.0,11.0,4.0,11.0,5.0,6.0,9.0,8.0,4.0,13.0,10.0,5.0,8.0,4.0,13.0,4.0,9.0,3.0,7.0,4.0,16.0,2.0,11.0,11.0,10.0,2.0,3.0,10.0,1.0,1.0,4.0,2.0,8.0,6.0,12.0,3.0,8.0,2.0,9.0,11.0,3.0,12.0,4.0,3.0,11.0,10.0,11.0,3.0,11.0],\"sizemode\":\"area\",\"sizeref\":0.028888888888888888,\"symbol\":\"circle\"},\"mode\":\"markers\",\"name\":\"\\u00c1rea de Assentamento\",\"orientation\":\"v\",\"showlegend\":true,\"x\":[32.0,64.0,31.0,12.0,150.0,270.0,73.0,35.0,62.0,62.0,32.0,6.0,29.0,23.0,45.0,42.0,12.0,242.0,38.0,132.0,51.0,39.0,98.0,58.0,48.0,105.0,158.0,64.0,67.0,38.0,201.0,22.0,83.0,29.0,78.0,87.0,350.0,25.0,31.0,81.0,36.0,12.0,21.0,128.0,14.0,7.0,30.0,10.0,69.0,88.0,179.0,21.0,105.0,14.0,76.0,85.0,35.0,153.0,52.0,33.0,74.0,53.0,65.0,21.0,277.0],\"xaxis\":\"x\",\"y\":[6.0,47.0,14.0,9.0,7.0,17.0,6.0,5.0,6.0,10.0,13.0,27.0,9.0,8.0,13.0,39.0,45.0,16.0,24.0,5.0,12.0,13.0,34.0,12.0,54.0,5.0,11.0,5.0,11.0,12.0,6.0,3.0,57.0,3.0,7.0,30.0,14.0,75.0,9.0,3.0,2.0,1.0,4.0,35.0,15.0,47.0,15.0,3.0,5.0,16.0,12.0,8.0,27.0,18.0,4.0,31.0,5.0,6.0,51.0,11.0,38.0,34.0,6.0,5.0,10.0],\"yaxis\":\"y\",\"type\":\"scatter\"},{\"hovertemplate\":\"TP_LOCALIZACAO_DIFERENCIADA=2.0<br>TP_LOCALIZACAO=2<br>QT_MAT_BAS=%{x}<br>QT_DOC_BAS=%{y}<br>QT_TUR_BAS=%{marker.size}<extra></extra>\",\"legendgroup\":\"Terra Ind\\u00edgena\",\"marker\":{\"color\":\"orange\",\"opacity\":0.75,\"size\":[7.0,5.0,4.0,4.0,2.0,3.0,7.0,15.0,1.0,1.0,2.0,9.0,2.0,3.0,1.0,3.0,20.0,2.0,5.0,1.0,3.0,1.0,8.0,6.0,4.0,1.0,2.0,4.0,5.0,9.0,2.0,7.0,15.0,5.0,4.0,2.0,10.0,1.0,1.0,3.0,3.0,6.0,12.0,1.0,3.0,11.0,2.0,3.0,7.0,2.0,21.0,13.0,10.0,10.0,9.0,3.0,4.0,2.0,7.0,5.0,2.0,13.0,3.0,7.0,6.0,5.0,7.0,6.0,11.0,18.0,1.0,11.0,11.0,15.0,10.0,7.0,4.0,9.0,7.0],\"sizemode\":\"area\",\"sizeref\":0.028888888888888888,\"symbol\":\"circle\"},\"mode\":\"markers\",\"name\":\"Terra Ind\\u00edgena\",\"orientation\":\"v\",\"showlegend\":true,\"x\":[112.0,45.0,16.0,34.0,33.0,29.0,85.0,240.0,2.0,8.0,12.0,141.0,25.0,46.0,3.0,34.0,337.0,21.0,76.0,2.0,49.0,15.0,56.0,49.0,49.0,6.0,11.0,57.0,35.0,149.0,18.0,115.0,254.0,36.0,74.0,30.0,112.0,3.0,8.0,34.0,20.0,79.0,174.0,8.0,15.0,184.0,9.0,6.0,82.0,22.0,407.0,237.0,129.0,141.0,130.0,31.0,56.0,19.0,85.0,40.0,10.0,180.0,30.0,50.0,61.0,22.0,57.0,65.0,149.0,334.0,7.0,137.0,167.0,198.0,111.0,48.0,35.0,54.0,86.0],\"xaxis\":\"x\",\"y\":[4.0,16.0,2.0,10.0,18.0,1.0,20.0,17.0,14.0,20.0,16.0,13.0,2.0,12.0,6.0,26.0,20.0,33.0,14.0,16.0,8.0,2.0,3.0,5.0,2.0,3.0,3.0,8.0,4.0,2.0,1.0,9.0,3.0,26.0,19.0,16.0,9.0,18.0,6.0,47.0,9.0,22.0,41.0,15.0,7.0,20.0,3.0,21.0,4.0,2.0,18.0,2.0,18.0,16.0,37.0,14.0,3.0,6.0,14.0,21.0,5.0,13.0,6.0,2.0,30.0,2.0,8.0,10.0,8.0,13.0,5.0,5.0,11.0,5.0,4.0,5.0,3.0,5.0,11.0],\"yaxis\":\"y\",\"type\":\"scatter\"},{\"hovertemplate\":\"TP_LOCALIZACAO_DIFERENCIADA=2.0<br>TP_LOCALIZACAO=1<br>QT_MAT_BAS=%{x}<br>QT_DOC_BAS=%{y}<br>QT_TUR_BAS=%{marker.size}<extra></extra>\",\"legendgroup\":\"Terra Ind\\u00edgena\",\"marker\":{\"color\":\"orange\",\"opacity\":0.75,\"size\":[1.0,3.0,2.0,3.0,2.0,13.0,4.0,2.0],\"sizemode\":\"area\",\"sizeref\":0.028888888888888888,\"symbol\":\"circle\"},\"mode\":\"markers\",\"name\":\"Terra Ind\\u00edgena\",\"orientation\":\"v\",\"showlegend\":false,\"x\":[11.0,17.0,20.0,9.0,4.0,58.0,38.0,13.0],\"xaxis\":\"x2\",\"y\":[2.0,23.0,11.0,15.0,20.0,33.0,11.0,3.0],\"yaxis\":\"y2\",\"type\":\"scatter\"},{\"hovertemplate\":\"TP_LOCALIZACAO_DIFERENCIADA=3.0<br>TP_LOCALIZACAO=2<br>QT_MAT_BAS=%{x}<br>QT_DOC_BAS=%{y}<br>QT_TUR_BAS=%{marker.size}<extra></extra>\",\"legendgroup\":\"Remanescentes Quilombolas\",\"marker\":{\"color\":\"turquoise\",\"opacity\":0.75,\"size\":[11.0,8.0,13.0,10.0,12.0,10.0,11.0,10.0,9.0,10.0,10.0,11.0,10.0,12.0,9.0,9.0,11.0,9.0,15.0,10.0,10.0,10.0,7.0,7.0,5.0,8.0,6.0,3.0,15.0,3.0,10.0,3.0,8.0,6.0,2.0,4.0,10.0,11.0,15.0,4.0,26.0,10.0,2.0,6.0,12.0,7.0,7.0,5.0,7.0,13.0,15.0,13.0,11.0,8.0],\"sizemode\":\"area\",\"sizeref\":0.028888888888888888,\"symbol\":\"circle\"},\"mode\":\"markers\",\"name\":\"Remanescentes Quilombolas\",\"orientation\":\"v\",\"showlegend\":true,\"x\":[126.0,65.0,235.0,131.0,116.0,116.0,187.0,94.0,70.0,57.0,131.0,142.0,114.0,206.0,101.0,69.0,120.0,104.0,169.0,138.0,120.0,106.0,58.0,65.0,44.0,86.0,90.0,21.0,206.0,53.0,123.0,25.0,128.0,55.0,23.0,25.0,190.0,157.0,219.0,32.0,333.0,111.0,16.0,126.0,186.0,171.0,100.0,19.0,92.0,248.0,254.0,218.0,87.0,90.0],\"xaxis\":\"x\",\"y\":[11.0,13.0,18.0,25.0,18.0,34.0,16.0,17.0,17.0,6.0,14.0,8.0,17.0,17.0,15.0,48.0,15.0,17.0,17.0,15.0,37.0,6.0,33.0,20.0,23.0,1.0,14.0,2.0,21.0,15.0,24.0,19.0,24.0,19.0,25.0,11.0,18.0,30.0,57.0,36.0,58.0,30.0,16.0,2.0,5.0,25.0,9.0,16.0,4.0,34.0,25.0,28.0,4.0,38.0],\"yaxis\":\"y\",\"type\":\"scatter\"},{\"hovertemplate\":\"TP_LOCALIZACAO_DIFERENCIADA=3.0<br>TP_LOCALIZACAO=1<br>QT_MAT_BAS=%{x}<br>QT_DOC_BAS=%{y}<br>QT_TUR_BAS=%{marker.size}<extra></extra>\",\"legendgroup\":\"Remanescentes Quilombolas\",\"marker\":{\"color\":\"turquoise\",\"opacity\":0.75,\"size\":[19.0,9.0,4.0,4.0,15.0,2.0,10.0],\"sizemode\":\"area\",\"sizeref\":0.028888888888888888,\"symbol\":\"circle\"},\"mode\":\"markers\",\"name\":\"Remanescentes Quilombolas\",\"orientation\":\"v\",\"showlegend\":false,\"x\":[285.0,173.0,36.0,36.0,299.0,31.0,226.0],\"xaxis\":\"x2\",\"y\":[12.0,5.0,22.0,5.0,7.0,10.0,157.0],\"yaxis\":\"y2\",\"type\":\"scatter\"}],                        {\"template\":{\"data\":{\"barpolar\":[{\"marker\":{\"line\":{\"color\":\"rgb(237,237,237)\",\"width\":0.5},\"pattern\":{\"fillmode\":\"overlay\",\"size\":10,\"solidity\":0.2}},\"type\":\"barpolar\"}],\"bar\":[{\"error_x\":{\"color\":\"rgb(51,51,51)\"},\"error_y\":{\"color\":\"rgb(51,51,51)\"},\"marker\":{\"line\":{\"color\":\"rgb(237,237,237)\",\"width\":0.5},\"pattern\":{\"fillmode\":\"overlay\",\"size\":10,\"solidity\":0.2}},\"type\":\"bar\"}],\"carpet\":[{\"aaxis\":{\"endlinecolor\":\"rgb(51,51,51)\",\"gridcolor\":\"white\",\"linecolor\":\"white\",\"minorgridcolor\":\"white\",\"startlinecolor\":\"rgb(51,51,51)\"},\"baxis\":{\"endlinecolor\":\"rgb(51,51,51)\",\"gridcolor\":\"white\",\"linecolor\":\"white\",\"minorgridcolor\":\"white\",\"startlinecolor\":\"rgb(51,51,51)\"},\"type\":\"carpet\"}],\"choropleth\":[{\"colorbar\":{\"outlinewidth\":0,\"tickcolor\":\"rgb(237,237,237)\",\"ticklen\":6,\"ticks\":\"inside\"},\"type\":\"choropleth\"}],\"contourcarpet\":[{\"colorbar\":{\"outlinewidth\":0,\"tickcolor\":\"rgb(237,237,237)\",\"ticklen\":6,\"ticks\":\"inside\"},\"type\":\"contourcarpet\"}],\"contour\":[{\"colorbar\":{\"outlinewidth\":0,\"tickcolor\":\"rgb(237,237,237)\",\"ticklen\":6,\"ticks\":\"inside\"},\"colorscale\":[[0,\"rgb(20,44,66)\"],[1,\"rgb(90,179,244)\"]],\"type\":\"contour\"}],\"heatmapgl\":[{\"colorbar\":{\"outlinewidth\":0,\"tickcolor\":\"rgb(237,237,237)\",\"ticklen\":6,\"ticks\":\"inside\"},\"colorscale\":[[0,\"rgb(20,44,66)\"],[1,\"rgb(90,179,244)\"]],\"type\":\"heatmapgl\"}],\"heatmap\":[{\"colorbar\":{\"outlinewidth\":0,\"tickcolor\":\"rgb(237,237,237)\",\"ticklen\":6,\"ticks\":\"inside\"},\"colorscale\":[[0,\"rgb(20,44,66)\"],[1,\"rgb(90,179,244)\"]],\"type\":\"heatmap\"}],\"histogram2dcontour\":[{\"colorbar\":{\"outlinewidth\":0,\"tickcolor\":\"rgb(237,237,237)\",\"ticklen\":6,\"ticks\":\"inside\"},\"colorscale\":[[0,\"rgb(20,44,66)\"],[1,\"rgb(90,179,244)\"]],\"type\":\"histogram2dcontour\"}],\"histogram2d\":[{\"colorbar\":{\"outlinewidth\":0,\"tickcolor\":\"rgb(237,237,237)\",\"ticklen\":6,\"ticks\":\"inside\"},\"colorscale\":[[0,\"rgb(20,44,66)\"],[1,\"rgb(90,179,244)\"]],\"type\":\"histogram2d\"}],\"histogram\":[{\"marker\":{\"pattern\":{\"fillmode\":\"overlay\",\"size\":10,\"solidity\":0.2}},\"type\":\"histogram\"}],\"mesh3d\":[{\"colorbar\":{\"outlinewidth\":0,\"tickcolor\":\"rgb(237,237,237)\",\"ticklen\":6,\"ticks\":\"inside\"},\"type\":\"mesh3d\"}],\"parcoords\":[{\"line\":{\"colorbar\":{\"outlinewidth\":0,\"tickcolor\":\"rgb(237,237,237)\",\"ticklen\":6,\"ticks\":\"inside\"}},\"type\":\"parcoords\"}],\"pie\":[{\"automargin\":true,\"type\":\"pie\"}],\"scatter3d\":[{\"line\":{\"colorbar\":{\"outlinewidth\":0,\"tickcolor\":\"rgb(237,237,237)\",\"ticklen\":6,\"ticks\":\"inside\"}},\"marker\":{\"colorbar\":{\"outlinewidth\":0,\"tickcolor\":\"rgb(237,237,237)\",\"ticklen\":6,\"ticks\":\"inside\"}},\"type\":\"scatter3d\"}],\"scattercarpet\":[{\"marker\":{\"colorbar\":{\"outlinewidth\":0,\"tickcolor\":\"rgb(237,237,237)\",\"ticklen\":6,\"ticks\":\"inside\"}},\"type\":\"scattercarpet\"}],\"scattergeo\":[{\"marker\":{\"colorbar\":{\"outlinewidth\":0,\"tickcolor\":\"rgb(237,237,237)\",\"ticklen\":6,\"ticks\":\"inside\"}},\"type\":\"scattergeo\"}],\"scattergl\":[{\"marker\":{\"colorbar\":{\"outlinewidth\":0,\"tickcolor\":\"rgb(237,237,237)\",\"ticklen\":6,\"ticks\":\"inside\"}},\"type\":\"scattergl\"}],\"scattermapbox\":[{\"marker\":{\"colorbar\":{\"outlinewidth\":0,\"tickcolor\":\"rgb(237,237,237)\",\"ticklen\":6,\"ticks\":\"inside\"}},\"type\":\"scattermapbox\"}],\"scatterpolargl\":[{\"marker\":{\"colorbar\":{\"outlinewidth\":0,\"tickcolor\":\"rgb(237,237,237)\",\"ticklen\":6,\"ticks\":\"inside\"}},\"type\":\"scatterpolargl\"}],\"scatterpolar\":[{\"marker\":{\"colorbar\":{\"outlinewidth\":0,\"tickcolor\":\"rgb(237,237,237)\",\"ticklen\":6,\"ticks\":\"inside\"}},\"type\":\"scatterpolar\"}],\"scatter\":[{\"marker\":{\"colorbar\":{\"outlinewidth\":0,\"tickcolor\":\"rgb(237,237,237)\",\"ticklen\":6,\"ticks\":\"inside\"}},\"type\":\"scatter\"}],\"scatterternary\":[{\"marker\":{\"colorbar\":{\"outlinewidth\":0,\"tickcolor\":\"rgb(237,237,237)\",\"ticklen\":6,\"ticks\":\"inside\"}},\"type\":\"scatterternary\"}],\"surface\":[{\"colorbar\":{\"outlinewidth\":0,\"tickcolor\":\"rgb(237,237,237)\",\"ticklen\":6,\"ticks\":\"inside\"},\"colorscale\":[[0,\"rgb(20,44,66)\"],[1,\"rgb(90,179,244)\"]],\"type\":\"surface\"}],\"table\":[{\"cells\":{\"fill\":{\"color\":\"rgb(237,237,237)\"},\"line\":{\"color\":\"white\"}},\"header\":{\"fill\":{\"color\":\"rgb(217,217,217)\"},\"line\":{\"color\":\"white\"}},\"type\":\"table\"}]},\"layout\":{\"annotationdefaults\":{\"arrowhead\":0,\"arrowwidth\":1},\"autotypenumbers\":\"strict\",\"coloraxis\":{\"colorbar\":{\"outlinewidth\":0,\"tickcolor\":\"rgb(237,237,237)\",\"ticklen\":6,\"ticks\":\"inside\"}},\"colorscale\":{\"sequential\":[[0,\"rgb(20,44,66)\"],[1,\"rgb(90,179,244)\"]],\"sequentialminus\":[[0,\"rgb(20,44,66)\"],[1,\"rgb(90,179,244)\"]]},\"colorway\":[\"#F8766D\",\"#A3A500\",\"#00BF7D\",\"#00B0F6\",\"#E76BF3\"],\"font\":{\"color\":\"rgb(51,51,51)\"},\"geo\":{\"bgcolor\":\"white\",\"lakecolor\":\"white\",\"landcolor\":\"rgb(237,237,237)\",\"showlakes\":true,\"showland\":true,\"subunitcolor\":\"white\"},\"hoverlabel\":{\"align\":\"left\"},\"hovermode\":\"closest\",\"paper_bgcolor\":\"white\",\"plot_bgcolor\":\"rgb(237,237,237)\",\"polar\":{\"angularaxis\":{\"gridcolor\":\"white\",\"linecolor\":\"white\",\"showgrid\":true,\"tickcolor\":\"rgb(51,51,51)\",\"ticks\":\"outside\"},\"bgcolor\":\"rgb(237,237,237)\",\"radialaxis\":{\"gridcolor\":\"white\",\"linecolor\":\"white\",\"showgrid\":true,\"tickcolor\":\"rgb(51,51,51)\",\"ticks\":\"outside\"}},\"scene\":{\"xaxis\":{\"backgroundcolor\":\"rgb(237,237,237)\",\"gridcolor\":\"white\",\"gridwidth\":2,\"linecolor\":\"white\",\"showbackground\":true,\"showgrid\":true,\"tickcolor\":\"rgb(51,51,51)\",\"ticks\":\"outside\",\"zerolinecolor\":\"white\"},\"yaxis\":{\"backgroundcolor\":\"rgb(237,237,237)\",\"gridcolor\":\"white\",\"gridwidth\":2,\"linecolor\":\"white\",\"showbackground\":true,\"showgrid\":true,\"tickcolor\":\"rgb(51,51,51)\",\"ticks\":\"outside\",\"zerolinecolor\":\"white\"},\"zaxis\":{\"backgroundcolor\":\"rgb(237,237,237)\",\"gridcolor\":\"white\",\"gridwidth\":2,\"linecolor\":\"white\",\"showbackground\":true,\"showgrid\":true,\"tickcolor\":\"rgb(51,51,51)\",\"ticks\":\"outside\",\"zerolinecolor\":\"white\"}},\"shapedefaults\":{\"fillcolor\":\"black\",\"line\":{\"width\":0},\"opacity\":0.3},\"ternary\":{\"aaxis\":{\"gridcolor\":\"white\",\"linecolor\":\"white\",\"showgrid\":true,\"tickcolor\":\"rgb(51,51,51)\",\"ticks\":\"outside\"},\"baxis\":{\"gridcolor\":\"white\",\"linecolor\":\"white\",\"showgrid\":true,\"tickcolor\":\"rgb(51,51,51)\",\"ticks\":\"outside\"},\"bgcolor\":\"rgb(237,237,237)\",\"caxis\":{\"gridcolor\":\"white\",\"linecolor\":\"white\",\"showgrid\":true,\"tickcolor\":\"rgb(51,51,51)\",\"ticks\":\"outside\"}},\"xaxis\":{\"automargin\":true,\"gridcolor\":\"white\",\"linecolor\":\"white\",\"showgrid\":true,\"tickcolor\":\"rgb(51,51,51)\",\"ticks\":\"outside\",\"title\":{\"standoff\":15},\"zerolinecolor\":\"white\"},\"yaxis\":{\"automargin\":true,\"gridcolor\":\"white\",\"linecolor\":\"white\",\"showgrid\":true,\"tickcolor\":\"rgb(51,51,51)\",\"ticks\":\"outside\",\"title\":{\"standoff\":15},\"zerolinecolor\":\"white\"}}},\"xaxis\":{\"anchor\":\"y\",\"domain\":[0.0,0.49],\"title\":{\"text\":\"<b>Quantidade de Matr\\u00edculas</b>\"},\"tickfont\":{\"size\":11},\"range\":[0,500]},\"yaxis\":{\"anchor\":\"x\",\"domain\":[0.0,1.0],\"title\":{\"text\":\"<b>Quantidade de Docentes</b>\"},\"tickfont\":{\"size\":11},\"range\":[0,200]},\"xaxis2\":{\"anchor\":\"y2\",\"domain\":[0.51,1.0],\"matches\":\"x\",\"title\":{\"text\":\"<b>Quantidade de Matr\\u00edculas</b>\"},\"range\":[0,500]},\"yaxis2\":{\"anchor\":\"x2\",\"domain\":[0.0,1.0],\"matches\":\"y\",\"showticklabels\":false,\"range\":[0,200]},\"annotations\":[{\"font\":{},\"showarrow\":false,\"text\":\"<b>Localiza\\u00e7\\u00e3o Rural</b>\",\"x\":0.245,\"xanchor\":\"center\",\"xref\":\"paper\",\"y\":1.0,\"yanchor\":\"bottom\",\"yref\":\"paper\"},{\"font\":{},\"showarrow\":false,\"text\":\"<b>Localiza\\u00e7\\u00e3o Urbana</b>\",\"x\":0.755,\"xanchor\":\"center\",\"xref\":\"paper\",\"y\":1.0,\"yanchor\":\"bottom\",\"yref\":\"paper\"}],\"legend\":{\"title\":{\"text\":\"<b>Localiza\\u00e7\\u00e3o Diferenciada</b>\"},\"tracegroupgap\":0,\"itemsizing\":\"constant\",\"orientation\":\"h\",\"yanchor\":\"top\",\"y\":-0.2,\"xanchor\":\"center\",\"x\":0.5,\"font\":{\"size\":12}},\"margin\":{\"t\":60},\"title\":{\"text\":\"<b>Censo Escolar 2021: An\\u00e1lise de Localiza\\u00e7\\u00e3o Diferenciada (RS)</b>\"},\"height\":600,\"width\":1200,\"font\":{\"size\":11}},                        {\"responsive\": true}                    ).then(function(){\n",
              "                            \n",
              "var gd = document.getElementById('cd868f23-d476-4f4d-a5da-de62eb4fdadf');\n",
              "var x = new MutationObserver(function (mutations, observer) {{\n",
              "        var display = window.getComputedStyle(gd).display;\n",
              "        if (!display || display === 'none') {{\n",
              "            console.log([gd, 'removed!']);\n",
              "            Plotly.purge(gd);\n",
              "            observer.disconnect();\n",
              "        }}\n",
              "}});\n",
              "\n",
              "// Listen for the removal of the full notebook cells\n",
              "var notebookContainer = gd.closest('#notebook-container');\n",
              "if (notebookContainer) {{\n",
              "    x.observe(notebookContainer, {childList: true});\n",
              "}}\n",
              "\n",
              "// Listen for the clearing of the current output cell\n",
              "var outputEl = gd.closest('.output');\n",
              "if (outputEl) {{\n",
              "    x.observe(outputEl, {childList: true});\n",
              "}}\n",
              "\n",
              "                        })                };                            </script>        </div>\n",
              "</body>\n",
              "</html>"
            ]
          },
          "metadata": {}
        }
      ]
    },
    {
      "cell_type": "markdown",
      "source": [
        "####Formatando marcadores."
      ],
      "metadata": {
        "id": "BbuTbFToen0G"
      }
    },
    {
      "cell_type": "code",
      "source": [
        "fig.update_traces(marker_line_width = 1, marker_line_color = 'black')"
      ],
      "metadata": {
        "colab": {
          "base_uri": "https://localhost:8080/",
          "height": 637
        },
        "id": "g2RdOFFge3eF",
        "outputId": "1b023eff-282b-4588-aaaf-0b85ab351a26"
      },
      "execution_count": 14,
      "outputs": [
        {
          "output_type": "display_data",
          "data": {
            "text/html": [
              "<html>\n",
              "<head><meta charset=\"utf-8\" /></head>\n",
              "<body>\n",
              "    <div>            <script src=\"https://cdnjs.cloudflare.com/ajax/libs/mathjax/2.7.5/MathJax.js?config=TeX-AMS-MML_SVG\"></script><script type=\"text/javascript\">if (window.MathJax) {MathJax.Hub.Config({SVG: {font: \"STIX-Web\"}});}</script>                <script type=\"text/javascript\">window.PlotlyConfig = {MathJaxConfig: 'local'};</script>\n",
              "        <script src=\"https://cdn.plot.ly/plotly-2.8.3.min.js\"></script>                <div id=\"2d819444-10cd-4aa3-a051-33696fa4c38b\" class=\"plotly-graph-div\" style=\"height:600px; width:1200px;\"></div>            <script type=\"text/javascript\">                                    window.PLOTLYENV=window.PLOTLYENV || {};                                    if (document.getElementById(\"2d819444-10cd-4aa3-a051-33696fa4c38b\")) {                    Plotly.newPlot(                        \"2d819444-10cd-4aa3-a051-33696fa4c38b\",                        [{\"hovertemplate\":\"TP_LOCALIZACAO_DIFERENCIADA=1.0<br>TP_LOCALIZACAO=2<br>QT_MAT_BAS=%{x}<br>QT_DOC_BAS=%{y}<br>QT_TUR_BAS=%{marker.size}<extra></extra>\",\"legendgroup\":\"\\u00c1rea de Assentamento\",\"marker\":{\"color\":\"brown\",\"opacity\":0.75,\"size\":[4.0,7.0,4.0,2.0,10.0,11.0,6.0,3.0,7.0,6.0,5.0,5.0,4.0,4.0,6.0,4.0,1.0,11.0,4.0,11.0,5.0,6.0,9.0,8.0,4.0,13.0,10.0,5.0,8.0,4.0,13.0,4.0,9.0,3.0,7.0,4.0,16.0,2.0,11.0,11.0,10.0,2.0,3.0,10.0,1.0,1.0,4.0,2.0,8.0,6.0,12.0,3.0,8.0,2.0,9.0,11.0,3.0,12.0,4.0,3.0,11.0,10.0,11.0,3.0,11.0],\"sizemode\":\"area\",\"sizeref\":0.028888888888888888,\"symbol\":\"circle\",\"line\":{\"color\":\"black\",\"width\":1}},\"mode\":\"markers\",\"name\":\"\\u00c1rea de Assentamento\",\"orientation\":\"v\",\"showlegend\":true,\"x\":[32.0,64.0,31.0,12.0,150.0,270.0,73.0,35.0,62.0,62.0,32.0,6.0,29.0,23.0,45.0,42.0,12.0,242.0,38.0,132.0,51.0,39.0,98.0,58.0,48.0,105.0,158.0,64.0,67.0,38.0,201.0,22.0,83.0,29.0,78.0,87.0,350.0,25.0,31.0,81.0,36.0,12.0,21.0,128.0,14.0,7.0,30.0,10.0,69.0,88.0,179.0,21.0,105.0,14.0,76.0,85.0,35.0,153.0,52.0,33.0,74.0,53.0,65.0,21.0,277.0],\"xaxis\":\"x\",\"y\":[6.0,47.0,14.0,9.0,7.0,17.0,6.0,5.0,6.0,10.0,13.0,27.0,9.0,8.0,13.0,39.0,45.0,16.0,24.0,5.0,12.0,13.0,34.0,12.0,54.0,5.0,11.0,5.0,11.0,12.0,6.0,3.0,57.0,3.0,7.0,30.0,14.0,75.0,9.0,3.0,2.0,1.0,4.0,35.0,15.0,47.0,15.0,3.0,5.0,16.0,12.0,8.0,27.0,18.0,4.0,31.0,5.0,6.0,51.0,11.0,38.0,34.0,6.0,5.0,10.0],\"yaxis\":\"y\",\"type\":\"scatter\"},{\"hovertemplate\":\"TP_LOCALIZACAO_DIFERENCIADA=2.0<br>TP_LOCALIZACAO=2<br>QT_MAT_BAS=%{x}<br>QT_DOC_BAS=%{y}<br>QT_TUR_BAS=%{marker.size}<extra></extra>\",\"legendgroup\":\"Terra Ind\\u00edgena\",\"marker\":{\"color\":\"orange\",\"opacity\":0.75,\"size\":[7.0,5.0,4.0,4.0,2.0,3.0,7.0,15.0,1.0,1.0,2.0,9.0,2.0,3.0,1.0,3.0,20.0,2.0,5.0,1.0,3.0,1.0,8.0,6.0,4.0,1.0,2.0,4.0,5.0,9.0,2.0,7.0,15.0,5.0,4.0,2.0,10.0,1.0,1.0,3.0,3.0,6.0,12.0,1.0,3.0,11.0,2.0,3.0,7.0,2.0,21.0,13.0,10.0,10.0,9.0,3.0,4.0,2.0,7.0,5.0,2.0,13.0,3.0,7.0,6.0,5.0,7.0,6.0,11.0,18.0,1.0,11.0,11.0,15.0,10.0,7.0,4.0,9.0,7.0],\"sizemode\":\"area\",\"sizeref\":0.028888888888888888,\"symbol\":\"circle\",\"line\":{\"color\":\"black\",\"width\":1}},\"mode\":\"markers\",\"name\":\"Terra Ind\\u00edgena\",\"orientation\":\"v\",\"showlegend\":true,\"x\":[112.0,45.0,16.0,34.0,33.0,29.0,85.0,240.0,2.0,8.0,12.0,141.0,25.0,46.0,3.0,34.0,337.0,21.0,76.0,2.0,49.0,15.0,56.0,49.0,49.0,6.0,11.0,57.0,35.0,149.0,18.0,115.0,254.0,36.0,74.0,30.0,112.0,3.0,8.0,34.0,20.0,79.0,174.0,8.0,15.0,184.0,9.0,6.0,82.0,22.0,407.0,237.0,129.0,141.0,130.0,31.0,56.0,19.0,85.0,40.0,10.0,180.0,30.0,50.0,61.0,22.0,57.0,65.0,149.0,334.0,7.0,137.0,167.0,198.0,111.0,48.0,35.0,54.0,86.0],\"xaxis\":\"x\",\"y\":[4.0,16.0,2.0,10.0,18.0,1.0,20.0,17.0,14.0,20.0,16.0,13.0,2.0,12.0,6.0,26.0,20.0,33.0,14.0,16.0,8.0,2.0,3.0,5.0,2.0,3.0,3.0,8.0,4.0,2.0,1.0,9.0,3.0,26.0,19.0,16.0,9.0,18.0,6.0,47.0,9.0,22.0,41.0,15.0,7.0,20.0,3.0,21.0,4.0,2.0,18.0,2.0,18.0,16.0,37.0,14.0,3.0,6.0,14.0,21.0,5.0,13.0,6.0,2.0,30.0,2.0,8.0,10.0,8.0,13.0,5.0,5.0,11.0,5.0,4.0,5.0,3.0,5.0,11.0],\"yaxis\":\"y\",\"type\":\"scatter\"},{\"hovertemplate\":\"TP_LOCALIZACAO_DIFERENCIADA=2.0<br>TP_LOCALIZACAO=1<br>QT_MAT_BAS=%{x}<br>QT_DOC_BAS=%{y}<br>QT_TUR_BAS=%{marker.size}<extra></extra>\",\"legendgroup\":\"Terra Ind\\u00edgena\",\"marker\":{\"color\":\"orange\",\"opacity\":0.75,\"size\":[1.0,3.0,2.0,3.0,2.0,13.0,4.0,2.0],\"sizemode\":\"area\",\"sizeref\":0.028888888888888888,\"symbol\":\"circle\",\"line\":{\"color\":\"black\",\"width\":1}},\"mode\":\"markers\",\"name\":\"Terra Ind\\u00edgena\",\"orientation\":\"v\",\"showlegend\":false,\"x\":[11.0,17.0,20.0,9.0,4.0,58.0,38.0,13.0],\"xaxis\":\"x2\",\"y\":[2.0,23.0,11.0,15.0,20.0,33.0,11.0,3.0],\"yaxis\":\"y2\",\"type\":\"scatter\"},{\"hovertemplate\":\"TP_LOCALIZACAO_DIFERENCIADA=3.0<br>TP_LOCALIZACAO=2<br>QT_MAT_BAS=%{x}<br>QT_DOC_BAS=%{y}<br>QT_TUR_BAS=%{marker.size}<extra></extra>\",\"legendgroup\":\"Remanescentes Quilombolas\",\"marker\":{\"color\":\"turquoise\",\"opacity\":0.75,\"size\":[11.0,8.0,13.0,10.0,12.0,10.0,11.0,10.0,9.0,10.0,10.0,11.0,10.0,12.0,9.0,9.0,11.0,9.0,15.0,10.0,10.0,10.0,7.0,7.0,5.0,8.0,6.0,3.0,15.0,3.0,10.0,3.0,8.0,6.0,2.0,4.0,10.0,11.0,15.0,4.0,26.0,10.0,2.0,6.0,12.0,7.0,7.0,5.0,7.0,13.0,15.0,13.0,11.0,8.0],\"sizemode\":\"area\",\"sizeref\":0.028888888888888888,\"symbol\":\"circle\",\"line\":{\"color\":\"black\",\"width\":1}},\"mode\":\"markers\",\"name\":\"Remanescentes Quilombolas\",\"orientation\":\"v\",\"showlegend\":true,\"x\":[126.0,65.0,235.0,131.0,116.0,116.0,187.0,94.0,70.0,57.0,131.0,142.0,114.0,206.0,101.0,69.0,120.0,104.0,169.0,138.0,120.0,106.0,58.0,65.0,44.0,86.0,90.0,21.0,206.0,53.0,123.0,25.0,128.0,55.0,23.0,25.0,190.0,157.0,219.0,32.0,333.0,111.0,16.0,126.0,186.0,171.0,100.0,19.0,92.0,248.0,254.0,218.0,87.0,90.0],\"xaxis\":\"x\",\"y\":[11.0,13.0,18.0,25.0,18.0,34.0,16.0,17.0,17.0,6.0,14.0,8.0,17.0,17.0,15.0,48.0,15.0,17.0,17.0,15.0,37.0,6.0,33.0,20.0,23.0,1.0,14.0,2.0,21.0,15.0,24.0,19.0,24.0,19.0,25.0,11.0,18.0,30.0,57.0,36.0,58.0,30.0,16.0,2.0,5.0,25.0,9.0,16.0,4.0,34.0,25.0,28.0,4.0,38.0],\"yaxis\":\"y\",\"type\":\"scatter\"},{\"hovertemplate\":\"TP_LOCALIZACAO_DIFERENCIADA=3.0<br>TP_LOCALIZACAO=1<br>QT_MAT_BAS=%{x}<br>QT_DOC_BAS=%{y}<br>QT_TUR_BAS=%{marker.size}<extra></extra>\",\"legendgroup\":\"Remanescentes Quilombolas\",\"marker\":{\"color\":\"turquoise\",\"opacity\":0.75,\"size\":[19.0,9.0,4.0,4.0,15.0,2.0,10.0],\"sizemode\":\"area\",\"sizeref\":0.028888888888888888,\"symbol\":\"circle\",\"line\":{\"color\":\"black\",\"width\":1}},\"mode\":\"markers\",\"name\":\"Remanescentes Quilombolas\",\"orientation\":\"v\",\"showlegend\":false,\"x\":[285.0,173.0,36.0,36.0,299.0,31.0,226.0],\"xaxis\":\"x2\",\"y\":[12.0,5.0,22.0,5.0,7.0,10.0,157.0],\"yaxis\":\"y2\",\"type\":\"scatter\"}],                        {\"template\":{\"data\":{\"barpolar\":[{\"marker\":{\"line\":{\"color\":\"rgb(237,237,237)\",\"width\":0.5},\"pattern\":{\"fillmode\":\"overlay\",\"size\":10,\"solidity\":0.2}},\"type\":\"barpolar\"}],\"bar\":[{\"error_x\":{\"color\":\"rgb(51,51,51)\"},\"error_y\":{\"color\":\"rgb(51,51,51)\"},\"marker\":{\"line\":{\"color\":\"rgb(237,237,237)\",\"width\":0.5},\"pattern\":{\"fillmode\":\"overlay\",\"size\":10,\"solidity\":0.2}},\"type\":\"bar\"}],\"carpet\":[{\"aaxis\":{\"endlinecolor\":\"rgb(51,51,51)\",\"gridcolor\":\"white\",\"linecolor\":\"white\",\"minorgridcolor\":\"white\",\"startlinecolor\":\"rgb(51,51,51)\"},\"baxis\":{\"endlinecolor\":\"rgb(51,51,51)\",\"gridcolor\":\"white\",\"linecolor\":\"white\",\"minorgridcolor\":\"white\",\"startlinecolor\":\"rgb(51,51,51)\"},\"type\":\"carpet\"}],\"choropleth\":[{\"colorbar\":{\"outlinewidth\":0,\"tickcolor\":\"rgb(237,237,237)\",\"ticklen\":6,\"ticks\":\"inside\"},\"type\":\"choropleth\"}],\"contourcarpet\":[{\"colorbar\":{\"outlinewidth\":0,\"tickcolor\":\"rgb(237,237,237)\",\"ticklen\":6,\"ticks\":\"inside\"},\"type\":\"contourcarpet\"}],\"contour\":[{\"colorbar\":{\"outlinewidth\":0,\"tickcolor\":\"rgb(237,237,237)\",\"ticklen\":6,\"ticks\":\"inside\"},\"colorscale\":[[0,\"rgb(20,44,66)\"],[1,\"rgb(90,179,244)\"]],\"type\":\"contour\"}],\"heatmapgl\":[{\"colorbar\":{\"outlinewidth\":0,\"tickcolor\":\"rgb(237,237,237)\",\"ticklen\":6,\"ticks\":\"inside\"},\"colorscale\":[[0,\"rgb(20,44,66)\"],[1,\"rgb(90,179,244)\"]],\"type\":\"heatmapgl\"}],\"heatmap\":[{\"colorbar\":{\"outlinewidth\":0,\"tickcolor\":\"rgb(237,237,237)\",\"ticklen\":6,\"ticks\":\"inside\"},\"colorscale\":[[0,\"rgb(20,44,66)\"],[1,\"rgb(90,179,244)\"]],\"type\":\"heatmap\"}],\"histogram2dcontour\":[{\"colorbar\":{\"outlinewidth\":0,\"tickcolor\":\"rgb(237,237,237)\",\"ticklen\":6,\"ticks\":\"inside\"},\"colorscale\":[[0,\"rgb(20,44,66)\"],[1,\"rgb(90,179,244)\"]],\"type\":\"histogram2dcontour\"}],\"histogram2d\":[{\"colorbar\":{\"outlinewidth\":0,\"tickcolor\":\"rgb(237,237,237)\",\"ticklen\":6,\"ticks\":\"inside\"},\"colorscale\":[[0,\"rgb(20,44,66)\"],[1,\"rgb(90,179,244)\"]],\"type\":\"histogram2d\"}],\"histogram\":[{\"marker\":{\"pattern\":{\"fillmode\":\"overlay\",\"size\":10,\"solidity\":0.2}},\"type\":\"histogram\"}],\"mesh3d\":[{\"colorbar\":{\"outlinewidth\":0,\"tickcolor\":\"rgb(237,237,237)\",\"ticklen\":6,\"ticks\":\"inside\"},\"type\":\"mesh3d\"}],\"parcoords\":[{\"line\":{\"colorbar\":{\"outlinewidth\":0,\"tickcolor\":\"rgb(237,237,237)\",\"ticklen\":6,\"ticks\":\"inside\"}},\"type\":\"parcoords\"}],\"pie\":[{\"automargin\":true,\"type\":\"pie\"}],\"scatter3d\":[{\"line\":{\"colorbar\":{\"outlinewidth\":0,\"tickcolor\":\"rgb(237,237,237)\",\"ticklen\":6,\"ticks\":\"inside\"}},\"marker\":{\"colorbar\":{\"outlinewidth\":0,\"tickcolor\":\"rgb(237,237,237)\",\"ticklen\":6,\"ticks\":\"inside\"}},\"type\":\"scatter3d\"}],\"scattercarpet\":[{\"marker\":{\"colorbar\":{\"outlinewidth\":0,\"tickcolor\":\"rgb(237,237,237)\",\"ticklen\":6,\"ticks\":\"inside\"}},\"type\":\"scattercarpet\"}],\"scattergeo\":[{\"marker\":{\"colorbar\":{\"outlinewidth\":0,\"tickcolor\":\"rgb(237,237,237)\",\"ticklen\":6,\"ticks\":\"inside\"}},\"type\":\"scattergeo\"}],\"scattergl\":[{\"marker\":{\"colorbar\":{\"outlinewidth\":0,\"tickcolor\":\"rgb(237,237,237)\",\"ticklen\":6,\"ticks\":\"inside\"}},\"type\":\"scattergl\"}],\"scattermapbox\":[{\"marker\":{\"colorbar\":{\"outlinewidth\":0,\"tickcolor\":\"rgb(237,237,237)\",\"ticklen\":6,\"ticks\":\"inside\"}},\"type\":\"scattermapbox\"}],\"scatterpolargl\":[{\"marker\":{\"colorbar\":{\"outlinewidth\":0,\"tickcolor\":\"rgb(237,237,237)\",\"ticklen\":6,\"ticks\":\"inside\"}},\"type\":\"scatterpolargl\"}],\"scatterpolar\":[{\"marker\":{\"colorbar\":{\"outlinewidth\":0,\"tickcolor\":\"rgb(237,237,237)\",\"ticklen\":6,\"ticks\":\"inside\"}},\"type\":\"scatterpolar\"}],\"scatter\":[{\"marker\":{\"colorbar\":{\"outlinewidth\":0,\"tickcolor\":\"rgb(237,237,237)\",\"ticklen\":6,\"ticks\":\"inside\"}},\"type\":\"scatter\"}],\"scatterternary\":[{\"marker\":{\"colorbar\":{\"outlinewidth\":0,\"tickcolor\":\"rgb(237,237,237)\",\"ticklen\":6,\"ticks\":\"inside\"}},\"type\":\"scatterternary\"}],\"surface\":[{\"colorbar\":{\"outlinewidth\":0,\"tickcolor\":\"rgb(237,237,237)\",\"ticklen\":6,\"ticks\":\"inside\"},\"colorscale\":[[0,\"rgb(20,44,66)\"],[1,\"rgb(90,179,244)\"]],\"type\":\"surface\"}],\"table\":[{\"cells\":{\"fill\":{\"color\":\"rgb(237,237,237)\"},\"line\":{\"color\":\"white\"}},\"header\":{\"fill\":{\"color\":\"rgb(217,217,217)\"},\"line\":{\"color\":\"white\"}},\"type\":\"table\"}]},\"layout\":{\"annotationdefaults\":{\"arrowhead\":0,\"arrowwidth\":1},\"autotypenumbers\":\"strict\",\"coloraxis\":{\"colorbar\":{\"outlinewidth\":0,\"tickcolor\":\"rgb(237,237,237)\",\"ticklen\":6,\"ticks\":\"inside\"}},\"colorscale\":{\"sequential\":[[0,\"rgb(20,44,66)\"],[1,\"rgb(90,179,244)\"]],\"sequentialminus\":[[0,\"rgb(20,44,66)\"],[1,\"rgb(90,179,244)\"]]},\"colorway\":[\"#F8766D\",\"#A3A500\",\"#00BF7D\",\"#00B0F6\",\"#E76BF3\"],\"font\":{\"color\":\"rgb(51,51,51)\"},\"geo\":{\"bgcolor\":\"white\",\"lakecolor\":\"white\",\"landcolor\":\"rgb(237,237,237)\",\"showlakes\":true,\"showland\":true,\"subunitcolor\":\"white\"},\"hoverlabel\":{\"align\":\"left\"},\"hovermode\":\"closest\",\"paper_bgcolor\":\"white\",\"plot_bgcolor\":\"rgb(237,237,237)\",\"polar\":{\"angularaxis\":{\"gridcolor\":\"white\",\"linecolor\":\"white\",\"showgrid\":true,\"tickcolor\":\"rgb(51,51,51)\",\"ticks\":\"outside\"},\"bgcolor\":\"rgb(237,237,237)\",\"radialaxis\":{\"gridcolor\":\"white\",\"linecolor\":\"white\",\"showgrid\":true,\"tickcolor\":\"rgb(51,51,51)\",\"ticks\":\"outside\"}},\"scene\":{\"xaxis\":{\"backgroundcolor\":\"rgb(237,237,237)\",\"gridcolor\":\"white\",\"gridwidth\":2,\"linecolor\":\"white\",\"showbackground\":true,\"showgrid\":true,\"tickcolor\":\"rgb(51,51,51)\",\"ticks\":\"outside\",\"zerolinecolor\":\"white\"},\"yaxis\":{\"backgroundcolor\":\"rgb(237,237,237)\",\"gridcolor\":\"white\",\"gridwidth\":2,\"linecolor\":\"white\",\"showbackground\":true,\"showgrid\":true,\"tickcolor\":\"rgb(51,51,51)\",\"ticks\":\"outside\",\"zerolinecolor\":\"white\"},\"zaxis\":{\"backgroundcolor\":\"rgb(237,237,237)\",\"gridcolor\":\"white\",\"gridwidth\":2,\"linecolor\":\"white\",\"showbackground\":true,\"showgrid\":true,\"tickcolor\":\"rgb(51,51,51)\",\"ticks\":\"outside\",\"zerolinecolor\":\"white\"}},\"shapedefaults\":{\"fillcolor\":\"black\",\"line\":{\"width\":0},\"opacity\":0.3},\"ternary\":{\"aaxis\":{\"gridcolor\":\"white\",\"linecolor\":\"white\",\"showgrid\":true,\"tickcolor\":\"rgb(51,51,51)\",\"ticks\":\"outside\"},\"baxis\":{\"gridcolor\":\"white\",\"linecolor\":\"white\",\"showgrid\":true,\"tickcolor\":\"rgb(51,51,51)\",\"ticks\":\"outside\"},\"bgcolor\":\"rgb(237,237,237)\",\"caxis\":{\"gridcolor\":\"white\",\"linecolor\":\"white\",\"showgrid\":true,\"tickcolor\":\"rgb(51,51,51)\",\"ticks\":\"outside\"}},\"xaxis\":{\"automargin\":true,\"gridcolor\":\"white\",\"linecolor\":\"white\",\"showgrid\":true,\"tickcolor\":\"rgb(51,51,51)\",\"ticks\":\"outside\",\"title\":{\"standoff\":15},\"zerolinecolor\":\"white\"},\"yaxis\":{\"automargin\":true,\"gridcolor\":\"white\",\"linecolor\":\"white\",\"showgrid\":true,\"tickcolor\":\"rgb(51,51,51)\",\"ticks\":\"outside\",\"title\":{\"standoff\":15},\"zerolinecolor\":\"white\"}}},\"xaxis\":{\"anchor\":\"y\",\"domain\":[0.0,0.49],\"title\":{\"text\":\"<b>Quantidade de Matr\\u00edculas</b>\"},\"tickfont\":{\"size\":11},\"range\":[0,500]},\"yaxis\":{\"anchor\":\"x\",\"domain\":[0.0,1.0],\"title\":{\"text\":\"<b>Quantidade de Docentes</b>\"},\"tickfont\":{\"size\":11},\"range\":[0,200]},\"xaxis2\":{\"anchor\":\"y2\",\"domain\":[0.51,1.0],\"matches\":\"x\",\"title\":{\"text\":\"<b>Quantidade de Matr\\u00edculas</b>\"},\"range\":[0,500]},\"yaxis2\":{\"anchor\":\"x2\",\"domain\":[0.0,1.0],\"matches\":\"y\",\"showticklabels\":false,\"range\":[0,200]},\"annotations\":[{\"font\":{},\"showarrow\":false,\"text\":\"<b>Localiza\\u00e7\\u00e3o Rural</b>\",\"x\":0.245,\"xanchor\":\"center\",\"xref\":\"paper\",\"y\":1.0,\"yanchor\":\"bottom\",\"yref\":\"paper\"},{\"font\":{},\"showarrow\":false,\"text\":\"<b>Localiza\\u00e7\\u00e3o Urbana</b>\",\"x\":0.755,\"xanchor\":\"center\",\"xref\":\"paper\",\"y\":1.0,\"yanchor\":\"bottom\",\"yref\":\"paper\"}],\"legend\":{\"title\":{\"text\":\"<b>Localiza\\u00e7\\u00e3o Diferenciada</b>\"},\"tracegroupgap\":0,\"itemsizing\":\"constant\",\"orientation\":\"h\",\"yanchor\":\"top\",\"y\":-0.2,\"xanchor\":\"center\",\"x\":0.5,\"font\":{\"size\":12}},\"margin\":{\"t\":60},\"title\":{\"text\":\"<b>Censo Escolar 2021: An\\u00e1lise de Localiza\\u00e7\\u00e3o Diferenciada (RS)</b>\"},\"height\":600,\"width\":1200,\"font\":{\"size\":11}},                        {\"responsive\": true}                    ).then(function(){\n",
              "                            \n",
              "var gd = document.getElementById('2d819444-10cd-4aa3-a051-33696fa4c38b');\n",
              "var x = new MutationObserver(function (mutations, observer) {{\n",
              "        var display = window.getComputedStyle(gd).display;\n",
              "        if (!display || display === 'none') {{\n",
              "            console.log([gd, 'removed!']);\n",
              "            Plotly.purge(gd);\n",
              "            observer.disconnect();\n",
              "        }}\n",
              "}});\n",
              "\n",
              "// Listen for the removal of the full notebook cells\n",
              "var notebookContainer = gd.closest('#notebook-container');\n",
              "if (notebookContainer) {{\n",
              "    x.observe(notebookContainer, {childList: true});\n",
              "}}\n",
              "\n",
              "// Listen for the clearing of the current output cell\n",
              "var outputEl = gd.closest('.output');\n",
              "if (outputEl) {{\n",
              "    x.observe(outputEl, {childList: true});\n",
              "}}\n",
              "\n",
              "                        })                };                            </script>        </div>\n",
              "</body>\n",
              "</html>"
            ]
          },
          "metadata": {}
        }
      ]
    },
    {
      "cell_type": "markdown",
      "source": [
        "####Inserindo uma anotação com informação da fonte de dados."
      ],
      "metadata": {
        "id": "bh23gybpfYbd"
      }
    },
    {
      "cell_type": "code",
      "source": [
        "fig.add_annotation(\n",
        "    text=\"Fonte: INEP\",\n",
        "    xref=\"paper\",\n",
        "    yref=\"paper\",\n",
        "    font_color = \"darkgray\",\n",
        "    font_size = 12,\n",
        "    xanchor = 'right',\n",
        "    yanchor = 'bottom',\n",
        "    x=1,\n",
        "    y=1,\n",
        "    showarrow=False)"
      ],
      "metadata": {
        "colab": {
          "base_uri": "https://localhost:8080/",
          "height": 637
        },
        "id": "afjaz-mnfnoe",
        "outputId": "f3e2253a-6a61-4895-ce43-7699d9e2fc3c"
      },
      "execution_count": 15,
      "outputs": [
        {
          "output_type": "display_data",
          "data": {
            "text/html": [
              "<html>\n",
              "<head><meta charset=\"utf-8\" /></head>\n",
              "<body>\n",
              "    <div>            <script src=\"https://cdnjs.cloudflare.com/ajax/libs/mathjax/2.7.5/MathJax.js?config=TeX-AMS-MML_SVG\"></script><script type=\"text/javascript\">if (window.MathJax) {MathJax.Hub.Config({SVG: {font: \"STIX-Web\"}});}</script>                <script type=\"text/javascript\">window.PlotlyConfig = {MathJaxConfig: 'local'};</script>\n",
              "        <script src=\"https://cdn.plot.ly/plotly-2.8.3.min.js\"></script>                <div id=\"c9554160-183e-4a56-a2f1-94ecf457c19e\" class=\"plotly-graph-div\" style=\"height:600px; width:1200px;\"></div>            <script type=\"text/javascript\">                                    window.PLOTLYENV=window.PLOTLYENV || {};                                    if (document.getElementById(\"c9554160-183e-4a56-a2f1-94ecf457c19e\")) {                    Plotly.newPlot(                        \"c9554160-183e-4a56-a2f1-94ecf457c19e\",                        [{\"hovertemplate\":\"TP_LOCALIZACAO_DIFERENCIADA=1.0<br>TP_LOCALIZACAO=2<br>QT_MAT_BAS=%{x}<br>QT_DOC_BAS=%{y}<br>QT_TUR_BAS=%{marker.size}<extra></extra>\",\"legendgroup\":\"\\u00c1rea de Assentamento\",\"marker\":{\"color\":\"brown\",\"opacity\":0.75,\"size\":[4.0,7.0,4.0,2.0,10.0,11.0,6.0,3.0,7.0,6.0,5.0,5.0,4.0,4.0,6.0,4.0,1.0,11.0,4.0,11.0,5.0,6.0,9.0,8.0,4.0,13.0,10.0,5.0,8.0,4.0,13.0,4.0,9.0,3.0,7.0,4.0,16.0,2.0,11.0,11.0,10.0,2.0,3.0,10.0,1.0,1.0,4.0,2.0,8.0,6.0,12.0,3.0,8.0,2.0,9.0,11.0,3.0,12.0,4.0,3.0,11.0,10.0,11.0,3.0,11.0],\"sizemode\":\"area\",\"sizeref\":0.028888888888888888,\"symbol\":\"circle\",\"line\":{\"color\":\"black\",\"width\":1}},\"mode\":\"markers\",\"name\":\"\\u00c1rea de Assentamento\",\"orientation\":\"v\",\"showlegend\":true,\"x\":[32.0,64.0,31.0,12.0,150.0,270.0,73.0,35.0,62.0,62.0,32.0,6.0,29.0,23.0,45.0,42.0,12.0,242.0,38.0,132.0,51.0,39.0,98.0,58.0,48.0,105.0,158.0,64.0,67.0,38.0,201.0,22.0,83.0,29.0,78.0,87.0,350.0,25.0,31.0,81.0,36.0,12.0,21.0,128.0,14.0,7.0,30.0,10.0,69.0,88.0,179.0,21.0,105.0,14.0,76.0,85.0,35.0,153.0,52.0,33.0,74.0,53.0,65.0,21.0,277.0],\"xaxis\":\"x\",\"y\":[6.0,47.0,14.0,9.0,7.0,17.0,6.0,5.0,6.0,10.0,13.0,27.0,9.0,8.0,13.0,39.0,45.0,16.0,24.0,5.0,12.0,13.0,34.0,12.0,54.0,5.0,11.0,5.0,11.0,12.0,6.0,3.0,57.0,3.0,7.0,30.0,14.0,75.0,9.0,3.0,2.0,1.0,4.0,35.0,15.0,47.0,15.0,3.0,5.0,16.0,12.0,8.0,27.0,18.0,4.0,31.0,5.0,6.0,51.0,11.0,38.0,34.0,6.0,5.0,10.0],\"yaxis\":\"y\",\"type\":\"scatter\"},{\"hovertemplate\":\"TP_LOCALIZACAO_DIFERENCIADA=2.0<br>TP_LOCALIZACAO=2<br>QT_MAT_BAS=%{x}<br>QT_DOC_BAS=%{y}<br>QT_TUR_BAS=%{marker.size}<extra></extra>\",\"legendgroup\":\"Terra Ind\\u00edgena\",\"marker\":{\"color\":\"orange\",\"opacity\":0.75,\"size\":[7.0,5.0,4.0,4.0,2.0,3.0,7.0,15.0,1.0,1.0,2.0,9.0,2.0,3.0,1.0,3.0,20.0,2.0,5.0,1.0,3.0,1.0,8.0,6.0,4.0,1.0,2.0,4.0,5.0,9.0,2.0,7.0,15.0,5.0,4.0,2.0,10.0,1.0,1.0,3.0,3.0,6.0,12.0,1.0,3.0,11.0,2.0,3.0,7.0,2.0,21.0,13.0,10.0,10.0,9.0,3.0,4.0,2.0,7.0,5.0,2.0,13.0,3.0,7.0,6.0,5.0,7.0,6.0,11.0,18.0,1.0,11.0,11.0,15.0,10.0,7.0,4.0,9.0,7.0],\"sizemode\":\"area\",\"sizeref\":0.028888888888888888,\"symbol\":\"circle\",\"line\":{\"color\":\"black\",\"width\":1}},\"mode\":\"markers\",\"name\":\"Terra Ind\\u00edgena\",\"orientation\":\"v\",\"showlegend\":true,\"x\":[112.0,45.0,16.0,34.0,33.0,29.0,85.0,240.0,2.0,8.0,12.0,141.0,25.0,46.0,3.0,34.0,337.0,21.0,76.0,2.0,49.0,15.0,56.0,49.0,49.0,6.0,11.0,57.0,35.0,149.0,18.0,115.0,254.0,36.0,74.0,30.0,112.0,3.0,8.0,34.0,20.0,79.0,174.0,8.0,15.0,184.0,9.0,6.0,82.0,22.0,407.0,237.0,129.0,141.0,130.0,31.0,56.0,19.0,85.0,40.0,10.0,180.0,30.0,50.0,61.0,22.0,57.0,65.0,149.0,334.0,7.0,137.0,167.0,198.0,111.0,48.0,35.0,54.0,86.0],\"xaxis\":\"x\",\"y\":[4.0,16.0,2.0,10.0,18.0,1.0,20.0,17.0,14.0,20.0,16.0,13.0,2.0,12.0,6.0,26.0,20.0,33.0,14.0,16.0,8.0,2.0,3.0,5.0,2.0,3.0,3.0,8.0,4.0,2.0,1.0,9.0,3.0,26.0,19.0,16.0,9.0,18.0,6.0,47.0,9.0,22.0,41.0,15.0,7.0,20.0,3.0,21.0,4.0,2.0,18.0,2.0,18.0,16.0,37.0,14.0,3.0,6.0,14.0,21.0,5.0,13.0,6.0,2.0,30.0,2.0,8.0,10.0,8.0,13.0,5.0,5.0,11.0,5.0,4.0,5.0,3.0,5.0,11.0],\"yaxis\":\"y\",\"type\":\"scatter\"},{\"hovertemplate\":\"TP_LOCALIZACAO_DIFERENCIADA=2.0<br>TP_LOCALIZACAO=1<br>QT_MAT_BAS=%{x}<br>QT_DOC_BAS=%{y}<br>QT_TUR_BAS=%{marker.size}<extra></extra>\",\"legendgroup\":\"Terra Ind\\u00edgena\",\"marker\":{\"color\":\"orange\",\"opacity\":0.75,\"size\":[1.0,3.0,2.0,3.0,2.0,13.0,4.0,2.0],\"sizemode\":\"area\",\"sizeref\":0.028888888888888888,\"symbol\":\"circle\",\"line\":{\"color\":\"black\",\"width\":1}},\"mode\":\"markers\",\"name\":\"Terra Ind\\u00edgena\",\"orientation\":\"v\",\"showlegend\":false,\"x\":[11.0,17.0,20.0,9.0,4.0,58.0,38.0,13.0],\"xaxis\":\"x2\",\"y\":[2.0,23.0,11.0,15.0,20.0,33.0,11.0,3.0],\"yaxis\":\"y2\",\"type\":\"scatter\"},{\"hovertemplate\":\"TP_LOCALIZACAO_DIFERENCIADA=3.0<br>TP_LOCALIZACAO=2<br>QT_MAT_BAS=%{x}<br>QT_DOC_BAS=%{y}<br>QT_TUR_BAS=%{marker.size}<extra></extra>\",\"legendgroup\":\"Remanescentes Quilombolas\",\"marker\":{\"color\":\"turquoise\",\"opacity\":0.75,\"size\":[11.0,8.0,13.0,10.0,12.0,10.0,11.0,10.0,9.0,10.0,10.0,11.0,10.0,12.0,9.0,9.0,11.0,9.0,15.0,10.0,10.0,10.0,7.0,7.0,5.0,8.0,6.0,3.0,15.0,3.0,10.0,3.0,8.0,6.0,2.0,4.0,10.0,11.0,15.0,4.0,26.0,10.0,2.0,6.0,12.0,7.0,7.0,5.0,7.0,13.0,15.0,13.0,11.0,8.0],\"sizemode\":\"area\",\"sizeref\":0.028888888888888888,\"symbol\":\"circle\",\"line\":{\"color\":\"black\",\"width\":1}},\"mode\":\"markers\",\"name\":\"Remanescentes Quilombolas\",\"orientation\":\"v\",\"showlegend\":true,\"x\":[126.0,65.0,235.0,131.0,116.0,116.0,187.0,94.0,70.0,57.0,131.0,142.0,114.0,206.0,101.0,69.0,120.0,104.0,169.0,138.0,120.0,106.0,58.0,65.0,44.0,86.0,90.0,21.0,206.0,53.0,123.0,25.0,128.0,55.0,23.0,25.0,190.0,157.0,219.0,32.0,333.0,111.0,16.0,126.0,186.0,171.0,100.0,19.0,92.0,248.0,254.0,218.0,87.0,90.0],\"xaxis\":\"x\",\"y\":[11.0,13.0,18.0,25.0,18.0,34.0,16.0,17.0,17.0,6.0,14.0,8.0,17.0,17.0,15.0,48.0,15.0,17.0,17.0,15.0,37.0,6.0,33.0,20.0,23.0,1.0,14.0,2.0,21.0,15.0,24.0,19.0,24.0,19.0,25.0,11.0,18.0,30.0,57.0,36.0,58.0,30.0,16.0,2.0,5.0,25.0,9.0,16.0,4.0,34.0,25.0,28.0,4.0,38.0],\"yaxis\":\"y\",\"type\":\"scatter\"},{\"hovertemplate\":\"TP_LOCALIZACAO_DIFERENCIADA=3.0<br>TP_LOCALIZACAO=1<br>QT_MAT_BAS=%{x}<br>QT_DOC_BAS=%{y}<br>QT_TUR_BAS=%{marker.size}<extra></extra>\",\"legendgroup\":\"Remanescentes Quilombolas\",\"marker\":{\"color\":\"turquoise\",\"opacity\":0.75,\"size\":[19.0,9.0,4.0,4.0,15.0,2.0,10.0],\"sizemode\":\"area\",\"sizeref\":0.028888888888888888,\"symbol\":\"circle\",\"line\":{\"color\":\"black\",\"width\":1}},\"mode\":\"markers\",\"name\":\"Remanescentes Quilombolas\",\"orientation\":\"v\",\"showlegend\":false,\"x\":[285.0,173.0,36.0,36.0,299.0,31.0,226.0],\"xaxis\":\"x2\",\"y\":[12.0,5.0,22.0,5.0,7.0,10.0,157.0],\"yaxis\":\"y2\",\"type\":\"scatter\"}],                        {\"template\":{\"data\":{\"barpolar\":[{\"marker\":{\"line\":{\"color\":\"rgb(237,237,237)\",\"width\":0.5},\"pattern\":{\"fillmode\":\"overlay\",\"size\":10,\"solidity\":0.2}},\"type\":\"barpolar\"}],\"bar\":[{\"error_x\":{\"color\":\"rgb(51,51,51)\"},\"error_y\":{\"color\":\"rgb(51,51,51)\"},\"marker\":{\"line\":{\"color\":\"rgb(237,237,237)\",\"width\":0.5},\"pattern\":{\"fillmode\":\"overlay\",\"size\":10,\"solidity\":0.2}},\"type\":\"bar\"}],\"carpet\":[{\"aaxis\":{\"endlinecolor\":\"rgb(51,51,51)\",\"gridcolor\":\"white\",\"linecolor\":\"white\",\"minorgridcolor\":\"white\",\"startlinecolor\":\"rgb(51,51,51)\"},\"baxis\":{\"endlinecolor\":\"rgb(51,51,51)\",\"gridcolor\":\"white\",\"linecolor\":\"white\",\"minorgridcolor\":\"white\",\"startlinecolor\":\"rgb(51,51,51)\"},\"type\":\"carpet\"}],\"choropleth\":[{\"colorbar\":{\"outlinewidth\":0,\"tickcolor\":\"rgb(237,237,237)\",\"ticklen\":6,\"ticks\":\"inside\"},\"type\":\"choropleth\"}],\"contourcarpet\":[{\"colorbar\":{\"outlinewidth\":0,\"tickcolor\":\"rgb(237,237,237)\",\"ticklen\":6,\"ticks\":\"inside\"},\"type\":\"contourcarpet\"}],\"contour\":[{\"colorbar\":{\"outlinewidth\":0,\"tickcolor\":\"rgb(237,237,237)\",\"ticklen\":6,\"ticks\":\"inside\"},\"colorscale\":[[0,\"rgb(20,44,66)\"],[1,\"rgb(90,179,244)\"]],\"type\":\"contour\"}],\"heatmapgl\":[{\"colorbar\":{\"outlinewidth\":0,\"tickcolor\":\"rgb(237,237,237)\",\"ticklen\":6,\"ticks\":\"inside\"},\"colorscale\":[[0,\"rgb(20,44,66)\"],[1,\"rgb(90,179,244)\"]],\"type\":\"heatmapgl\"}],\"heatmap\":[{\"colorbar\":{\"outlinewidth\":0,\"tickcolor\":\"rgb(237,237,237)\",\"ticklen\":6,\"ticks\":\"inside\"},\"colorscale\":[[0,\"rgb(20,44,66)\"],[1,\"rgb(90,179,244)\"]],\"type\":\"heatmap\"}],\"histogram2dcontour\":[{\"colorbar\":{\"outlinewidth\":0,\"tickcolor\":\"rgb(237,237,237)\",\"ticklen\":6,\"ticks\":\"inside\"},\"colorscale\":[[0,\"rgb(20,44,66)\"],[1,\"rgb(90,179,244)\"]],\"type\":\"histogram2dcontour\"}],\"histogram2d\":[{\"colorbar\":{\"outlinewidth\":0,\"tickcolor\":\"rgb(237,237,237)\",\"ticklen\":6,\"ticks\":\"inside\"},\"colorscale\":[[0,\"rgb(20,44,66)\"],[1,\"rgb(90,179,244)\"]],\"type\":\"histogram2d\"}],\"histogram\":[{\"marker\":{\"pattern\":{\"fillmode\":\"overlay\",\"size\":10,\"solidity\":0.2}},\"type\":\"histogram\"}],\"mesh3d\":[{\"colorbar\":{\"outlinewidth\":0,\"tickcolor\":\"rgb(237,237,237)\",\"ticklen\":6,\"ticks\":\"inside\"},\"type\":\"mesh3d\"}],\"parcoords\":[{\"line\":{\"colorbar\":{\"outlinewidth\":0,\"tickcolor\":\"rgb(237,237,237)\",\"ticklen\":6,\"ticks\":\"inside\"}},\"type\":\"parcoords\"}],\"pie\":[{\"automargin\":true,\"type\":\"pie\"}],\"scatter3d\":[{\"line\":{\"colorbar\":{\"outlinewidth\":0,\"tickcolor\":\"rgb(237,237,237)\",\"ticklen\":6,\"ticks\":\"inside\"}},\"marker\":{\"colorbar\":{\"outlinewidth\":0,\"tickcolor\":\"rgb(237,237,237)\",\"ticklen\":6,\"ticks\":\"inside\"}},\"type\":\"scatter3d\"}],\"scattercarpet\":[{\"marker\":{\"colorbar\":{\"outlinewidth\":0,\"tickcolor\":\"rgb(237,237,237)\",\"ticklen\":6,\"ticks\":\"inside\"}},\"type\":\"scattercarpet\"}],\"scattergeo\":[{\"marker\":{\"colorbar\":{\"outlinewidth\":0,\"tickcolor\":\"rgb(237,237,237)\",\"ticklen\":6,\"ticks\":\"inside\"}},\"type\":\"scattergeo\"}],\"scattergl\":[{\"marker\":{\"colorbar\":{\"outlinewidth\":0,\"tickcolor\":\"rgb(237,237,237)\",\"ticklen\":6,\"ticks\":\"inside\"}},\"type\":\"scattergl\"}],\"scattermapbox\":[{\"marker\":{\"colorbar\":{\"outlinewidth\":0,\"tickcolor\":\"rgb(237,237,237)\",\"ticklen\":6,\"ticks\":\"inside\"}},\"type\":\"scattermapbox\"}],\"scatterpolargl\":[{\"marker\":{\"colorbar\":{\"outlinewidth\":0,\"tickcolor\":\"rgb(237,237,237)\",\"ticklen\":6,\"ticks\":\"inside\"}},\"type\":\"scatterpolargl\"}],\"scatterpolar\":[{\"marker\":{\"colorbar\":{\"outlinewidth\":0,\"tickcolor\":\"rgb(237,237,237)\",\"ticklen\":6,\"ticks\":\"inside\"}},\"type\":\"scatterpolar\"}],\"scatter\":[{\"marker\":{\"colorbar\":{\"outlinewidth\":0,\"tickcolor\":\"rgb(237,237,237)\",\"ticklen\":6,\"ticks\":\"inside\"}},\"type\":\"scatter\"}],\"scatterternary\":[{\"marker\":{\"colorbar\":{\"outlinewidth\":0,\"tickcolor\":\"rgb(237,237,237)\",\"ticklen\":6,\"ticks\":\"inside\"}},\"type\":\"scatterternary\"}],\"surface\":[{\"colorbar\":{\"outlinewidth\":0,\"tickcolor\":\"rgb(237,237,237)\",\"ticklen\":6,\"ticks\":\"inside\"},\"colorscale\":[[0,\"rgb(20,44,66)\"],[1,\"rgb(90,179,244)\"]],\"type\":\"surface\"}],\"table\":[{\"cells\":{\"fill\":{\"color\":\"rgb(237,237,237)\"},\"line\":{\"color\":\"white\"}},\"header\":{\"fill\":{\"color\":\"rgb(217,217,217)\"},\"line\":{\"color\":\"white\"}},\"type\":\"table\"}]},\"layout\":{\"annotationdefaults\":{\"arrowhead\":0,\"arrowwidth\":1},\"autotypenumbers\":\"strict\",\"coloraxis\":{\"colorbar\":{\"outlinewidth\":0,\"tickcolor\":\"rgb(237,237,237)\",\"ticklen\":6,\"ticks\":\"inside\"}},\"colorscale\":{\"sequential\":[[0,\"rgb(20,44,66)\"],[1,\"rgb(90,179,244)\"]],\"sequentialminus\":[[0,\"rgb(20,44,66)\"],[1,\"rgb(90,179,244)\"]]},\"colorway\":[\"#F8766D\",\"#A3A500\",\"#00BF7D\",\"#00B0F6\",\"#E76BF3\"],\"font\":{\"color\":\"rgb(51,51,51)\"},\"geo\":{\"bgcolor\":\"white\",\"lakecolor\":\"white\",\"landcolor\":\"rgb(237,237,237)\",\"showlakes\":true,\"showland\":true,\"subunitcolor\":\"white\"},\"hoverlabel\":{\"align\":\"left\"},\"hovermode\":\"closest\",\"paper_bgcolor\":\"white\",\"plot_bgcolor\":\"rgb(237,237,237)\",\"polar\":{\"angularaxis\":{\"gridcolor\":\"white\",\"linecolor\":\"white\",\"showgrid\":true,\"tickcolor\":\"rgb(51,51,51)\",\"ticks\":\"outside\"},\"bgcolor\":\"rgb(237,237,237)\",\"radialaxis\":{\"gridcolor\":\"white\",\"linecolor\":\"white\",\"showgrid\":true,\"tickcolor\":\"rgb(51,51,51)\",\"ticks\":\"outside\"}},\"scene\":{\"xaxis\":{\"backgroundcolor\":\"rgb(237,237,237)\",\"gridcolor\":\"white\",\"gridwidth\":2,\"linecolor\":\"white\",\"showbackground\":true,\"showgrid\":true,\"tickcolor\":\"rgb(51,51,51)\",\"ticks\":\"outside\",\"zerolinecolor\":\"white\"},\"yaxis\":{\"backgroundcolor\":\"rgb(237,237,237)\",\"gridcolor\":\"white\",\"gridwidth\":2,\"linecolor\":\"white\",\"showbackground\":true,\"showgrid\":true,\"tickcolor\":\"rgb(51,51,51)\",\"ticks\":\"outside\",\"zerolinecolor\":\"white\"},\"zaxis\":{\"backgroundcolor\":\"rgb(237,237,237)\",\"gridcolor\":\"white\",\"gridwidth\":2,\"linecolor\":\"white\",\"showbackground\":true,\"showgrid\":true,\"tickcolor\":\"rgb(51,51,51)\",\"ticks\":\"outside\",\"zerolinecolor\":\"white\"}},\"shapedefaults\":{\"fillcolor\":\"black\",\"line\":{\"width\":0},\"opacity\":0.3},\"ternary\":{\"aaxis\":{\"gridcolor\":\"white\",\"linecolor\":\"white\",\"showgrid\":true,\"tickcolor\":\"rgb(51,51,51)\",\"ticks\":\"outside\"},\"baxis\":{\"gridcolor\":\"white\",\"linecolor\":\"white\",\"showgrid\":true,\"tickcolor\":\"rgb(51,51,51)\",\"ticks\":\"outside\"},\"bgcolor\":\"rgb(237,237,237)\",\"caxis\":{\"gridcolor\":\"white\",\"linecolor\":\"white\",\"showgrid\":true,\"tickcolor\":\"rgb(51,51,51)\",\"ticks\":\"outside\"}},\"xaxis\":{\"automargin\":true,\"gridcolor\":\"white\",\"linecolor\":\"white\",\"showgrid\":true,\"tickcolor\":\"rgb(51,51,51)\",\"ticks\":\"outside\",\"title\":{\"standoff\":15},\"zerolinecolor\":\"white\"},\"yaxis\":{\"automargin\":true,\"gridcolor\":\"white\",\"linecolor\":\"white\",\"showgrid\":true,\"tickcolor\":\"rgb(51,51,51)\",\"ticks\":\"outside\",\"title\":{\"standoff\":15},\"zerolinecolor\":\"white\"}}},\"xaxis\":{\"anchor\":\"y\",\"domain\":[0.0,0.49],\"title\":{\"text\":\"<b>Quantidade de Matr\\u00edculas</b>\"},\"tickfont\":{\"size\":11},\"range\":[0,500]},\"yaxis\":{\"anchor\":\"x\",\"domain\":[0.0,1.0],\"title\":{\"text\":\"<b>Quantidade de Docentes</b>\"},\"tickfont\":{\"size\":11},\"range\":[0,200]},\"xaxis2\":{\"anchor\":\"y2\",\"domain\":[0.51,1.0],\"matches\":\"x\",\"title\":{\"text\":\"<b>Quantidade de Matr\\u00edculas</b>\"},\"range\":[0,500]},\"yaxis2\":{\"anchor\":\"x2\",\"domain\":[0.0,1.0],\"matches\":\"y\",\"showticklabels\":false,\"range\":[0,200]},\"annotations\":[{\"showarrow\":false,\"text\":\"<b>Localiza\\u00e7\\u00e3o Rural</b>\",\"x\":0.245,\"xanchor\":\"center\",\"xref\":\"paper\",\"y\":1.0,\"yanchor\":\"bottom\",\"yref\":\"paper\"},{\"showarrow\":false,\"text\":\"<b>Localiza\\u00e7\\u00e3o Urbana</b>\",\"x\":0.755,\"xanchor\":\"center\",\"xref\":\"paper\",\"y\":1.0,\"yanchor\":\"bottom\",\"yref\":\"paper\"},{\"font\":{\"color\":\"darkgray\",\"size\":12},\"showarrow\":false,\"text\":\"Fonte: INEP\",\"x\":1,\"xanchor\":\"right\",\"xref\":\"paper\",\"y\":1,\"yanchor\":\"bottom\",\"yref\":\"paper\"}],\"legend\":{\"title\":{\"text\":\"<b>Localiza\\u00e7\\u00e3o Diferenciada</b>\"},\"tracegroupgap\":0,\"itemsizing\":\"constant\",\"orientation\":\"h\",\"yanchor\":\"top\",\"y\":-0.2,\"xanchor\":\"center\",\"x\":0.5,\"font\":{\"size\":12}},\"margin\":{\"t\":60},\"title\":{\"text\":\"<b>Censo Escolar 2021: An\\u00e1lise de Localiza\\u00e7\\u00e3o Diferenciada (RS)</b>\"},\"height\":600,\"width\":1200,\"font\":{\"size\":11}},                        {\"responsive\": true}                    ).then(function(){\n",
              "                            \n",
              "var gd = document.getElementById('c9554160-183e-4a56-a2f1-94ecf457c19e');\n",
              "var x = new MutationObserver(function (mutations, observer) {{\n",
              "        var display = window.getComputedStyle(gd).display;\n",
              "        if (!display || display === 'none') {{\n",
              "            console.log([gd, 'removed!']);\n",
              "            Plotly.purge(gd);\n",
              "            observer.disconnect();\n",
              "        }}\n",
              "}});\n",
              "\n",
              "// Listen for the removal of the full notebook cells\n",
              "var notebookContainer = gd.closest('#notebook-container');\n",
              "if (notebookContainer) {{\n",
              "    x.observe(notebookContainer, {childList: true});\n",
              "}}\n",
              "\n",
              "// Listen for the clearing of the current output cell\n",
              "var outputEl = gd.closest('.output');\n",
              "if (outputEl) {{\n",
              "    x.observe(outputEl, {childList: true});\n",
              "}}\n",
              "\n",
              "                        })                };                            </script>        </div>\n",
              "</body>\n",
              "</html>"
            ]
          },
          "metadata": {}
        }
      ]
    },
    {
      "cell_type": "markdown",
      "source": [
        "####Exportado no formato HMTL com o nome: “localizacao_diferenciada_rs.html”."
      ],
      "metadata": {
        "id": "WdKb1AD3f4n9"
      }
    },
    {
      "cell_type": "code",
      "source": [
        "fig.write_html('localizacao_diferenciada_rs.html')"
      ],
      "metadata": {
        "id": "rXjJFNWXgAYc"
      },
      "execution_count": 16,
      "outputs": []
    }
  ]
}