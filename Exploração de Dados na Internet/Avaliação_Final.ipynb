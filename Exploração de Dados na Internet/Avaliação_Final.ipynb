{
  "nbformat": 4,
  "nbformat_minor": 0,
  "metadata": {
    "colab": {
      "provenance": []
    },
    "kernelspec": {
      "name": "python3",
      "display_name": "Python 3"
    },
    "language_info": {
      "name": "python"
    }
  },
  "cells": [
    {
      "cell_type": "markdown",
      "source": [
        "### AVALIAÇÃO FINAL   \n",
        "### MÓDULO EXPLORAÇÃO DE DADOS NA INTERNET"
      ],
      "metadata": {
        "id": "RDJrWE4JuuGL"
      }
    },
    {
      "cell_type": "markdown",
      "source": [
        "### Objetivo\n",
        "####Raspar os dados de uma livraria online: http://books.toscrape.com/\n",
        "#### Extrair apenas duas informações de cada livro: \n",
        " 1. Título \n",
        " 2. Descrição."
      ],
      "metadata": {
        "id": "u6mmuqhtvjI0"
      }
    },
    {
      "cell_type": "markdown",
      "source": [
        "####Bibliotecas"
      ],
      "metadata": {
        "id": "108FAGbaQOeS"
      }
    },
    {
      "cell_type": "code",
      "source": [
        "from bs4 import BeautifulSoup\n",
        "import requests\n",
        "import re\n",
        "import pandas as pd"
      ],
      "metadata": {
        "id": "vlgrnu4vqjqk"
      },
      "execution_count": 1,
      "outputs": []
    },
    {
      "cell_type": "markdown",
      "source": [
        "####Função para solicitar e analisar a página Web"
      ],
      "metadata": {
        "id": "OUBDooFeQV2c"
      }
    },
    {
      "cell_type": "code",
      "execution_count": 2,
      "metadata": {
        "colab": {
          "base_uri": "https://localhost:8080/"
        },
        "id": "h-lmzNDJpO6W",
        "outputId": "9760911c-5eb4-44d2-9f1b-d04dfc893311"
      },
      "outputs": [
        {
          "output_type": "stream",
          "name": "stdout",
          "text": [
            "<!DOCTYPE html>\n",
            "<!--[if lt IE 7]>      <html lang=\"en-us\" class=\"no-js lt-ie9 lt-ie8 lt-ie7\"> <![endif]-->\n",
            "<!--[if IE 7]>         <html lang=\"en-us\" class=\"no-js lt-ie9 lt-ie8\"> <![endif]-->\n",
            "<!--[if IE 8]>         <html lang=\"en-us\" class=\"no-js lt-ie9\"> <![endif]-->\n",
            "<!--[if gt IE 8]><!-->\n",
            "<html class=\"no-js\" lang=\"en-us\">\n",
            " <!--<![endif]-->\n",
            " <head>\n",
            "  <title>\n",
            "   All products | Books to Scrape - Sandbox\n",
            "  </title>\n",
            "  <meta content=\"text/html; charset=utf-8\" http-equiv=\"content-type\"/>\n",
            "  <meta content=\"24th Jun 2016 09:29\" name=\"created\"/>\n",
            "  <meta content=\"\" name=\"description\"/>\n",
            "  <meta content=\"width=device-width\" name=\"viewport\"/>\n",
            "  <meta content=\"NOARCHIVE,NOCACHE\" name=\"robots\"/>\n",
            "  <!-- Le HTML5 shim, for IE6-8 support of HTML elements -->\n",
            "  <!--[if lt IE 9]>\n",
            "        <script src=\"//html5shim.googlecode.com/svn/trunk/html5.js\"></script>\n",
            "        <![endif]-->\n",
            "  <link href=\"static/oscar/favicon.ico\" rel=\"shortcut icon\"/>\n",
            "  <link href=\"static/oscar/css/styles.css\" rel=\"stylesheet\" type=\"tex\n"
          ]
        }
      ],
      "source": [
        "url = \"http://books.toscrape.com/index.html\"\n",
        "\n",
        "def getAndParseURL(url):\n",
        "    result = requests.get(url)\n",
        "    soup = BeautifulSoup(result.text, 'html.parser')\n",
        "    return(soup)\n",
        "\n",
        "print(getAndParseURL(url).prettify()[:1000])"
      ]
    },
    {
      "cell_type": "markdown",
      "source": [
        "####Função para buscar links de livros em qualquer página do site"
      ],
      "metadata": {
        "id": "5fPkYf7Z1HVY"
      }
    },
    {
      "cell_type": "code",
      "source": [
        "def getBooksURLs(url):\n",
        "    soup = getAndParseURL(url)\n",
        "    \n",
        "    return([\"/\".join(url.split(\"/\")[:-1]) + \"/\" + x.div.a.get('href')\n",
        "       for x in soup.findAll(\"article\", class_ = \"product_pod\")])"
      ],
      "metadata": {
        "id": "GriXSbYJqWVD"
      },
      "execution_count": 3,
      "outputs": []
    },
    {
      "cell_type": "markdown",
      "source": [
        "####Obter todas as páginas URLs"
      ],
      "metadata": {
        "id": "29vwADTk2k1h"
      }
    },
    {
      "cell_type": "code",
      "source": [
        "pages_urls = [url]\n",
        "\n",
        "soup = getAndParseURL(pages_urls[0])\n",
        "\n",
        "while len(soup.findAll(\"a\", href=re.compile(\"page\"))) == 2 or len(pages_urls) == 1:\n",
        "    new_url = \"/\".join(pages_urls[-1].split(\"/\")[:-1]) + \"/\" + soup.findAll(\"a\", href=re.compile(\"page\"))[-1].get(\"href\")\n",
        "    pages_urls.append(new_url)\n",
        "    soup = getAndParseURL(new_url)\n",
        "    \n",
        "print(str(len(pages_urls)) + \" fetched URLs\")\n",
        "print(\"Some examples:\")\n",
        "pages_urls[:5]"
      ],
      "metadata": {
        "colab": {
          "base_uri": "https://localhost:8080/"
        },
        "id": "DgvxeE-251jh",
        "outputId": "850cf174-d659-4cc3-bda2-083a91187ef3"
      },
      "execution_count": 4,
      "outputs": [
        {
          "output_type": "stream",
          "name": "stdout",
          "text": [
            "50 fetched URLs\n",
            "Some examples:\n"
          ]
        },
        {
          "output_type": "execute_result",
          "data": {
            "text/plain": [
              "['http://books.toscrape.com/index.html',\n",
              " 'http://books.toscrape.com/catalogue/page-2.html',\n",
              " 'http://books.toscrape.com/catalogue/page-3.html',\n",
              " 'http://books.toscrape.com/catalogue/page-4.html',\n",
              " 'http://books.toscrape.com/catalogue/page-5.html']"
            ]
          },
          "metadata": {},
          "execution_count": 4
        }
      ]
    },
    {
      "cell_type": "markdown",
      "source": [
        "####Busca todos os URLs dos produtos para cada página"
      ],
      "metadata": {
        "id": "_wPR95xY3Aa5"
      }
    },
    {
      "cell_type": "code",
      "source": [
        "booksURLs = []\n",
        "\n",
        "for page in pages_urls:\n",
        "    booksURLs.extend(getBooksURLs(page))\n",
        "    \n",
        "print(str(len(booksURLs)) + \" fetched URLs\")\n",
        "print(\"Some examples:\")\n",
        "booksURLs[:5]"
      ],
      "metadata": {
        "colab": {
          "base_uri": "https://localhost:8080/"
        },
        "id": "K7p65iACsbMl",
        "outputId": "9b447653-df9a-449b-b7df-938b281b838d"
      },
      "execution_count": 5,
      "outputs": [
        {
          "output_type": "stream",
          "name": "stdout",
          "text": [
            "1000 fetched URLs\n",
            "Some examples:\n"
          ]
        },
        {
          "output_type": "execute_result",
          "data": {
            "text/plain": [
              "['http://books.toscrape.com/catalogue/a-light-in-the-attic_1000/index.html',\n",
              " 'http://books.toscrape.com/catalogue/tipping-the-velvet_999/index.html',\n",
              " 'http://books.toscrape.com/catalogue/soumission_998/index.html',\n",
              " 'http://books.toscrape.com/catalogue/sharp-objects_997/index.html',\n",
              " 'http://books.toscrape.com/catalogue/sapiens-a-brief-history-of-humankind_996/index.html']"
            ]
          },
          "metadata": {},
          "execution_count": 5
        }
      ]
    },
    {
      "cell_type": "markdown",
      "source": [
        "####Busca os dados de cada produto"
      ],
      "metadata": {
        "id": "pA90JpUd3OGx"
      }
    },
    {
      "cell_type": "code",
      "source": [
        "title = []\n",
        "description = []\n",
        "\n",
        "for url in booksURLs:\n",
        "    soup = getAndParseURL(url)\n",
        "    # product title\n",
        "    title.append(soup.find(\"div\", class_ = re.compile(\"product_main\")).h1.text)\n",
        "    # product description\n",
        "    description.append(soup.find_all('p')[3].get_text())"
      ],
      "metadata": {
        "id": "B5_3UpV_srs7"
      },
      "execution_count": 6,
      "outputs": []
    },
    {
      "cell_type": "markdown",
      "source": [
        "####Armazena dentro de um DataFrame do Pandas."
      ],
      "metadata": {
        "id": "Wa4M-C60-niV"
      }
    },
    {
      "cell_type": "code",
      "source": [
        "df_scraped = pd.DataFrame({'Title': title, 'Description': description})\n",
        "\n",
        "df_scraped"
      ],
      "metadata": {
        "colab": {
          "base_uri": "https://localhost:8080/",
          "height": 424
        },
        "id": "vLyEQ0WAsuzu",
        "outputId": "ee054271-c949-4fba-ea68-bc005fcbf6f3"
      },
      "execution_count": 7,
      "outputs": [
        {
          "output_type": "execute_result",
          "data": {
            "text/plain": [
              "                                                 Title  \\\n",
              "0                                 A Light in the Attic   \n",
              "1                                   Tipping the Velvet   \n",
              "2                                           Soumission   \n",
              "3                                        Sharp Objects   \n",
              "4                Sapiens: A Brief History of Humankind   \n",
              "..                                                 ...   \n",
              "995  Alice in Wonderland (Alice's Adventures in Won...   \n",
              "996   Ajin: Demi-Human, Volume 1 (Ajin: Demi-Human #1)   \n",
              "997  A Spy's Devotion (The Regency Spies of London #1)   \n",
              "998                1st to Die (Women's Murder Club #1)   \n",
              "999                 1,000 Places to See Before You Die   \n",
              "\n",
              "                                           Description  \n",
              "0    It's hard to imagine a world without A Light i...  \n",
              "1    \"Erotic and absorbing...Written with starling ...  \n",
              "2    Dans une France assez proche de la nÃ´tre, un ...  \n",
              "3    WICKED above her hipbone, GIRL across her hear...  \n",
              "4    From a renowned historian comes a groundbreaki...  \n",
              "..                                                 ...  \n",
              "995                                       \\n\\n\\n\\n\\n\\n  \n",
              "996  High school student Kei Nagai is struck dead i...  \n",
              "997  In Englandâs Regency era, manners and elegan...  \n",
              "998  James Patterson, bestselling author of the Ale...  \n",
              "999  Around the World, continent by continent, here...  \n",
              "\n",
              "[1000 rows x 2 columns]"
            ],
            "text/html": [
              "\n",
              "  <div id=\"df-95e6f15e-8a38-4dc7-98fb-af0e4f9c25bd\">\n",
              "    <div class=\"colab-df-container\">\n",
              "      <div>\n",
              "<style scoped>\n",
              "    .dataframe tbody tr th:only-of-type {\n",
              "        vertical-align: middle;\n",
              "    }\n",
              "\n",
              "    .dataframe tbody tr th {\n",
              "        vertical-align: top;\n",
              "    }\n",
              "\n",
              "    .dataframe thead th {\n",
              "        text-align: right;\n",
              "    }\n",
              "</style>\n",
              "<table border=\"1\" class=\"dataframe\">\n",
              "  <thead>\n",
              "    <tr style=\"text-align: right;\">\n",
              "      <th></th>\n",
              "      <th>Title</th>\n",
              "      <th>Description</th>\n",
              "    </tr>\n",
              "  </thead>\n",
              "  <tbody>\n",
              "    <tr>\n",
              "      <th>0</th>\n",
              "      <td>A Light in the Attic</td>\n",
              "      <td>It's hard to imagine a world without A Light i...</td>\n",
              "    </tr>\n",
              "    <tr>\n",
              "      <th>1</th>\n",
              "      <td>Tipping the Velvet</td>\n",
              "      <td>\"Erotic and absorbing...Written with starling ...</td>\n",
              "    </tr>\n",
              "    <tr>\n",
              "      <th>2</th>\n",
              "      <td>Soumission</td>\n",
              "      <td>Dans une France assez proche de la nÃ´tre, un ...</td>\n",
              "    </tr>\n",
              "    <tr>\n",
              "      <th>3</th>\n",
              "      <td>Sharp Objects</td>\n",
              "      <td>WICKED above her hipbone, GIRL across her hear...</td>\n",
              "    </tr>\n",
              "    <tr>\n",
              "      <th>4</th>\n",
              "      <td>Sapiens: A Brief History of Humankind</td>\n",
              "      <td>From a renowned historian comes a groundbreaki...</td>\n",
              "    </tr>\n",
              "    <tr>\n",
              "      <th>...</th>\n",
              "      <td>...</td>\n",
              "      <td>...</td>\n",
              "    </tr>\n",
              "    <tr>\n",
              "      <th>995</th>\n",
              "      <td>Alice in Wonderland (Alice's Adventures in Won...</td>\n",
              "      <td>\\n\\n\\n\\n\\n\\n</td>\n",
              "    </tr>\n",
              "    <tr>\n",
              "      <th>996</th>\n",
              "      <td>Ajin: Demi-Human, Volume 1 (Ajin: Demi-Human #1)</td>\n",
              "      <td>High school student Kei Nagai is struck dead i...</td>\n",
              "    </tr>\n",
              "    <tr>\n",
              "      <th>997</th>\n",
              "      <td>A Spy's Devotion (The Regency Spies of London #1)</td>\n",
              "      <td>In Englandâs Regency era, manners and elegan...</td>\n",
              "    </tr>\n",
              "    <tr>\n",
              "      <th>998</th>\n",
              "      <td>1st to Die (Women's Murder Club #1)</td>\n",
              "      <td>James Patterson, bestselling author of the Ale...</td>\n",
              "    </tr>\n",
              "    <tr>\n",
              "      <th>999</th>\n",
              "      <td>1,000 Places to See Before You Die</td>\n",
              "      <td>Around the World, continent by continent, here...</td>\n",
              "    </tr>\n",
              "  </tbody>\n",
              "</table>\n",
              "<p>1000 rows × 2 columns</p>\n",
              "</div>\n",
              "      <button class=\"colab-df-convert\" onclick=\"convertToInteractive('df-95e6f15e-8a38-4dc7-98fb-af0e4f9c25bd')\"\n",
              "              title=\"Convert this dataframe to an interactive table.\"\n",
              "              style=\"display:none;\">\n",
              "        \n",
              "  <svg xmlns=\"http://www.w3.org/2000/svg\" height=\"24px\"viewBox=\"0 0 24 24\"\n",
              "       width=\"24px\">\n",
              "    <path d=\"M0 0h24v24H0V0z\" fill=\"none\"/>\n",
              "    <path d=\"M18.56 5.44l.94 2.06.94-2.06 2.06-.94-2.06-.94-.94-2.06-.94 2.06-2.06.94zm-11 1L8.5 8.5l.94-2.06 2.06-.94-2.06-.94L8.5 2.5l-.94 2.06-2.06.94zm10 10l.94 2.06.94-2.06 2.06-.94-2.06-.94-.94-2.06-.94 2.06-2.06.94z\"/><path d=\"M17.41 7.96l-1.37-1.37c-.4-.4-.92-.59-1.43-.59-.52 0-1.04.2-1.43.59L10.3 9.45l-7.72 7.72c-.78.78-.78 2.05 0 2.83L4 21.41c.39.39.9.59 1.41.59.51 0 1.02-.2 1.41-.59l7.78-7.78 2.81-2.81c.8-.78.8-2.07 0-2.86zM5.41 20L4 18.59l7.72-7.72 1.47 1.35L5.41 20z\"/>\n",
              "  </svg>\n",
              "      </button>\n",
              "      \n",
              "  <style>\n",
              "    .colab-df-container {\n",
              "      display:flex;\n",
              "      flex-wrap:wrap;\n",
              "      gap: 12px;\n",
              "    }\n",
              "\n",
              "    .colab-df-convert {\n",
              "      background-color: #E8F0FE;\n",
              "      border: none;\n",
              "      border-radius: 50%;\n",
              "      cursor: pointer;\n",
              "      display: none;\n",
              "      fill: #1967D2;\n",
              "      height: 32px;\n",
              "      padding: 0 0 0 0;\n",
              "      width: 32px;\n",
              "    }\n",
              "\n",
              "    .colab-df-convert:hover {\n",
              "      background-color: #E2EBFA;\n",
              "      box-shadow: 0px 1px 2px rgba(60, 64, 67, 0.3), 0px 1px 3px 1px rgba(60, 64, 67, 0.15);\n",
              "      fill: #174EA6;\n",
              "    }\n",
              "\n",
              "    [theme=dark] .colab-df-convert {\n",
              "      background-color: #3B4455;\n",
              "      fill: #D2E3FC;\n",
              "    }\n",
              "\n",
              "    [theme=dark] .colab-df-convert:hover {\n",
              "      background-color: #434B5C;\n",
              "      box-shadow: 0px 1px 3px 1px rgba(0, 0, 0, 0.15);\n",
              "      filter: drop-shadow(0px 1px 2px rgba(0, 0, 0, 0.3));\n",
              "      fill: #FFFFFF;\n",
              "    }\n",
              "  </style>\n",
              "\n",
              "      <script>\n",
              "        const buttonEl =\n",
              "          document.querySelector('#df-95e6f15e-8a38-4dc7-98fb-af0e4f9c25bd button.colab-df-convert');\n",
              "        buttonEl.style.display =\n",
              "          google.colab.kernel.accessAllowed ? 'block' : 'none';\n",
              "\n",
              "        async function convertToInteractive(key) {\n",
              "          const element = document.querySelector('#df-95e6f15e-8a38-4dc7-98fb-af0e4f9c25bd');\n",
              "          const dataTable =\n",
              "            await google.colab.kernel.invokeFunction('convertToInteractive',\n",
              "                                                     [key], {});\n",
              "          if (!dataTable) return;\n",
              "\n",
              "          const docLinkHtml = 'Like what you see? Visit the ' +\n",
              "            '<a target=\"_blank\" href=https://colab.research.google.com/notebooks/data_table.ipynb>data table notebook</a>'\n",
              "            + ' to learn more about interactive tables.';\n",
              "          element.innerHTML = '';\n",
              "          dataTable['output_type'] = 'display_data';\n",
              "          await google.colab.output.renderOutput(dataTable, element);\n",
              "          const docLink = document.createElement('div');\n",
              "          docLink.innerHTML = docLinkHtml;\n",
              "          element.appendChild(docLink);\n",
              "        }\n",
              "      </script>\n",
              "    </div>\n",
              "  </div>\n",
              "  "
            ]
          },
          "metadata": {},
          "execution_count": 7
        }
      ]
    }
  ]
}