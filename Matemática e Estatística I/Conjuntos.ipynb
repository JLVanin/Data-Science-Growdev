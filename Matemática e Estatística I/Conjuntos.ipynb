{
  "nbformat": 4,
  "nbformat_minor": 0,
  "metadata": {
    "colab": {
      "provenance": [],
      "authorship_tag": "ABX9TyNcAjllpjvPWJo9kFySDLDO"
    },
    "kernelspec": {
      "name": "python3",
      "display_name": "Python 3"
    },
    "language_info": {
      "name": "python"
    }
  },
  "cells": [
    {
      "cell_type": "markdown",
      "source": [
        "###Obter todos os elementos da sequência N = {n∈Z|1≤n < 10}"
      ],
      "metadata": {
        "id": "Y18rj9KSAOFk"
      }
    },
    {
      "cell_type": "code",
      "source": [
        "import numpy as np\n",
        "n = np.arange(1,10,1)\n",
        "n"
      ],
      "metadata": {
        "colab": {
          "base_uri": "https://localhost:8080/"
        },
        "id": "ftrU_YNRARzu",
        "outputId": "6b6a2ffa-80b4-4f29-dc8f-985d676e88a0"
      },
      "execution_count": 2,
      "outputs": [
        {
          "output_type": "execute_result",
          "data": {
            "text/plain": [
              "array([1, 2, 3, 4, 5, 6, 7, 8, 9])"
            ]
          },
          "metadata": {},
          "execution_count": 2
        }
      ]
    },
    {
      "cell_type": "markdown",
      "source": [
        "###Obter todos os elementos do conjunto M = {m∈ Z|1 < m≤10}"
      ],
      "metadata": {
        "id": "m-vHPsazAjk0"
      }
    },
    {
      "cell_type": "code",
      "source": [
        "m = np.arange(2,11,1)\n",
        "m"
      ],
      "metadata": {
        "colab": {
          "base_uri": "https://localhost:8080/"
        },
        "id": "3pEeQMuDAnol",
        "outputId": "7452defe-1d6b-49a1-99ad-8ba23d65c6c9"
      },
      "execution_count": 3,
      "outputs": [
        {
          "output_type": "execute_result",
          "data": {
            "text/plain": [
              "array([ 2,  3,  4,  5,  6,  7,  8,  9, 10])"
            ]
          },
          "metadata": {},
          "execution_count": 3
        }
      ]
    },
    {
      "cell_type": "markdown",
      "source": [
        "###Obter todos os elementos da sequência de números ímpares entre 1 e 20. I = {2m − 1| m∈ Z , 1 < m≤20}"
      ],
      "metadata": {
        "id": "uBczbZ2cAzdz"
      }
    },
    {
      "cell_type": "code",
      "source": [
        "i = np.arange(1,20,2)\n",
        "i"
      ],
      "metadata": {
        "colab": {
          "base_uri": "https://localhost:8080/"
        },
        "id": "bucRpLfRA3cq",
        "outputId": "da661ff7-59bf-4fbf-9675-9e3b24f9b4d8"
      },
      "execution_count": 5,
      "outputs": [
        {
          "output_type": "execute_result",
          "data": {
            "text/plain": [
              "array([ 1,  3,  5,  7,  9, 11, 13, 15, 17, 19])"
            ]
          },
          "metadata": {},
          "execution_count": 5
        }
      ]
    },
    {
      "cell_type": "markdown",
      "source": [
        "###Sequência de números racionais\n",
        "\n",
        "###R = {rn ∈Q | − 2≤r n < 3 e n∈N}\n",
        "\n",
        "no qual rn é definido por: r1 =− 2\n",
        "r\n",
        "n = r\n",
        "n−1 + 0, 5"
      ],
      "metadata": {
        "id": "Hfyi-TBFBTBL"
      }
    },
    {
      "cell_type": "code",
      "source": [
        "r = np.arange(-2,3,0.5)\n",
        "r"
      ],
      "metadata": {
        "colab": {
          "base_uri": "https://localhost:8080/"
        },
        "id": "pCG09BJyBx2X",
        "outputId": "1bb87ac6-4e3a-4c98-8e18-f97fe63763ee"
      },
      "execution_count": 7,
      "outputs": [
        {
          "output_type": "execute_result",
          "data": {
            "text/plain": [
              "array([-2. , -1.5, -1. , -0.5,  0. ,  0.5,  1. ,  1.5,  2. ,  2.5])"
            ]
          },
          "metadata": {},
          "execution_count": 7
        }
      ]
    },
    {
      "cell_type": "markdown",
      "source": [
        "###Criar uma sequência de números reais que se assemelha ao intervalo (− 2, 3]. Defina o passo em 0,1."
      ],
      "metadata": {
        "id": "ccNQS3gwCRwD"
      }
    },
    {
      "cell_type": "code",
      "source": [
        "passo = 0.1\n",
        "x = np.arange(-2+passo,3+passo, passo )\n",
        "x"
      ],
      "metadata": {
        "colab": {
          "base_uri": "https://localhost:8080/"
        },
        "id": "OuPcx7kACVCX",
        "outputId": "f76ae7ec-af4e-47e6-ae91-56ca400bec15"
      },
      "execution_count": 8,
      "outputs": [
        {
          "output_type": "execute_result",
          "data": {
            "text/plain": [
              "array([-1.90000000e+00, -1.80000000e+00, -1.70000000e+00, -1.60000000e+00,\n",
              "       -1.50000000e+00, -1.40000000e+00, -1.30000000e+00, -1.20000000e+00,\n",
              "       -1.10000000e+00, -1.00000000e+00, -9.00000000e-01, -8.00000000e-01,\n",
              "       -7.00000000e-01, -6.00000000e-01, -5.00000000e-01, -4.00000000e-01,\n",
              "       -3.00000000e-01, -2.00000000e-01, -1.00000000e-01,  1.77635684e-15,\n",
              "        1.00000000e-01,  2.00000000e-01,  3.00000000e-01,  4.00000000e-01,\n",
              "        5.00000000e-01,  6.00000000e-01,  7.00000000e-01,  8.00000000e-01,\n",
              "        9.00000000e-01,  1.00000000e+00,  1.10000000e+00,  1.20000000e+00,\n",
              "        1.30000000e+00,  1.40000000e+00,  1.50000000e+00,  1.60000000e+00,\n",
              "        1.70000000e+00,  1.80000000e+00,  1.90000000e+00,  2.00000000e+00,\n",
              "        2.10000000e+00,  2.20000000e+00,  2.30000000e+00,  2.40000000e+00,\n",
              "        2.50000000e+00,  2.60000000e+00,  2.70000000e+00,  2.80000000e+00,\n",
              "        2.90000000e+00,  3.00000000e+00])"
            ]
          },
          "metadata": {},
          "execution_count": 8
        }
      ]
    }
  ]
}