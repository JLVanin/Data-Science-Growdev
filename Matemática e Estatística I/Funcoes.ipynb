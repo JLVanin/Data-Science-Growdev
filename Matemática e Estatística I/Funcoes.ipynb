{
  "nbformat": 4,
  "nbformat_minor": 0,
  "metadata": {
    "colab": {
      "provenance": [],
      "toc_visible": true,
      "authorship_tag": "ABX9TyNlHTFYLUTnRNTe7VDmzDUH"
    },
    "kernelspec": {
      "name": "python3",
      "display_name": "Python 3"
    },
    "language_info": {
      "name": "python"
    }
  },
  "cells": [
    {
      "cell_type": "markdown",
      "source": [
        "####Definir a função f(x) = x² + 1 e calcular os valores de e f(1) e f(7)"
      ],
      "metadata": {
        "id": "HhGoQ1SZF9CE"
      }
    },
    {
      "cell_type": "code",
      "source": [
        "import numpy as np\n",
        "\n",
        "#definir uma função\n",
        "def f(x):\n",
        "  return x**2 + 1\n",
        "x = 1\n",
        "y = f(x)\n",
        "\n",
        "print(y)\n",
        "\n",
        "x = 7\n",
        "y = f(x)\n",
        "print(y)"
      ],
      "metadata": {
        "colab": {
          "base_uri": "https://localhost:8080/"
        },
        "id": "L78JzDD7GXwd",
        "outputId": "f7d27f91-a578-43e2-a5bc-588ab3241abc"
      },
      "execution_count": 1,
      "outputs": [
        {
          "output_type": "stream",
          "name": "stdout",
          "text": [
            "2\n",
            "50\n"
          ]
        }
      ]
    },
    {
      "cell_type": "markdown",
      "source": [
        "####Seja D = {x∈N |1≤x < 10} , obter a imagem da função f: D→N, tal que f(x) = x² + 1."
      ],
      "metadata": {
        "id": "1K4pz-mSGrFF"
      }
    },
    {
      "cell_type": "code",
      "source": [
        "#definir uma função\n",
        "def f(x):\n",
        "  return x**2 + 1\n",
        "\n",
        "# para uma lista de números\n",
        "x = np.arange(1,10)\n",
        "y= f(x)\n",
        "\n",
        "print(y)"
      ],
      "metadata": {
        "colab": {
          "base_uri": "https://localhost:8080/"
        },
        "id": "sLXRgLYAGu7H",
        "outputId": "33509c7e-ede6-41f6-a3c7-af3ac44951fd"
      },
      "execution_count": 3,
      "outputs": [
        {
          "output_type": "stream",
          "name": "stdout",
          "text": [
            "[ 2  5 10 17 26 37 50 65 82]\n"
          ]
        }
      ]
    },
    {
      "cell_type": "markdown",
      "source": [
        "####Seja o conjunto X⊂Q, tal que no python é definido por, X = np. arange(10, 21, 0. 5). Na função f: X→R, tal que f(x) = x + 1, obter a imagem da função."
      ],
      "metadata": {
        "id": "9EiN2ZQnHukj"
      }
    },
    {
      "cell_type": "code",
      "source": [
        "X = np.arange(10,21,0.5)\n",
        "\n",
        "def f(x):\n",
        "  return np.sqrt(x+1)\n",
        "\n",
        "y = f(X)\n",
        "\n",
        "print(y)"
      ],
      "metadata": {
        "colab": {
          "base_uri": "https://localhost:8080/"
        },
        "id": "jthjK-BPIA5g",
        "outputId": "64445da3-27a5-4e10-9f40-17b7e1ef99a2"
      },
      "execution_count": 4,
      "outputs": [
        {
          "output_type": "stream",
          "name": "stdout",
          "text": [
            "[3.31662479 3.39116499 3.46410162 3.53553391 3.60555128 3.67423461\n",
            " 3.74165739 3.80788655 3.87298335 3.93700394 4.         4.0620192\n",
            " 4.12310563 4.18330013 4.24264069 4.30116263 4.35889894 4.41588043\n",
            " 4.47213595 4.52769257 4.58257569 4.63680925]\n"
          ]
        }
      ]
    },
    {
      "cell_type": "markdown",
      "source": [
        "####Seja o conjunto X⊂Q, tal que no python é definido por, X = np. arange(− 2, 2, 0. 1). Na função f: X→R, tal que g(x) = 1x2+1, obter a imagem da função."
      ],
      "metadata": {
        "id": "v19nSFjuIceD"
      }
    },
    {
      "cell_type": "code",
      "source": [
        "def g(x):\n",
        "  return 1/(x**2+1)\n",
        "X = np.arange(-2,2,0.1)\n",
        "\n",
        "g(X)"
      ],
      "metadata": {
        "colab": {
          "base_uri": "https://localhost:8080/"
        },
        "id": "sIhGYzXqIslc",
        "outputId": "7d21dc0b-1ed2-4c2a-98cf-c9329b183cea"
      },
      "execution_count": 5,
      "outputs": [
        {
          "output_type": "execute_result",
          "data": {
            "text/plain": [
              "array([0.2       , 0.21691974, 0.23584906, 0.25706941, 0.28089888,\n",
              "       0.30769231, 0.33783784, 0.37174721, 0.40983607, 0.45248869,\n",
              "       0.5       , 0.55248619, 0.6097561 , 0.67114094, 0.73529412,\n",
              "       0.8       , 0.86206897, 0.91743119, 0.96153846, 0.99009901,\n",
              "       1.        , 0.99009901, 0.96153846, 0.91743119, 0.86206897,\n",
              "       0.8       , 0.73529412, 0.67114094, 0.6097561 , 0.55248619,\n",
              "       0.5       , 0.45248869, 0.40983607, 0.37174721, 0.33783784,\n",
              "       0.30769231, 0.28089888, 0.25706941, 0.23584906, 0.21691974])"
            ]
          },
          "metadata": {},
          "execution_count": 5
        }
      ]
    }
  ]
}