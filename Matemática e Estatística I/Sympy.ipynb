{
  "nbformat": 4,
  "nbformat_minor": 0,
  "metadata": {
    "colab": {
      "provenance": [],
      "authorship_tag": "ABX9TyPzJHg+moe39rj2W3NXJhbo"
    },
    "kernelspec": {
      "name": "python3",
      "display_name": "Python 3"
    },
    "language_info": {
      "name": "python"
    }
  },
  "cells": [
    {
      "cell_type": "markdown",
      "source": [
        "####Use a Biblioteca sumpy para definir a função f(x) = x² + 1"
      ],
      "metadata": {
        "id": "5AMRpz2sJsxz"
      }
    },
    {
      "cell_type": "code",
      "source": [
        "import sympy as sy\n",
        "\n",
        "x = sy.symbols('x')\n",
        "f = x**2 + 1\n",
        "\n",
        "f"
      ],
      "metadata": {
        "colab": {
          "base_uri": "https://localhost:8080/",
          "height": 38
        },
        "id": "BjSpwE18J3NR",
        "outputId": "36bec5e0-5ba2-449b-9bac-978e0db47c7b"
      },
      "execution_count": 7,
      "outputs": [
        {
          "output_type": "execute_result",
          "data": {
            "text/plain": [
              "x**2 + 1"
            ],
            "text/latex": "$\\displaystyle x^{2} + 1$"
          },
          "metadata": {},
          "execution_count": 7
        }
      ]
    },
    {
      "cell_type": "markdown",
      "source": [
        "####Use o pacote de sympy para calcular f(4) na função f(x) = x² + 1"
      ],
      "metadata": {
        "id": "nhJMYg9bKQuD"
      }
    },
    {
      "cell_type": "code",
      "source": [
        "x = sy.symbols('x')\n",
        "x = 4\n",
        "f = x**2 + 1\n",
        "\n",
        "f"
      ],
      "metadata": {
        "colab": {
          "base_uri": "https://localhost:8080/"
        },
        "id": "xNLr4cEPKV8o",
        "outputId": "af15dfb8-a65f-4c04-af4b-41852e3877df"
      },
      "execution_count": 6,
      "outputs": [
        {
          "output_type": "execute_result",
          "data": {
            "text/plain": [
              "17"
            ]
          },
          "metadata": {},
          "execution_count": 6
        }
      ]
    },
    {
      "cell_type": "markdown",
      "source": [
        "####Use o pacote de sympy para calcular f(5t) na função f(x) = x² + 1"
      ],
      "metadata": {
        "id": "uM6FTeLtPJpL"
      }
    },
    {
      "cell_type": "code",
      "source": [
        "x = sy.symbols('x')\n",
        "t = sy.symbols('t')\n",
        "x = 5*t\n",
        "f = x**2 + 1\n",
        "\n",
        "f"
      ],
      "metadata": {
        "colab": {
          "base_uri": "https://localhost:8080/",
          "height": 38
        },
        "id": "iHrIT7xzPPOI",
        "outputId": "f55b10e9-de9e-4950-dd30-8ac4d42a4a74"
      },
      "execution_count": 5,
      "outputs": [
        {
          "output_type": "execute_result",
          "data": {
            "text/plain": [
              "25*t**2 + 1"
            ],
            "text/latex": "$\\displaystyle 25 t^{2} + 1$"
          },
          "metadata": {},
          "execution_count": 5
        }
      ]
    },
    {
      "cell_type": "markdown",
      "source": [
        "####Use o pacote de sympy obter a função f(x) = sqrtx² + 1"
      ],
      "metadata": {
        "id": "OIzajkjtPuiD"
      }
    },
    {
      "cell_type": "code",
      "source": [
        "x = sy.symbols('x')\n",
        "f = sy.sqrt(x**2 + 1)\n",
        "\n",
        "f"
      ],
      "metadata": {
        "colab": {
          "base_uri": "https://localhost:8080/",
          "height": 40
        },
        "id": "6NogNh2uQH3q",
        "outputId": "6a22e0ca-aa4e-41dd-f459-16d85e8db1e9"
      },
      "execution_count": 4,
      "outputs": [
        {
          "output_type": "execute_result",
          "data": {
            "text/plain": [
              "sqrt(x**2 + 1)"
            ],
            "text/latex": "$\\displaystyle \\sqrt{x^{2} + 1}$"
          },
          "metadata": {},
          "execution_count": 4
        }
      ]
    },
    {
      "cell_type": "markdown",
      "source": [
        "####Use o pacote sympy para obter f(4) na função f(x) = sqrtx² + 1"
      ],
      "metadata": {
        "id": "Mp3tq3c8QXkr"
      }
    },
    {
      "cell_type": "code",
      "source": [
        "x = sy.symbols('x')\n",
        "x = 4\n",
        "f = sy.sqrt(x**2 + 1)\n",
        "\n",
        "f"
      ],
      "metadata": {
        "colab": {
          "base_uri": "https://localhost:8080/",
          "height": 39
        },
        "id": "9QOVzO9lQdok",
        "outputId": "f835ed3e-d064-48ec-8bac-6757a4209d33"
      },
      "execution_count": 8,
      "outputs": [
        {
          "output_type": "execute_result",
          "data": {
            "text/plain": [
              "sqrt(17)"
            ],
            "text/latex": "$\\displaystyle \\sqrt{17}$"
          },
          "metadata": {},
          "execution_count": 8
        }
      ]
    }
  ]
}