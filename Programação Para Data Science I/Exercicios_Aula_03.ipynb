{
  "nbformat": 4,
  "nbformat_minor": 0,
  "metadata": {
    "colab": {
      "name": "Exercicios_Aula_03.ipynb",
      "provenance": [],
      "toc_visible": true,
      "authorship_tag": "ABX9TyPlD9f3Uo7qTKKn90ZWPFFO",
      "include_colab_link": true
    },
    "kernelspec": {
      "name": "python3",
      "display_name": "Python 3"
    },
    "language_info": {
      "name": "python"
    }
  },
  "cells": [
    {
      "cell_type": "markdown",
      "metadata": {
        "id": "view-in-github",
        "colab_type": "text"
      },
      "source": [
        "<a href=\"https://colab.research.google.com/github/JLVanin/Data-Science-Growdev/blob/main/Programa%C3%A7%C3%A3o%20Para%20Data%20Science%20I/Exercicios_Aula_03.ipynb\" target=\"_parent\"><img src=\"https://colab.research.google.com/assets/colab-badge.svg\" alt=\"Open In Colab\"/></a>"
      ]
    },
    {
      "cell_type": "markdown",
      "source": [
        "### Exercícios Aula 03"
      ],
      "metadata": {
        "id": "wpW8GR1vzdeJ"
      }
    },
    {
      "cell_type": "markdown",
      "source": [
        "As questões a seguir utilizam como base o dataset de venda de jogos\n",
        "eletrônicos disponível no seguinte [link](https://www.kaggle.com/code/rafa84miranda/vendas-de-jogos-de-videogames/data?select=vgsales.csv)\n"
      ],
      "metadata": {
        "id": "xM2L484dz5Zg"
      }
    },
    {
      "cell_type": "markdown",
      "source": [
        "### Ex 01\n",
        "##### Qual foi o jogo mais vendido no mundo em 2010?"
      ],
      "metadata": {
        "id": "TQF4-7sq0VWZ"
      }
    },
    {
      "cell_type": "code",
      "source": [
        "import pandas as pd\n",
        "import numpy as np"
      ],
      "metadata": {
        "id": "AH0H225z0aUD"
      },
      "execution_count": 2,
      "outputs": []
    },
    {
      "cell_type": "code",
      "source": [
        "df = pd.read_csv('vgsales.csv')\n",
        "df.head()"
      ],
      "metadata": {
        "colab": {
          "base_uri": "https://localhost:8080/",
          "height": 206
        },
        "id": "2ZYl31tX1AXj",
        "outputId": "f20d24b1-6df1-4aee-e10c-48fe656e733b"
      },
      "execution_count": 3,
      "outputs": [
        {
          "output_type": "execute_result",
          "data": {
            "text/plain": [
              "   Rank             Name Platform  Year     Genre   Publisher  NA_Sales  \\\n",
              "0   259        Asteroids     2600  1980   Shooter       Atari      4.00   \n",
              "1   545  Missile Command     2600  1980   Shooter       Atari      2.56   \n",
              "2  1768          Kaboom!     2600  1980      Misc  Activision      1.07   \n",
              "3  1971         Defender     2600  1980      Misc       Atari      0.99   \n",
              "4  2671           Boxing     2600  1980  Fighting  Activision      0.72   \n",
              "\n",
              "   EU_Sales  JP_Sales  Other_Sales  Global_Sales  \n",
              "0      0.26       0.0         0.05          4.31  \n",
              "1      0.17       0.0         0.03          2.76  \n",
              "2      0.07       0.0         0.01          1.15  \n",
              "3      0.05       0.0         0.01          1.05  \n",
              "4      0.04       0.0         0.01          0.77  "
            ],
            "text/html": [
              "\n",
              "  <div id=\"df-a6aa1a8e-02ec-421d-b4f2-8f2ed8c740e2\">\n",
              "    <div class=\"colab-df-container\">\n",
              "      <div>\n",
              "<style scoped>\n",
              "    .dataframe tbody tr th:only-of-type {\n",
              "        vertical-align: middle;\n",
              "    }\n",
              "\n",
              "    .dataframe tbody tr th {\n",
              "        vertical-align: top;\n",
              "    }\n",
              "\n",
              "    .dataframe thead th {\n",
              "        text-align: right;\n",
              "    }\n",
              "</style>\n",
              "<table border=\"1\" class=\"dataframe\">\n",
              "  <thead>\n",
              "    <tr style=\"text-align: right;\">\n",
              "      <th></th>\n",
              "      <th>Rank</th>\n",
              "      <th>Name</th>\n",
              "      <th>Platform</th>\n",
              "      <th>Year</th>\n",
              "      <th>Genre</th>\n",
              "      <th>Publisher</th>\n",
              "      <th>NA_Sales</th>\n",
              "      <th>EU_Sales</th>\n",
              "      <th>JP_Sales</th>\n",
              "      <th>Other_Sales</th>\n",
              "      <th>Global_Sales</th>\n",
              "    </tr>\n",
              "  </thead>\n",
              "  <tbody>\n",
              "    <tr>\n",
              "      <th>0</th>\n",
              "      <td>259</td>\n",
              "      <td>Asteroids</td>\n",
              "      <td>2600</td>\n",
              "      <td>1980</td>\n",
              "      <td>Shooter</td>\n",
              "      <td>Atari</td>\n",
              "      <td>4.00</td>\n",
              "      <td>0.26</td>\n",
              "      <td>0.0</td>\n",
              "      <td>0.05</td>\n",
              "      <td>4.31</td>\n",
              "    </tr>\n",
              "    <tr>\n",
              "      <th>1</th>\n",
              "      <td>545</td>\n",
              "      <td>Missile Command</td>\n",
              "      <td>2600</td>\n",
              "      <td>1980</td>\n",
              "      <td>Shooter</td>\n",
              "      <td>Atari</td>\n",
              "      <td>2.56</td>\n",
              "      <td>0.17</td>\n",
              "      <td>0.0</td>\n",
              "      <td>0.03</td>\n",
              "      <td>2.76</td>\n",
              "    </tr>\n",
              "    <tr>\n",
              "      <th>2</th>\n",
              "      <td>1768</td>\n",
              "      <td>Kaboom!</td>\n",
              "      <td>2600</td>\n",
              "      <td>1980</td>\n",
              "      <td>Misc</td>\n",
              "      <td>Activision</td>\n",
              "      <td>1.07</td>\n",
              "      <td>0.07</td>\n",
              "      <td>0.0</td>\n",
              "      <td>0.01</td>\n",
              "      <td>1.15</td>\n",
              "    </tr>\n",
              "    <tr>\n",
              "      <th>3</th>\n",
              "      <td>1971</td>\n",
              "      <td>Defender</td>\n",
              "      <td>2600</td>\n",
              "      <td>1980</td>\n",
              "      <td>Misc</td>\n",
              "      <td>Atari</td>\n",
              "      <td>0.99</td>\n",
              "      <td>0.05</td>\n",
              "      <td>0.0</td>\n",
              "      <td>0.01</td>\n",
              "      <td>1.05</td>\n",
              "    </tr>\n",
              "    <tr>\n",
              "      <th>4</th>\n",
              "      <td>2671</td>\n",
              "      <td>Boxing</td>\n",
              "      <td>2600</td>\n",
              "      <td>1980</td>\n",
              "      <td>Fighting</td>\n",
              "      <td>Activision</td>\n",
              "      <td>0.72</td>\n",
              "      <td>0.04</td>\n",
              "      <td>0.0</td>\n",
              "      <td>0.01</td>\n",
              "      <td>0.77</td>\n",
              "    </tr>\n",
              "  </tbody>\n",
              "</table>\n",
              "</div>\n",
              "      <button class=\"colab-df-convert\" onclick=\"convertToInteractive('df-a6aa1a8e-02ec-421d-b4f2-8f2ed8c740e2')\"\n",
              "              title=\"Convert this dataframe to an interactive table.\"\n",
              "              style=\"display:none;\">\n",
              "        \n",
              "  <svg xmlns=\"http://www.w3.org/2000/svg\" height=\"24px\"viewBox=\"0 0 24 24\"\n",
              "       width=\"24px\">\n",
              "    <path d=\"M0 0h24v24H0V0z\" fill=\"none\"/>\n",
              "    <path d=\"M18.56 5.44l.94 2.06.94-2.06 2.06-.94-2.06-.94-.94-2.06-.94 2.06-2.06.94zm-11 1L8.5 8.5l.94-2.06 2.06-.94-2.06-.94L8.5 2.5l-.94 2.06-2.06.94zm10 10l.94 2.06.94-2.06 2.06-.94-2.06-.94-.94-2.06-.94 2.06-2.06.94z\"/><path d=\"M17.41 7.96l-1.37-1.37c-.4-.4-.92-.59-1.43-.59-.52 0-1.04.2-1.43.59L10.3 9.45l-7.72 7.72c-.78.78-.78 2.05 0 2.83L4 21.41c.39.39.9.59 1.41.59.51 0 1.02-.2 1.41-.59l7.78-7.78 2.81-2.81c.8-.78.8-2.07 0-2.86zM5.41 20L4 18.59l7.72-7.72 1.47 1.35L5.41 20z\"/>\n",
              "  </svg>\n",
              "      </button>\n",
              "      \n",
              "  <style>\n",
              "    .colab-df-container {\n",
              "      display:flex;\n",
              "      flex-wrap:wrap;\n",
              "      gap: 12px;\n",
              "    }\n",
              "\n",
              "    .colab-df-convert {\n",
              "      background-color: #E8F0FE;\n",
              "      border: none;\n",
              "      border-radius: 50%;\n",
              "      cursor: pointer;\n",
              "      display: none;\n",
              "      fill: #1967D2;\n",
              "      height: 32px;\n",
              "      padding: 0 0 0 0;\n",
              "      width: 32px;\n",
              "    }\n",
              "\n",
              "    .colab-df-convert:hover {\n",
              "      background-color: #E2EBFA;\n",
              "      box-shadow: 0px 1px 2px rgba(60, 64, 67, 0.3), 0px 1px 3px 1px rgba(60, 64, 67, 0.15);\n",
              "      fill: #174EA6;\n",
              "    }\n",
              "\n",
              "    [theme=dark] .colab-df-convert {\n",
              "      background-color: #3B4455;\n",
              "      fill: #D2E3FC;\n",
              "    }\n",
              "\n",
              "    [theme=dark] .colab-df-convert:hover {\n",
              "      background-color: #434B5C;\n",
              "      box-shadow: 0px 1px 3px 1px rgba(0, 0, 0, 0.15);\n",
              "      filter: drop-shadow(0px 1px 2px rgba(0, 0, 0, 0.3));\n",
              "      fill: #FFFFFF;\n",
              "    }\n",
              "  </style>\n",
              "\n",
              "      <script>\n",
              "        const buttonEl =\n",
              "          document.querySelector('#df-a6aa1a8e-02ec-421d-b4f2-8f2ed8c740e2 button.colab-df-convert');\n",
              "        buttonEl.style.display =\n",
              "          google.colab.kernel.accessAllowed ? 'block' : 'none';\n",
              "\n",
              "        async function convertToInteractive(key) {\n",
              "          const element = document.querySelector('#df-a6aa1a8e-02ec-421d-b4f2-8f2ed8c740e2');\n",
              "          const dataTable =\n",
              "            await google.colab.kernel.invokeFunction('convertToInteractive',\n",
              "                                                     [key], {});\n",
              "          if (!dataTable) return;\n",
              "\n",
              "          const docLinkHtml = 'Like what you see? Visit the ' +\n",
              "            '<a target=\"_blank\" href=https://colab.research.google.com/notebooks/data_table.ipynb>data table notebook</a>'\n",
              "            + ' to learn more about interactive tables.';\n",
              "          element.innerHTML = '';\n",
              "          dataTable['output_type'] = 'display_data';\n",
              "          await google.colab.output.renderOutput(dataTable, element);\n",
              "          const docLink = document.createElement('div');\n",
              "          docLink.innerHTML = docLinkHtml;\n",
              "          element.appendChild(docLink);\n",
              "        }\n",
              "      </script>\n",
              "    </div>\n",
              "  </div>\n",
              "  "
            ]
          },
          "metadata": {},
          "execution_count": 3
        }
      ]
    },
    {
      "cell_type": "code",
      "source": [
        "game_2010 = df.query('Year == 2010')\n",
        "max_sale = game_2010['Global_Sales'].max()\n",
        "game = game_2010.query(f'Global_Sales == {max_sale}')\n",
        "print(game['Name'])"
      ],
      "metadata": {
        "id": "thOcQVA01Rbw"
      },
      "execution_count": null,
      "outputs": []
    },
    {
      "cell_type": "markdown",
      "source": [
        "### Ex 02\n",
        "##### Qual foi o gênero mais vendido na américa do norte em 2005"
      ],
      "metadata": {
        "id": "_DyAMRtk3Ina"
      }
    },
    {
      "cell_type": "code",
      "source": [
        "year_2005 = df.query('Year == 2005')\n",
        "genre = year_2005.groupby('Genre').sum()\n",
        "max_sale_na = genre['NA_Sales'].max()\n",
        "genre_max_sale_na = genre.query(f'NA_Sales == {max_sale_na}')\n",
        "\n",
        "print(genre_max_sale_na.iloc[0].name)"
      ],
      "metadata": {
        "id": "FP8b6yyy3N91"
      },
      "execution_count": null,
      "outputs": []
    },
    {
      "cell_type": "markdown",
      "source": [
        "### Ex 03 \n",
        "##### Qual foi a empresa que mais vendeu de 2005 até 2016"
      ],
      "metadata": {
        "id": "pE46ieNm6I3I"
      }
    },
    {
      "cell_type": "code",
      "source": [
        "year_2005_2016 = df.query('2005 <= Year <= 2016')\n",
        "publisher = year_2005_2016.groupby('Publisher').sum()\n",
        "max_sales = publisher['Global_Sales'].max()\n",
        "publisher_max_sales = publisher.query(f'Global_Sales == {max_sales}')\n",
        "\n",
        "print(publisher_max_sales.iloc[0].name)"
      ],
      "metadata": {
        "id": "o_xQOvdd6O1Y"
      },
      "execution_count": null,
      "outputs": []
    },
    {
      "cell_type": "markdown",
      "source": [
        "### Ex 04\n",
        "##### Qual o nome do jogo que menos foi vendido em 2008 do gênero Sports."
      ],
      "metadata": {
        "id": "IVtkWT-Q8KY4"
      }
    },
    {
      "cell_type": "code",
      "source": [
        "year_2008_genre = df.query(\"Year == 2008 & Genre == 'Sports'\")\n",
        "min_sales = year_2008_genre['Global_Sales'].min()\n",
        "game_min_sales_2008 = year_2008_genre.query(f'Global_Sales == {min_sales}')\n",
        "\n",
        "print(game_min_sales_2008['Name'])"
      ],
      "metadata": {
        "id": "xm_jXfF_8Qkf"
      },
      "execution_count": null,
      "outputs": []
    },
    {
      "cell_type": "markdown",
      "source": [
        "### Ex 05\n",
        "##### Mostre um gráfico com o total de vendas por ano.\n"
      ],
      "metadata": {
        "id": "PDGFNKkCCUaF"
      }
    },
    {
      "cell_type": "code",
      "source": [
        "import matplotlib.pyplot as plt\n",
        "\n",
        "sales_year = df.groupby('Year')['Global_Sales'].sum()\n",
        "\n",
        "sales_year.plot.bar(figsize= (16,7))"
      ],
      "metadata": {
        "id": "m8dnBM__CacR"
      },
      "execution_count": null,
      "outputs": []
    },
    {
      "cell_type": "markdown",
      "source": [
        "### Ex 06\n",
        "##### Qual foi o ano com mais lançamentos de jogos?"
      ],
      "metadata": {
        "id": "1qdA-rvmDpRH"
      }
    },
    {
      "cell_type": "code",
      "source": [
        "games_year = df.groupby('Year').count()\n",
        "games_year = games_year['Name']\n",
        "\n",
        "games_year.plot.bar(figsize= (16,7))"
      ],
      "metadata": {
        "id": "nnMy0hJkDvxu"
      },
      "execution_count": null,
      "outputs": []
    },
    {
      "cell_type": "markdown",
      "source": [
        "### Ex 07\n",
        "##### Qual a plataforma que menos lançou jogos?"
      ],
      "metadata": {
        "id": "IdUpq2wIFC7u"
      }
    },
    {
      "cell_type": "code",
      "source": [
        "games_platform = df.groupby('Platform').count()\n",
        "publisher_min = games_platform['Name'].min()\n",
        "platform_min_pubisher = games_platform.query(f'Name == {publisher_min}')\n",
        "\n",
        "print(platform_min_pubisher['Name'])"
      ],
      "metadata": {
        "id": "1Yv7hG8HFIr8"
      },
      "execution_count": null,
      "outputs": []
    },
    {
      "cell_type": "markdown",
      "source": [
        "### Ex 08\n",
        "##### Qual plataforma que mais gerou lucros com jogos do gênero Action desde 2009?"
      ],
      "metadata": {
        "id": "qViDMHgTJCzA"
      }
    },
    {
      "cell_type": "code",
      "source": [
        "year_genre = df.query(\"Genre == 'Action' & Year >= 2009\")\n",
        "platform = year_genre.groupby('Platform').sum()\n",
        "platform_max_sales = platform['Global_Sales'].max()\n",
        "platform = platform.query(f'Global_Sales == {platform_max_sales}')\n",
        "\n",
        "print(platform.iloc[0].name)"
      ],
      "metadata": {
        "id": "bgT6yan9JJX2"
      },
      "execution_count": null,
      "outputs": []
    },
    {
      "cell_type": "markdown",
      "source": [
        "### Ex 09\n",
        "##### Qual empresa teve o maior lucro (sob o teto de 0.35 milhões) de 1980 até 1995, excluindo-se a plataforma SNES.\n"
      ],
      "metadata": {
        "id": "62wbMGlBLG9l"
      }
    },
    {
      "cell_type": "code",
      "source": [
        "publisher_year_1980_1995 = df.query(\"1980 <= Year <= 1995 & Platform != 'SNES'\")\n",
        "year_publisher = publisher_year_1980_1995.groupby('Publisher').sum()\n",
        "publisher_35m = year_publisher.query('Global_Sales <= 0.35')\n",
        "publisher_35m_max = publisher_35m['Global_Sales'].max()\n",
        "publisher_max_profit = publisher_35m.query(f'Global_Sales == {publisher_35m_max}')\n",
        "\n",
        "print(publisher_max_profit.iloc[0].name)\n"
      ],
      "metadata": {
        "id": "4SIJiEh-LO8-"
      },
      "execution_count": null,
      "outputs": []
    },
    {
      "cell_type": "markdown",
      "source": [
        "### Ex 10\n",
        "##### A empresa que mais lucrou no Japão em 2003 é a mesma que mais lucrou na europa nesse mesmo ano?"
      ],
      "metadata": {
        "id": "x2oiCV8wOJIm"
      }
    },
    {
      "cell_type": "code",
      "source": [
        "year_2003 = df.query('Year == 2003')\n",
        "publisher = year_2003.groupby('Publisher').sum()\n",
        "jp_publisher_value = publisher['JP_Sales'].max()\n",
        "eu_publisher_value = publisher['EU_Sales'].max()\n",
        "jp_publisher_sales = publisher.query(f'JP_Sales == {jp_publisher_value}')\n",
        "eu_publisher_sales = publisher.query(f'EU_Sales == {eu_publisher_value}')\n",
        "\n",
        "print(f'Japão: {jp_publisher_sales.iloc[0].name}')\n",
        "print(f'Europa: {eu_publisher_sales.iloc[0].name}')\n",
        "\n",
        "if jp_publisher_sales.iloc[0].name == eu_publisher_sales.iloc[0].name:\n",
        "  print('Sim')\n",
        "else:\n",
        "  print('Não')"
      ],
      "metadata": {
        "id": "alFCAdJ6OOmd"
      },
      "execution_count": null,
      "outputs": []
    },
    {
      "cell_type": "markdown",
      "source": [
        "### Ex 11\n",
        "##### Qual o percentual relacionado às vendas globais de jogos de Wii (excluindo-se América do norte, japão e europa) de 2006 até 2010?"
      ],
      "metadata": {
        "id": "4qpB_MFQRs_n"
      }
    },
    {
      "cell_type": "code",
      "source": [
        "game_wii_year = df.query(\"2006 <= Year <= 2010 & Platform == 'Wii'\")\n",
        "wii_os = game_wii_year['Other_Sales'].sum()\n",
        "wii_gs = game_wii_year['Global_Sales'].sum()\n",
        "percent = wii_os / wii_gs * 100\n",
        "\n",
        "print(f'Percentual: {percent:.2f}%')"
      ],
      "metadata": {
        "id": "Pa8OvnfFR0Tl"
      },
      "execution_count": null,
      "outputs": []
    },
    {
      "cell_type": "markdown",
      "source": [
        "### Ex 12\n",
        "##### Mostre um gráfico de linhas com as vendas em diferentes plataformas ao longo dos anos.\n"
      ],
      "metadata": {
        "id": "mytCFZ5hTfd9"
      }
    },
    {
      "cell_type": "code",
      "source": [
        "platform_sales = df.groupby(['Year', 'Platform'])['Global_Sales'].sum()\n",
        "fig, ax = plt.subplots(figsize= (16,7))\n",
        "platform_sales.unstack().plot(ax=ax)"
      ],
      "metadata": {
        "id": "RwSqILHITmJF"
      },
      "execution_count": null,
      "outputs": []
    },
    {
      "cell_type": "markdown",
      "source": [
        "### Ex 13\n",
        "##### Mostre um gráfico de pizza com o percentual de vendas dos diferentes gêneros de jogos."
      ],
      "metadata": {
        "id": "co5eH5jSWIxM"
      }
    },
    {
      "cell_type": "code",
      "source": [
        "sales_genre = df.groupby('Genre').sum()['Global_Sales']\n",
        "sales_genre.rename('Vendas Globais', inplace=True)\n",
        "sales_genre.plot.pie(figsize= (35,12), autopct='%.1f')"
      ],
      "metadata": {
        "id": "seyuo8jGWP_V"
      },
      "execution_count": null,
      "outputs": []
    }
  ]
}