{
 "cells": [
  {
   "cell_type": "markdown",
   "metadata": {},
   "source": [
    "### Exercícios Semana 01 - Aula 01"
   ]
  },
  {
   "cell_type": "markdown",
   "metadata": {},
   "source": [
    "### Ex 01\n",
    "##### Importe numpy como “np” e imprima o número da versão."
   ]
  },
  {
   "cell_type": "code",
   "execution_count": null,
   "metadata": {},
   "outputs": [],
   "source": [
    "import numpy as np\n",
    "print(np.__version__)"
   ]
  },
  {
   "cell_type": "markdown",
   "metadata": {},
   "source": [
    "### Ex 02\n",
    "##### Crie um array 1D com números de 0 a 9."
   ]
  },
  {
   "cell_type": "code",
   "execution_count": null,
   "metadata": {},
   "outputs": [],
   "source": [
    "a = np.arange(10)\n",
    "print(a)"
   ]
  },
  {
   "cell_type": "markdown",
   "metadata": {},
   "source": [
    "### Ex 03\n",
    "##### Crie uma matriz booleana numpy 3×3 com ‘True’"
   ]
  },
  {
   "cell_type": "code",
   "execution_count": null,
   "metadata": {},
   "outputs": [],
   "source": [
    "forma = (3,3)\n",
    "a = np.full(forma, True)\n",
    "\n",
    "print(a)"
   ]
  },
  {
   "cell_type": "markdown",
   "metadata": {},
   "source": [
    "### Ex 04\n",
    "##### Exiba o array da questão 2 com todos os números ímpares substituídos por -1 sem alterar o array."
   ]
  },
  {
   "cell_type": "code",
   "execution_count": null,
   "metadata": {},
   "outputs": [],
   "source": [
    "a = np.arange(10)\n",
    "b = np.where(a % 2 != 0, -1, a)\n",
    "\n",
    "print(a)\n",
    "print(b)"
   ]
  },
  {
   "cell_type": "markdown",
   "metadata": {},
   "source": [
    "### Ex 05\n",
    "##### Crie 3 matrizes 200 x 200, cada uma com valores aleatórios entre 0 e 255. Junte as 3 matrizes de modo que uma matriz resultante (200 x 200 x 3) seja criada, então exiba como uma imagem utilizando o opencv."
   ]
  },
  {
   "cell_type": "code",
   "execution_count": null,
   "metadata": {},
   "outputs": [],
   "source": [
    "import cv2\n",
    "\n",
    "shape = (200, 200)\n",
    "\n",
    "r = np.random.randint(256, size=shape)\n",
    "g = np.random.randint(256, size=shape)\n",
    "b = np.random.randint(256, size=shape)\n",
    "\n",
    "img = np.dstack((r,g,b)).astype(np.int8)\n",
    "\n",
    "print(img.shape)\n",
    "\n",
    "cv2.imshow('',img)\n",
    "cv2.waitKey(0)\n",
    "cv2.destroyAllWindows()"
   ]
  },
  {
   "cell_type": "markdown",
   "metadata": {},
   "source": [
    "### Ex 06\n",
    "\n",
    "##### Crie um array bidimensional com numpy (com valores pré-definidos) com M linhas e N colunas e em seguida crie um array com N elementos e verifique se existe uma linha do primeiro array que corresponde ao segundo array criado."
   ]
  },
  {
   "cell_type": "code",
   "execution_count": null,
   "metadata": {},
   "outputs": [],
   "source": [
    "shape = (6, 4)\n",
    "\n",
    "a = np.random.randint(10, size=shape)\n",
    "\n",
    "print(a)"
   ]
  },
  {
   "cell_type": "code",
   "execution_count": null,
   "metadata": {},
   "outputs": [],
   "source": [
    "b = np.array([4,2,6,3])\n",
    "\n",
    "existe = False\n",
    "\n",
    "for i in a:\n",
    "    if (b == i).any():\n",
    "        existe = True\n",
    "\n",
    "print(existe)"
   ]
  },
  {
   "cell_type": "markdown",
   "metadata": {},
   "source": [
    "### Ex 07\n",
    "##### Crie um array de qualquer dimensão com valores de 1 até 10 e após, altere todos os valores pares para o valor 45."
   ]
  },
  {
   "cell_type": "code",
   "execution_count": null,
   "metadata": {},
   "outputs": [],
   "source": [
    "shape = (3,2)\n",
    "\n",
    "a = np.random.randint(1,10, size=shape)\n",
    "\n",
    "print(f\"Antes {a}\")\n",
    "\n",
    "a = np.where(a % 2 == 0, 45, a)\n",
    "\n",
    "print(f\"Depois {a}\")"
   ]
  },
  {
   "cell_type": "markdown",
   "metadata": {},
   "source": [
    "### Ex 08\n",
    "##### Crie um array randômico de tamanho 30 e encontre a média e o desvio padrão."
   ]
  },
  {
   "cell_type": "code",
   "execution_count": null,
   "metadata": {},
   "outputs": [],
   "source": [
    "a = np.random.rand(30)\n",
    "\n",
    "a *= 10\n",
    "\n",
    "print(a)\n",
    "\n",
    "desvio_padrao = a.std()\n",
    "\n",
    "media = a.mean()\n",
    "\n",
    "soma = a.sum()\n",
    "\n",
    "print(f'Desvio padrão: {desvio_padrao}')\n",
    "\n",
    "print(f'Média: {media}')\n",
    "\n",
    "print(f'Soma: {soma}')"
   ]
  },
  {
   "cell_type": "markdown",
   "metadata": {},
   "source": [
    "### Ex 09\n",
    "##### Crie um array randômico de valores inteiros e faça a ordenação desse array."
   ]
  },
  {
   "cell_type": "code",
   "execution_count": null,
   "metadata": {},
   "outputs": [],
   "source": [
    "a = np.random.choice(10, 10, False)\n",
    "\n",
    "print(a)\n",
    "\n",
    "a.sort()\n",
    "\n",
    "print(a)"
   ]
  },
  {
   "cell_type": "markdown",
   "metadata": {},
   "source": [
    "### Ex 10\n",
    "##### Crie um array randômico de valores inteiros, em seguida encontre a moda."
   ]
  },
  {
   "cell_type": "code",
   "execution_count": null,
   "metadata": {},
   "outputs": [],
   "source": [
    "a = np.random.randint(10, size=10)\n",
    "\n",
    "print(a)\n",
    "\n",
    "unique, counts = np.unique(a, return_counts=True)"
   ]
  },
  {
   "cell_type": "code",
   "execution_count": null,
   "metadata": {},
   "outputs": [],
   "source": [
    "index = np.argmax(counts)\n",
    "\n",
    "# print(unique)\n",
    "# print(counts)\n",
    "\n",
    "moda = unique[index]\n",
    "\n",
    "print(f'moda: {moda}')"
   ]
  }
 ],
 "metadata": {
  "kernelspec": {
   "display_name": "Python 3.10.5 64-bit",
   "language": "python",
   "name": "python3"
  },
  "language_info": {
   "codemirror_mode": {
    "name": "ipython",
    "version": 3
   },
   "file_extension": ".py",
   "mimetype": "text/x-python",
   "name": "python",
   "nbconvert_exporter": "python",
   "pygments_lexer": "ipython3",
   "version": "3.10.5"
  },
  "orig_nbformat": 4,
  "vscode": {
   "interpreter": {
    "hash": "818acbb336200080d6f8e71a9128c229e7bae5d2b535bdd246d0f5d9691a261c"
   }
  }
 },
 "nbformat": 4,
 "nbformat_minor": 2
}
