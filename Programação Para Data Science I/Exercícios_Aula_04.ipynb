{
  "nbformat": 4,
  "nbformat_minor": 0,
  "metadata": {
    "colab": {
      "name": "Exercícios_Aula_04.ipynb",
      "provenance": [],
      "collapsed_sections": [
        "EGZj1oS3eu08",
        "rJYiqt8Ufh99",
        "nkJQmflugA0t",
        "LeK5ZG7EgJ3d",
        "8JObLF1OgRhC",
        "mh3DTwpRgYMi",
        "qeSxDK5agfXL",
        "Y-2XhPJkgsBU",
        "RyBjbT_4g0BD",
        "FVJlml0mg5mL",
        "IsLfdnAhhApq",
        "a1lyMY4MhHfL"
      ],
      "authorship_tag": "ABX9TyMTeqj9/Fqd0CmNqmN7fm15"
    },
    "kernelspec": {
      "name": "python3",
      "display_name": "Python 3"
    },
    "language_info": {
      "name": "python"
    },
    "gpuClass": "standard"
  },
  "cells": [
    {
      "cell_type": "markdown",
      "source": [
        "### Exercícios Aula 04\n",
        "##### Utilize o dataset contido nesse [link](https://www.kaggle.com/datasets/upadorprofzs/testes), e responda as questões abaixo. O dataset contém dados estatísticos do IBGE relativos à escolaridade, renda entre outros campos avaliados pela PNAD (Pesquisa Nacional por Amostra de Domicílios). Os dados podem representar informações relevantes e reveladoras sobre a distribuição de renda e possivelmente alguns indicadores sobre tais situações encontradas a partir dos dados.\n",
        "\n"
      ],
      "metadata": {
        "id": "EGZj1oS3eu08"
      }
    },
    {
      "cell_type": "code",
      "source": [
        "import pandas as pd"
      ],
      "metadata": {
        "id": "H1Bquqb7hUbK"
      },
      "execution_count": 1,
      "outputs": []
    },
    {
      "cell_type": "code",
      "source": [
        "df = pd.read_csv('dados.csv')\n",
        "df.head()"
      ],
      "metadata": {
        "id": "R0Vkoh4shbF0",
        "colab": {
          "base_uri": "https://localhost:8080/",
          "height": 206
        },
        "outputId": "523d1cb1-5b68-47d4-ef6c-3bd604c8f96f"
      },
      "execution_count": 2,
      "outputs": [
        {
          "output_type": "execute_result",
          "data": {
            "text/plain": [
              "   UF  Sexo  Idade  Cor  Anos de Estudo  Renda    Altura\n",
              "0  11     0     23    8              12    800  1.603808\n",
              "1  11     1     23    2              12   1150  1.739790\n",
              "2  11     1     35    8              15    880  1.760444\n",
              "3  11     0     46    2               6   3500  1.783158\n",
              "4  11     1     47    8               9    150  1.690631"
            ],
            "text/html": [
              "\n",
              "  <div id=\"df-66898034-5f8d-4491-ba3e-66e89549c2f4\">\n",
              "    <div class=\"colab-df-container\">\n",
              "      <div>\n",
              "<style scoped>\n",
              "    .dataframe tbody tr th:only-of-type {\n",
              "        vertical-align: middle;\n",
              "    }\n",
              "\n",
              "    .dataframe tbody tr th {\n",
              "        vertical-align: top;\n",
              "    }\n",
              "\n",
              "    .dataframe thead th {\n",
              "        text-align: right;\n",
              "    }\n",
              "</style>\n",
              "<table border=\"1\" class=\"dataframe\">\n",
              "  <thead>\n",
              "    <tr style=\"text-align: right;\">\n",
              "      <th></th>\n",
              "      <th>UF</th>\n",
              "      <th>Sexo</th>\n",
              "      <th>Idade</th>\n",
              "      <th>Cor</th>\n",
              "      <th>Anos de Estudo</th>\n",
              "      <th>Renda</th>\n",
              "      <th>Altura</th>\n",
              "    </tr>\n",
              "  </thead>\n",
              "  <tbody>\n",
              "    <tr>\n",
              "      <th>0</th>\n",
              "      <td>11</td>\n",
              "      <td>0</td>\n",
              "      <td>23</td>\n",
              "      <td>8</td>\n",
              "      <td>12</td>\n",
              "      <td>800</td>\n",
              "      <td>1.603808</td>\n",
              "    </tr>\n",
              "    <tr>\n",
              "      <th>1</th>\n",
              "      <td>11</td>\n",
              "      <td>1</td>\n",
              "      <td>23</td>\n",
              "      <td>2</td>\n",
              "      <td>12</td>\n",
              "      <td>1150</td>\n",
              "      <td>1.739790</td>\n",
              "    </tr>\n",
              "    <tr>\n",
              "      <th>2</th>\n",
              "      <td>11</td>\n",
              "      <td>1</td>\n",
              "      <td>35</td>\n",
              "      <td>8</td>\n",
              "      <td>15</td>\n",
              "      <td>880</td>\n",
              "      <td>1.760444</td>\n",
              "    </tr>\n",
              "    <tr>\n",
              "      <th>3</th>\n",
              "      <td>11</td>\n",
              "      <td>0</td>\n",
              "      <td>46</td>\n",
              "      <td>2</td>\n",
              "      <td>6</td>\n",
              "      <td>3500</td>\n",
              "      <td>1.783158</td>\n",
              "    </tr>\n",
              "    <tr>\n",
              "      <th>4</th>\n",
              "      <td>11</td>\n",
              "      <td>1</td>\n",
              "      <td>47</td>\n",
              "      <td>8</td>\n",
              "      <td>9</td>\n",
              "      <td>150</td>\n",
              "      <td>1.690631</td>\n",
              "    </tr>\n",
              "  </tbody>\n",
              "</table>\n",
              "</div>\n",
              "      <button class=\"colab-df-convert\" onclick=\"convertToInteractive('df-66898034-5f8d-4491-ba3e-66e89549c2f4')\"\n",
              "              title=\"Convert this dataframe to an interactive table.\"\n",
              "              style=\"display:none;\">\n",
              "        \n",
              "  <svg xmlns=\"http://www.w3.org/2000/svg\" height=\"24px\"viewBox=\"0 0 24 24\"\n",
              "       width=\"24px\">\n",
              "    <path d=\"M0 0h24v24H0V0z\" fill=\"none\"/>\n",
              "    <path d=\"M18.56 5.44l.94 2.06.94-2.06 2.06-.94-2.06-.94-.94-2.06-.94 2.06-2.06.94zm-11 1L8.5 8.5l.94-2.06 2.06-.94-2.06-.94L8.5 2.5l-.94 2.06-2.06.94zm10 10l.94 2.06.94-2.06 2.06-.94-2.06-.94-.94-2.06-.94 2.06-2.06.94z\"/><path d=\"M17.41 7.96l-1.37-1.37c-.4-.4-.92-.59-1.43-.59-.52 0-1.04.2-1.43.59L10.3 9.45l-7.72 7.72c-.78.78-.78 2.05 0 2.83L4 21.41c.39.39.9.59 1.41.59.51 0 1.02-.2 1.41-.59l7.78-7.78 2.81-2.81c.8-.78.8-2.07 0-2.86zM5.41 20L4 18.59l7.72-7.72 1.47 1.35L5.41 20z\"/>\n",
              "  </svg>\n",
              "      </button>\n",
              "      \n",
              "  <style>\n",
              "    .colab-df-container {\n",
              "      display:flex;\n",
              "      flex-wrap:wrap;\n",
              "      gap: 12px;\n",
              "    }\n",
              "\n",
              "    .colab-df-convert {\n",
              "      background-color: #E8F0FE;\n",
              "      border: none;\n",
              "      border-radius: 50%;\n",
              "      cursor: pointer;\n",
              "      display: none;\n",
              "      fill: #1967D2;\n",
              "      height: 32px;\n",
              "      padding: 0 0 0 0;\n",
              "      width: 32px;\n",
              "    }\n",
              "\n",
              "    .colab-df-convert:hover {\n",
              "      background-color: #E2EBFA;\n",
              "      box-shadow: 0px 1px 2px rgba(60, 64, 67, 0.3), 0px 1px 3px 1px rgba(60, 64, 67, 0.15);\n",
              "      fill: #174EA6;\n",
              "    }\n",
              "\n",
              "    [theme=dark] .colab-df-convert {\n",
              "      background-color: #3B4455;\n",
              "      fill: #D2E3FC;\n",
              "    }\n",
              "\n",
              "    [theme=dark] .colab-df-convert:hover {\n",
              "      background-color: #434B5C;\n",
              "      box-shadow: 0px 1px 3px 1px rgba(0, 0, 0, 0.15);\n",
              "      filter: drop-shadow(0px 1px 2px rgba(0, 0, 0, 0.3));\n",
              "      fill: #FFFFFF;\n",
              "    }\n",
              "  </style>\n",
              "\n",
              "      <script>\n",
              "        const buttonEl =\n",
              "          document.querySelector('#df-66898034-5f8d-4491-ba3e-66e89549c2f4 button.colab-df-convert');\n",
              "        buttonEl.style.display =\n",
              "          google.colab.kernel.accessAllowed ? 'block' : 'none';\n",
              "\n",
              "        async function convertToInteractive(key) {\n",
              "          const element = document.querySelector('#df-66898034-5f8d-4491-ba3e-66e89549c2f4');\n",
              "          const dataTable =\n",
              "            await google.colab.kernel.invokeFunction('convertToInteractive',\n",
              "                                                     [key], {});\n",
              "          if (!dataTable) return;\n",
              "\n",
              "          const docLinkHtml = 'Like what you see? Visit the ' +\n",
              "            '<a target=\"_blank\" href=https://colab.research.google.com/notebooks/data_table.ipynb>data table notebook</a>'\n",
              "            + ' to learn more about interactive tables.';\n",
              "          element.innerHTML = '';\n",
              "          dataTable['output_type'] = 'display_data';\n",
              "          await google.colab.output.renderOutput(dataTable, element);\n",
              "          const docLink = document.createElement('div');\n",
              "          docLink.innerHTML = docLinkHtml;\n",
              "          element.appendChild(docLink);\n",
              "        }\n",
              "      </script>\n",
              "    </div>\n",
              "  </div>\n",
              "  "
            ]
          },
          "metadata": {},
          "execution_count": 2
        }
      ]
    },
    {
      "cell_type": "code",
      "source": [
        "Dict_UF = {\n",
        "    11 : 'Rondônia',\n",
        "    12 : 'Acre',\n",
        "    13 : 'Amazonas',\n",
        "    14 : 'Roraima',\n",
        "    15 : 'Pará',\n",
        "    16 : 'Amapá',\n",
        "    17 : 'Tocantins',\n",
        "    21 : 'Maranhão',\n",
        "    22 : 'Piauí',\n",
        "    23 : 'Ceará',\n",
        "    24 : 'Rio Grande do Norte',\n",
        "    25 : 'Paraíba',\n",
        "    26 : 'Pernambuco',\n",
        "    27 : 'Alagoas',\n",
        "    28 : 'Sergipe',\n",
        "    29 : 'Bahia',\n",
        "    31 : 'Minas Gerais',\n",
        "    32 : 'Espírito Santo',\n",
        "    33 : 'Rio de Janeiro',\n",
        "    35 : 'São Paulo',\n",
        "    41 : 'Paraná',\n",
        "    42 : 'Santa Catarina',\n",
        "    43 : 'Rio Grande do Sul',\n",
        "    50 : 'Mato Grosso do Sul',\n",
        "    51 : 'Mato Grosso',\n",
        "    52 : 'Goiás',\n",
        "    53 : 'Distrito Federal'\n",
        "}"
      ],
      "metadata": {
        "id": "_V0Jy8Udsk9z"
      },
      "execution_count": 3,
      "outputs": []
    },
    {
      "cell_type": "code",
      "source": [
        "df[\"UF\"] = df[\"UF\"].map(Dict_UF)"
      ],
      "metadata": {
        "id": "B4GY4WVpsqIS"
      },
      "execution_count": 4,
      "outputs": []
    },
    {
      "cell_type": "code",
      "source": [
        "Dict_Cor = {\n",
        "    0 : 'Indígena',\n",
        "    2 : 'Branca',\n",
        "    4 : 'Preta',\n",
        "    6 : 'Amarela',\n",
        "    8 : 'Parda',\n",
        "    9 : 'Sem declaração'\n",
        "    }"
      ],
      "metadata": {
        "id": "RniCq1bUtDRR"
      },
      "execution_count": 5,
      "outputs": []
    },
    {
      "cell_type": "code",
      "source": [
        "df[\"Cor\"] = df[\"Cor\"].map(Dict_Cor)"
      ],
      "metadata": {
        "id": "uRI3kK46tHYR"
      },
      "execution_count": 6,
      "outputs": []
    },
    {
      "cell_type": "code",
      "source": [
        "Dict_Sexo = {\n",
        "      0 : 'Masculino',\n",
        "      1 : 'Feminino'\n",
        "  }"
      ],
      "metadata": {
        "id": "1rG1RojdtRvp"
      },
      "execution_count": 7,
      "outputs": []
    },
    {
      "cell_type": "code",
      "source": [
        "df[\"Sexo\"] = df[\"Sexo\"].map(Dict_Sexo)"
      ],
      "metadata": {
        "id": "qiZieDkitUGJ"
      },
      "execution_count": 8,
      "outputs": []
    },
    {
      "cell_type": "code",
      "source": [
        "df.head()"
      ],
      "metadata": {
        "id": "98SvmyOetVt0",
        "colab": {
          "base_uri": "https://localhost:8080/",
          "height": 206
        },
        "outputId": "7f0559a0-320b-4355-f2b2-e78442a84d91"
      },
      "execution_count": 9,
      "outputs": [
        {
          "output_type": "execute_result",
          "data": {
            "text/plain": [
              "         UF       Sexo  Idade     Cor  Anos de Estudo  Renda    Altura\n",
              "0  Rondônia  Masculino     23   Parda              12    800  1.603808\n",
              "1  Rondônia   Feminino     23  Branca              12   1150  1.739790\n",
              "2  Rondônia   Feminino     35   Parda              15    880  1.760444\n",
              "3  Rondônia  Masculino     46  Branca               6   3500  1.783158\n",
              "4  Rondônia   Feminino     47   Parda               9    150  1.690631"
            ],
            "text/html": [
              "\n",
              "  <div id=\"df-a7ad7681-57d5-41d4-b4fc-f708ab08f0ae\">\n",
              "    <div class=\"colab-df-container\">\n",
              "      <div>\n",
              "<style scoped>\n",
              "    .dataframe tbody tr th:only-of-type {\n",
              "        vertical-align: middle;\n",
              "    }\n",
              "\n",
              "    .dataframe tbody tr th {\n",
              "        vertical-align: top;\n",
              "    }\n",
              "\n",
              "    .dataframe thead th {\n",
              "        text-align: right;\n",
              "    }\n",
              "</style>\n",
              "<table border=\"1\" class=\"dataframe\">\n",
              "  <thead>\n",
              "    <tr style=\"text-align: right;\">\n",
              "      <th></th>\n",
              "      <th>UF</th>\n",
              "      <th>Sexo</th>\n",
              "      <th>Idade</th>\n",
              "      <th>Cor</th>\n",
              "      <th>Anos de Estudo</th>\n",
              "      <th>Renda</th>\n",
              "      <th>Altura</th>\n",
              "    </tr>\n",
              "  </thead>\n",
              "  <tbody>\n",
              "    <tr>\n",
              "      <th>0</th>\n",
              "      <td>Rondônia</td>\n",
              "      <td>Masculino</td>\n",
              "      <td>23</td>\n",
              "      <td>Parda</td>\n",
              "      <td>12</td>\n",
              "      <td>800</td>\n",
              "      <td>1.603808</td>\n",
              "    </tr>\n",
              "    <tr>\n",
              "      <th>1</th>\n",
              "      <td>Rondônia</td>\n",
              "      <td>Feminino</td>\n",
              "      <td>23</td>\n",
              "      <td>Branca</td>\n",
              "      <td>12</td>\n",
              "      <td>1150</td>\n",
              "      <td>1.739790</td>\n",
              "    </tr>\n",
              "    <tr>\n",
              "      <th>2</th>\n",
              "      <td>Rondônia</td>\n",
              "      <td>Feminino</td>\n",
              "      <td>35</td>\n",
              "      <td>Parda</td>\n",
              "      <td>15</td>\n",
              "      <td>880</td>\n",
              "      <td>1.760444</td>\n",
              "    </tr>\n",
              "    <tr>\n",
              "      <th>3</th>\n",
              "      <td>Rondônia</td>\n",
              "      <td>Masculino</td>\n",
              "      <td>46</td>\n",
              "      <td>Branca</td>\n",
              "      <td>6</td>\n",
              "      <td>3500</td>\n",
              "      <td>1.783158</td>\n",
              "    </tr>\n",
              "    <tr>\n",
              "      <th>4</th>\n",
              "      <td>Rondônia</td>\n",
              "      <td>Feminino</td>\n",
              "      <td>47</td>\n",
              "      <td>Parda</td>\n",
              "      <td>9</td>\n",
              "      <td>150</td>\n",
              "      <td>1.690631</td>\n",
              "    </tr>\n",
              "  </tbody>\n",
              "</table>\n",
              "</div>\n",
              "      <button class=\"colab-df-convert\" onclick=\"convertToInteractive('df-a7ad7681-57d5-41d4-b4fc-f708ab08f0ae')\"\n",
              "              title=\"Convert this dataframe to an interactive table.\"\n",
              "              style=\"display:none;\">\n",
              "        \n",
              "  <svg xmlns=\"http://www.w3.org/2000/svg\" height=\"24px\"viewBox=\"0 0 24 24\"\n",
              "       width=\"24px\">\n",
              "    <path d=\"M0 0h24v24H0V0z\" fill=\"none\"/>\n",
              "    <path d=\"M18.56 5.44l.94 2.06.94-2.06 2.06-.94-2.06-.94-.94-2.06-.94 2.06-2.06.94zm-11 1L8.5 8.5l.94-2.06 2.06-.94-2.06-.94L8.5 2.5l-.94 2.06-2.06.94zm10 10l.94 2.06.94-2.06 2.06-.94-2.06-.94-.94-2.06-.94 2.06-2.06.94z\"/><path d=\"M17.41 7.96l-1.37-1.37c-.4-.4-.92-.59-1.43-.59-.52 0-1.04.2-1.43.59L10.3 9.45l-7.72 7.72c-.78.78-.78 2.05 0 2.83L4 21.41c.39.39.9.59 1.41.59.51 0 1.02-.2 1.41-.59l7.78-7.78 2.81-2.81c.8-.78.8-2.07 0-2.86zM5.41 20L4 18.59l7.72-7.72 1.47 1.35L5.41 20z\"/>\n",
              "  </svg>\n",
              "      </button>\n",
              "      \n",
              "  <style>\n",
              "    .colab-df-container {\n",
              "      display:flex;\n",
              "      flex-wrap:wrap;\n",
              "      gap: 12px;\n",
              "    }\n",
              "\n",
              "    .colab-df-convert {\n",
              "      background-color: #E8F0FE;\n",
              "      border: none;\n",
              "      border-radius: 50%;\n",
              "      cursor: pointer;\n",
              "      display: none;\n",
              "      fill: #1967D2;\n",
              "      height: 32px;\n",
              "      padding: 0 0 0 0;\n",
              "      width: 32px;\n",
              "    }\n",
              "\n",
              "    .colab-df-convert:hover {\n",
              "      background-color: #E2EBFA;\n",
              "      box-shadow: 0px 1px 2px rgba(60, 64, 67, 0.3), 0px 1px 3px 1px rgba(60, 64, 67, 0.15);\n",
              "      fill: #174EA6;\n",
              "    }\n",
              "\n",
              "    [theme=dark] .colab-df-convert {\n",
              "      background-color: #3B4455;\n",
              "      fill: #D2E3FC;\n",
              "    }\n",
              "\n",
              "    [theme=dark] .colab-df-convert:hover {\n",
              "      background-color: #434B5C;\n",
              "      box-shadow: 0px 1px 3px 1px rgba(0, 0, 0, 0.15);\n",
              "      filter: drop-shadow(0px 1px 2px rgba(0, 0, 0, 0.3));\n",
              "      fill: #FFFFFF;\n",
              "    }\n",
              "  </style>\n",
              "\n",
              "      <script>\n",
              "        const buttonEl =\n",
              "          document.querySelector('#df-a7ad7681-57d5-41d4-b4fc-f708ab08f0ae button.colab-df-convert');\n",
              "        buttonEl.style.display =\n",
              "          google.colab.kernel.accessAllowed ? 'block' : 'none';\n",
              "\n",
              "        async function convertToInteractive(key) {\n",
              "          const element = document.querySelector('#df-a7ad7681-57d5-41d4-b4fc-f708ab08f0ae');\n",
              "          const dataTable =\n",
              "            await google.colab.kernel.invokeFunction('convertToInteractive',\n",
              "                                                     [key], {});\n",
              "          if (!dataTable) return;\n",
              "\n",
              "          const docLinkHtml = 'Like what you see? Visit the ' +\n",
              "            '<a target=\"_blank\" href=https://colab.research.google.com/notebooks/data_table.ipynb>data table notebook</a>'\n",
              "            + ' to learn more about interactive tables.';\n",
              "          element.innerHTML = '';\n",
              "          dataTable['output_type'] = 'display_data';\n",
              "          await google.colab.output.renderOutput(dataTable, element);\n",
              "          const docLink = document.createElement('div');\n",
              "          docLink.innerHTML = docLinkHtml;\n",
              "          element.appendChild(docLink);\n",
              "        }\n",
              "      </script>\n",
              "    </div>\n",
              "  </div>\n",
              "  "
            ]
          },
          "metadata": {},
          "execution_count": 9
        }
      ]
    },
    {
      "cell_type": "markdown",
      "source": [
        "### Ex 01\n",
        "##### Qual a quantidade de pessoas nas seguintes faixas etárias\n",
        "##### a) 20 anos ou menos \n",
        "##### b) 21 a 35 anos\n",
        "##### c) 36 a 50 anos\n",
        "##### d) 51 a 65 anos\n",
        "##### e) maiores de 65 anos\n"
      ],
      "metadata": {
        "id": "rJYiqt8Ufh99"
      }
    },
    {
      "cell_type": "code",
      "source": [
        "df['Faixa Etaria'] = pd.cut(x=df['Idade'], bins=[0,20,35,50,65,200], \n",
        "                    labels=['ate_20anos','entre21_35anos','entre36_50anos','entre51_65anos','mais_65anos'])\n",
        "faixa_etaria = df.groupby('Faixa Etaria').count()\n",
        "faixa_etaria['Idade']"
      ],
      "metadata": {
        "id": "YfQ4HfGsw08r",
        "colab": {
          "base_uri": "https://localhost:8080/"
        },
        "outputId": "06a16bac-2eb7-48be-f8ae-22197fe23782"
      },
      "execution_count": 10,
      "outputs": [
        {
          "output_type": "execute_result",
          "data": {
            "text/plain": [
              "Faixa Etaria\n",
              "ate_20anos          764\n",
              "entre21_35anos    20654\n",
              "entre36_50anos    31770\n",
              "entre51_65anos    20006\n",
              "mais_65anos        3646\n",
              "Name: Idade, dtype: int64"
            ]
          },
          "metadata": {},
          "execution_count": 10
        }
      ]
    },
    {
      "cell_type": "markdown",
      "source": [
        "### Ex 02\n",
        "##### Qual é a média de escolaridade em cada faixa etária?"
      ],
      "metadata": {
        "id": "nkJQmflugA0t"
      }
    },
    {
      "cell_type": "code",
      "source": [
        "media_escolaridade = df.groupby('Faixa Etaria').mean()\n",
        "media_escolaridade['Anos de Estudo']"
      ],
      "metadata": {
        "id": "0jkYbLl7gInb",
        "colab": {
          "base_uri": "https://localhost:8080/"
        },
        "outputId": "64ea8962-e233-4f0b-8719-8c9d39fd5cad"
      },
      "execution_count": 11,
      "outputs": [
        {
          "output_type": "execute_result",
          "data": {
            "text/plain": [
              "Faixa Etaria\n",
              "ate_20anos         9.695026\n",
              "entre21_35anos    10.813111\n",
              "entre36_50anos     9.764274\n",
              "entre51_65anos     8.267320\n",
              "mais_65anos        5.842293\n",
              "Name: Anos de Estudo, dtype: float64"
            ]
          },
          "metadata": {},
          "execution_count": 11
        }
      ]
    },
    {
      "cell_type": "markdown",
      "source": [
        "### Ex 03\n",
        "##### Qual a UF que concentra a maior renda?"
      ],
      "metadata": {
        "id": "LeK5ZG7EgJ3d"
      }
    },
    {
      "cell_type": "code",
      "source": [
        "uf_renda = df.groupby('UF').sum()\n",
        "indice = uf_renda['Renda'].argmax()\n",
        "print(uf_renda.iloc[indice].name)"
      ],
      "metadata": {
        "id": "QpytBv34gP8E",
        "colab": {
          "base_uri": "https://localhost:8080/"
        },
        "outputId": "c259d600-c98c-45ab-fbc6-1c1be6b6f3f9"
      },
      "execution_count": 12,
      "outputs": [
        {
          "output_type": "stream",
          "name": "stdout",
          "text": [
            "São Paulo\n"
          ]
        }
      ]
    },
    {
      "cell_type": "markdown",
      "source": [
        "### Ex 04\n",
        "##### Qual a renda média de pessoas pretas e brancas de homens e mulheres?"
      ],
      "metadata": {
        "id": "8JObLF1OgRhC"
      }
    },
    {
      "cell_type": "code",
      "source": [
        "pessoas = df.query(\"Cor == 'Branca' | Cor == 'Preta'\")\n",
        "cor_sexo_renda = pessoas.groupby(['Cor','Sexo']).mean()\n",
        "print(cor_sexo_renda[['Renda','Anos de Estudo']])"
      ],
      "metadata": {
        "id": "Jvz2D2lEgXiS",
        "colab": {
          "base_uri": "https://localhost:8080/"
        },
        "outputId": "e1b7a2f7-375d-4122-8b65-252a7b724231"
      },
      "execution_count": 13,
      "outputs": [
        {
          "output_type": "stream",
          "name": "stdout",
          "text": [
            "                        Renda  Anos de Estudo\n",
            "Cor    Sexo                                  \n",
            "Branca Feminino   2109.866750       11.297578\n",
            "       Masculino  2925.744435       10.140353\n",
            "Preta  Feminino   1134.596400        9.522326\n",
            "       Masculino  1603.861687        8.514540\n"
          ]
        }
      ]
    },
    {
      "cell_type": "markdown",
      "source": [
        "### Ex 05\n",
        "##### Qual a renda média concentrada em cada faixa etária?"
      ],
      "metadata": {
        "id": "mh3DTwpRgYMi"
      }
    },
    {
      "cell_type": "code",
      "source": [
        "renda_media = df.groupby('Faixa Etaria').mean()\n",
        "renda_media['Renda']"
      ],
      "metadata": {
        "id": "_bifNAcbgePS",
        "colab": {
          "base_uri": "https://localhost:8080/"
        },
        "outputId": "947839f0-9800-4a0d-9eb5-2309019ee1c9"
      },
      "execution_count": 14,
      "outputs": [
        {
          "output_type": "execute_result",
          "data": {
            "text/plain": [
              "Faixa Etaria\n",
              "ate_20anos         985.348168\n",
              "entre21_35anos    1748.286143\n",
              "entre36_50anos    2113.756091\n",
              "entre51_65anos    2150.196741\n",
              "mais_65anos       1831.231487\n",
              "Name: Renda, dtype: float64"
            ]
          },
          "metadata": {},
          "execution_count": 14
        }
      ]
    },
    {
      "cell_type": "markdown",
      "source": [
        "### Ex 06\n",
        "##### Qual a renda média nas faixas de anos de estudo abaixo?\n",
        "##### a) 2 anos ou menos\n",
        "##### b) 3 a 6 anos\n",
        "##### c) 7 a 10 anos\n",
        "##### d) 10 a 12 anos\n",
        "##### e) 13 anos ou mais"
      ],
      "metadata": {
        "id": "qeSxDK5agfXL"
      }
    },
    {
      "cell_type": "code",
      "source": [
        "df['Anos Estudo'] = pd.cut(x=df['Anos de Estudo'], bins=[0,3,7,11,13,100],\n",
        "                    labels=['ate_2anos','entre3_6anos','entre7_10anos','entre11_12anos','mais_13anos'])\n",
        "renda_media_anos = df.groupby('Anos Estudo').mean()\n",
        "renda_media_anos['Renda']"
      ],
      "metadata": {
        "id": "CLNyxezdgquq",
        "colab": {
          "base_uri": "https://localhost:8080/"
        },
        "outputId": "303d2718-9051-4d6c-d7d5-f8846d48bb48"
      },
      "execution_count": 15,
      "outputs": [
        {
          "output_type": "execute_result",
          "data": {
            "text/plain": [
              "Anos Estudo\n",
              "ate_2anos          768.575498\n",
              "entre3_6anos      1149.426648\n",
              "entre7_10anos     1403.497163\n",
              "entre11_12anos    1869.521910\n",
              "mais_13anos       4737.374037\n",
              "Name: Renda, dtype: float64"
            ]
          },
          "metadata": {},
          "execution_count": 15
        }
      ]
    },
    {
      "cell_type": "markdown",
      "source": [
        "### Ex 07\n",
        "##### Qual a maior escolaridade entre indígenas, para homens e mulheres?"
      ],
      "metadata": {
        "id": "Y-2XhPJkgsBU"
      }
    },
    {
      "cell_type": "code",
      "source": [
        "indigenas = df.query(\"Cor == 'Indígena'\")\n",
        "indigenas_escolaridade = indigenas.groupby('Sexo').max()\n",
        "indigenas_escolaridade"
      ],
      "metadata": {
        "id": "6_9hvF75gzLD",
        "colab": {
          "base_uri": "https://localhost:8080/",
          "height": 143
        },
        "outputId": "83572170-d7fe-41ad-af7c-16379715272c"
      },
      "execution_count": 16,
      "outputs": [
        {
          "output_type": "execute_result",
          "data": {
            "text/plain": [
              "                  UF  Idade       Cor  Anos de Estudo   Renda    Altura  \\\n",
              "Sexo                                                                      \n",
              "Feminino   São Paulo     79  Indígena              17  120000  1.937588   \n",
              "Masculino  São Paulo     97  Indígena              17   10000  1.918412   \n",
              "\n",
              "          Faixa Etaria  Anos Estudo  \n",
              "Sexo                                 \n",
              "Feminino   mais_65anos  mais_13anos  \n",
              "Masculino  mais_65anos  mais_13anos  "
            ],
            "text/html": [
              "\n",
              "  <div id=\"df-148c60b7-4535-40a7-8d6e-c847c6f699fc\">\n",
              "    <div class=\"colab-df-container\">\n",
              "      <div>\n",
              "<style scoped>\n",
              "    .dataframe tbody tr th:only-of-type {\n",
              "        vertical-align: middle;\n",
              "    }\n",
              "\n",
              "    .dataframe tbody tr th {\n",
              "        vertical-align: top;\n",
              "    }\n",
              "\n",
              "    .dataframe thead th {\n",
              "        text-align: right;\n",
              "    }\n",
              "</style>\n",
              "<table border=\"1\" class=\"dataframe\">\n",
              "  <thead>\n",
              "    <tr style=\"text-align: right;\">\n",
              "      <th></th>\n",
              "      <th>UF</th>\n",
              "      <th>Idade</th>\n",
              "      <th>Cor</th>\n",
              "      <th>Anos de Estudo</th>\n",
              "      <th>Renda</th>\n",
              "      <th>Altura</th>\n",
              "      <th>Faixa Etaria</th>\n",
              "      <th>Anos Estudo</th>\n",
              "    </tr>\n",
              "    <tr>\n",
              "      <th>Sexo</th>\n",
              "      <th></th>\n",
              "      <th></th>\n",
              "      <th></th>\n",
              "      <th></th>\n",
              "      <th></th>\n",
              "      <th></th>\n",
              "      <th></th>\n",
              "      <th></th>\n",
              "    </tr>\n",
              "  </thead>\n",
              "  <tbody>\n",
              "    <tr>\n",
              "      <th>Feminino</th>\n",
              "      <td>São Paulo</td>\n",
              "      <td>79</td>\n",
              "      <td>Indígena</td>\n",
              "      <td>17</td>\n",
              "      <td>120000</td>\n",
              "      <td>1.937588</td>\n",
              "      <td>mais_65anos</td>\n",
              "      <td>mais_13anos</td>\n",
              "    </tr>\n",
              "    <tr>\n",
              "      <th>Masculino</th>\n",
              "      <td>São Paulo</td>\n",
              "      <td>97</td>\n",
              "      <td>Indígena</td>\n",
              "      <td>17</td>\n",
              "      <td>10000</td>\n",
              "      <td>1.918412</td>\n",
              "      <td>mais_65anos</td>\n",
              "      <td>mais_13anos</td>\n",
              "    </tr>\n",
              "  </tbody>\n",
              "</table>\n",
              "</div>\n",
              "      <button class=\"colab-df-convert\" onclick=\"convertToInteractive('df-148c60b7-4535-40a7-8d6e-c847c6f699fc')\"\n",
              "              title=\"Convert this dataframe to an interactive table.\"\n",
              "              style=\"display:none;\">\n",
              "        \n",
              "  <svg xmlns=\"http://www.w3.org/2000/svg\" height=\"24px\"viewBox=\"0 0 24 24\"\n",
              "       width=\"24px\">\n",
              "    <path d=\"M0 0h24v24H0V0z\" fill=\"none\"/>\n",
              "    <path d=\"M18.56 5.44l.94 2.06.94-2.06 2.06-.94-2.06-.94-.94-2.06-.94 2.06-2.06.94zm-11 1L8.5 8.5l.94-2.06 2.06-.94-2.06-.94L8.5 2.5l-.94 2.06-2.06.94zm10 10l.94 2.06.94-2.06 2.06-.94-2.06-.94-.94-2.06-.94 2.06-2.06.94z\"/><path d=\"M17.41 7.96l-1.37-1.37c-.4-.4-.92-.59-1.43-.59-.52 0-1.04.2-1.43.59L10.3 9.45l-7.72 7.72c-.78.78-.78 2.05 0 2.83L4 21.41c.39.39.9.59 1.41.59.51 0 1.02-.2 1.41-.59l7.78-7.78 2.81-2.81c.8-.78.8-2.07 0-2.86zM5.41 20L4 18.59l7.72-7.72 1.47 1.35L5.41 20z\"/>\n",
              "  </svg>\n",
              "      </button>\n",
              "      \n",
              "  <style>\n",
              "    .colab-df-container {\n",
              "      display:flex;\n",
              "      flex-wrap:wrap;\n",
              "      gap: 12px;\n",
              "    }\n",
              "\n",
              "    .colab-df-convert {\n",
              "      background-color: #E8F0FE;\n",
              "      border: none;\n",
              "      border-radius: 50%;\n",
              "      cursor: pointer;\n",
              "      display: none;\n",
              "      fill: #1967D2;\n",
              "      height: 32px;\n",
              "      padding: 0 0 0 0;\n",
              "      width: 32px;\n",
              "    }\n",
              "\n",
              "    .colab-df-convert:hover {\n",
              "      background-color: #E2EBFA;\n",
              "      box-shadow: 0px 1px 2px rgba(60, 64, 67, 0.3), 0px 1px 3px 1px rgba(60, 64, 67, 0.15);\n",
              "      fill: #174EA6;\n",
              "    }\n",
              "\n",
              "    [theme=dark] .colab-df-convert {\n",
              "      background-color: #3B4455;\n",
              "      fill: #D2E3FC;\n",
              "    }\n",
              "\n",
              "    [theme=dark] .colab-df-convert:hover {\n",
              "      background-color: #434B5C;\n",
              "      box-shadow: 0px 1px 3px 1px rgba(0, 0, 0, 0.15);\n",
              "      filter: drop-shadow(0px 1px 2px rgba(0, 0, 0, 0.3));\n",
              "      fill: #FFFFFF;\n",
              "    }\n",
              "  </style>\n",
              "\n",
              "      <script>\n",
              "        const buttonEl =\n",
              "          document.querySelector('#df-148c60b7-4535-40a7-8d6e-c847c6f699fc button.colab-df-convert');\n",
              "        buttonEl.style.display =\n",
              "          google.colab.kernel.accessAllowed ? 'block' : 'none';\n",
              "\n",
              "        async function convertToInteractive(key) {\n",
              "          const element = document.querySelector('#df-148c60b7-4535-40a7-8d6e-c847c6f699fc');\n",
              "          const dataTable =\n",
              "            await google.colab.kernel.invokeFunction('convertToInteractive',\n",
              "                                                     [key], {});\n",
              "          if (!dataTable) return;\n",
              "\n",
              "          const docLinkHtml = 'Like what you see? Visit the ' +\n",
              "            '<a target=\"_blank\" href=https://colab.research.google.com/notebooks/data_table.ipynb>data table notebook</a>'\n",
              "            + ' to learn more about interactive tables.';\n",
              "          element.innerHTML = '';\n",
              "          dataTable['output_type'] = 'display_data';\n",
              "          await google.colab.output.renderOutput(dataTable, element);\n",
              "          const docLink = document.createElement('div');\n",
              "          docLink.innerHTML = docLinkHtml;\n",
              "          element.appendChild(docLink);\n",
              "        }\n",
              "      </script>\n",
              "    </div>\n",
              "  </div>\n",
              "  "
            ]
          },
          "metadata": {},
          "execution_count": 16
        }
      ]
    },
    {
      "cell_type": "markdown",
      "source": [
        "### Ex 08\n",
        "##### Qual a média de anos de estudo entre brancos e negros?"
      ],
      "metadata": {
        "id": "RyBjbT_4g0BD"
      }
    },
    {
      "cell_type": "code",
      "source": [
        "media_anos_estudo_cor = df.groupby('Cor')['Anos de Estudo'].mean()\n",
        "negros = media_anos_estudo_cor['Preta'] + media_anos_estudo_cor['Parda']\n",
        "brancos = media_anos_estudo_cor['Branca']\n",
        "\n",
        "print(f\"Negros: media de anos de estudo {negros}\")\n",
        "print(f\"Brancos: média de anos de estudo {brancos}\")"
      ],
      "metadata": {
        "id": "pJ_oQQbwg42r",
        "colab": {
          "base_uri": "https://localhost:8080/"
        },
        "outputId": "f93e6420-95f9-449e-f1ce-d6cd53fe4918"
      },
      "execution_count": 17,
      "outputs": [
        {
          "output_type": "stream",
          "name": "stdout",
          "text": [
            "Negros: media de anos de estudo 17.551483498698403\n",
            "Brancos: média de anos de estudo 10.49030331604589\n"
          ]
        }
      ]
    },
    {
      "cell_type": "markdown",
      "source": [
        "### Ex 09\n",
        "##### Qual a média de anos de estudo e de renda para mulheres brancas, e para mulheres negras?"
      ],
      "metadata": {
        "id": "FVJlml0mg5mL"
      }
    },
    {
      "cell_type": "code",
      "source": [
        "pessoas_cor = df.query(\"Cor == 'Branca' | Cor == 'Preta' | Cor == 'Parda'\")\n",
        "cor_estudo_renda = pessoas_cor.groupby('Cor').mean()\n",
        "cor_estudo_renda[['Anos de Estudo', 'Renda']]"
      ],
      "metadata": {
        "id": "3MtZCHQKg_7z",
        "colab": {
          "base_uri": "https://localhost:8080/",
          "height": 175
        },
        "outputId": "71f995b0-266d-4410-8915-500ef190d49a"
      },
      "execution_count": 18,
      "outputs": [
        {
          "output_type": "execute_result",
          "data": {
            "text/plain": [
              "        Anos de Estudo        Renda\n",
              "Cor                                \n",
              "Branca       10.490303  2679.019331\n",
              "Parda         8.689965  1513.596103\n",
              "Preta         8.861518  1442.294840"
            ],
            "text/html": [
              "\n",
              "  <div id=\"df-b79e2cb1-12a8-4e7b-a329-0447324b3e38\">\n",
              "    <div class=\"colab-df-container\">\n",
              "      <div>\n",
              "<style scoped>\n",
              "    .dataframe tbody tr th:only-of-type {\n",
              "        vertical-align: middle;\n",
              "    }\n",
              "\n",
              "    .dataframe tbody tr th {\n",
              "        vertical-align: top;\n",
              "    }\n",
              "\n",
              "    .dataframe thead th {\n",
              "        text-align: right;\n",
              "    }\n",
              "</style>\n",
              "<table border=\"1\" class=\"dataframe\">\n",
              "  <thead>\n",
              "    <tr style=\"text-align: right;\">\n",
              "      <th></th>\n",
              "      <th>Anos de Estudo</th>\n",
              "      <th>Renda</th>\n",
              "    </tr>\n",
              "    <tr>\n",
              "      <th>Cor</th>\n",
              "      <th></th>\n",
              "      <th></th>\n",
              "    </tr>\n",
              "  </thead>\n",
              "  <tbody>\n",
              "    <tr>\n",
              "      <th>Branca</th>\n",
              "      <td>10.490303</td>\n",
              "      <td>2679.019331</td>\n",
              "    </tr>\n",
              "    <tr>\n",
              "      <th>Parda</th>\n",
              "      <td>8.689965</td>\n",
              "      <td>1513.596103</td>\n",
              "    </tr>\n",
              "    <tr>\n",
              "      <th>Preta</th>\n",
              "      <td>8.861518</td>\n",
              "      <td>1442.294840</td>\n",
              "    </tr>\n",
              "  </tbody>\n",
              "</table>\n",
              "</div>\n",
              "      <button class=\"colab-df-convert\" onclick=\"convertToInteractive('df-b79e2cb1-12a8-4e7b-a329-0447324b3e38')\"\n",
              "              title=\"Convert this dataframe to an interactive table.\"\n",
              "              style=\"display:none;\">\n",
              "        \n",
              "  <svg xmlns=\"http://www.w3.org/2000/svg\" height=\"24px\"viewBox=\"0 0 24 24\"\n",
              "       width=\"24px\">\n",
              "    <path d=\"M0 0h24v24H0V0z\" fill=\"none\"/>\n",
              "    <path d=\"M18.56 5.44l.94 2.06.94-2.06 2.06-.94-2.06-.94-.94-2.06-.94 2.06-2.06.94zm-11 1L8.5 8.5l.94-2.06 2.06-.94-2.06-.94L8.5 2.5l-.94 2.06-2.06.94zm10 10l.94 2.06.94-2.06 2.06-.94-2.06-.94-.94-2.06-.94 2.06-2.06.94z\"/><path d=\"M17.41 7.96l-1.37-1.37c-.4-.4-.92-.59-1.43-.59-.52 0-1.04.2-1.43.59L10.3 9.45l-7.72 7.72c-.78.78-.78 2.05 0 2.83L4 21.41c.39.39.9.59 1.41.59.51 0 1.02-.2 1.41-.59l7.78-7.78 2.81-2.81c.8-.78.8-2.07 0-2.86zM5.41 20L4 18.59l7.72-7.72 1.47 1.35L5.41 20z\"/>\n",
              "  </svg>\n",
              "      </button>\n",
              "      \n",
              "  <style>\n",
              "    .colab-df-container {\n",
              "      display:flex;\n",
              "      flex-wrap:wrap;\n",
              "      gap: 12px;\n",
              "    }\n",
              "\n",
              "    .colab-df-convert {\n",
              "      background-color: #E8F0FE;\n",
              "      border: none;\n",
              "      border-radius: 50%;\n",
              "      cursor: pointer;\n",
              "      display: none;\n",
              "      fill: #1967D2;\n",
              "      height: 32px;\n",
              "      padding: 0 0 0 0;\n",
              "      width: 32px;\n",
              "    }\n",
              "\n",
              "    .colab-df-convert:hover {\n",
              "      background-color: #E2EBFA;\n",
              "      box-shadow: 0px 1px 2px rgba(60, 64, 67, 0.3), 0px 1px 3px 1px rgba(60, 64, 67, 0.15);\n",
              "      fill: #174EA6;\n",
              "    }\n",
              "\n",
              "    [theme=dark] .colab-df-convert {\n",
              "      background-color: #3B4455;\n",
              "      fill: #D2E3FC;\n",
              "    }\n",
              "\n",
              "    [theme=dark] .colab-df-convert:hover {\n",
              "      background-color: #434B5C;\n",
              "      box-shadow: 0px 1px 3px 1px rgba(0, 0, 0, 0.15);\n",
              "      filter: drop-shadow(0px 1px 2px rgba(0, 0, 0, 0.3));\n",
              "      fill: #FFFFFF;\n",
              "    }\n",
              "  </style>\n",
              "\n",
              "      <script>\n",
              "        const buttonEl =\n",
              "          document.querySelector('#df-b79e2cb1-12a8-4e7b-a329-0447324b3e38 button.colab-df-convert');\n",
              "        buttonEl.style.display =\n",
              "          google.colab.kernel.accessAllowed ? 'block' : 'none';\n",
              "\n",
              "        async function convertToInteractive(key) {\n",
              "          const element = document.querySelector('#df-b79e2cb1-12a8-4e7b-a329-0447324b3e38');\n",
              "          const dataTable =\n",
              "            await google.colab.kernel.invokeFunction('convertToInteractive',\n",
              "                                                     [key], {});\n",
              "          if (!dataTable) return;\n",
              "\n",
              "          const docLinkHtml = 'Like what you see? Visit the ' +\n",
              "            '<a target=\"_blank\" href=https://colab.research.google.com/notebooks/data_table.ipynb>data table notebook</a>'\n",
              "            + ' to learn more about interactive tables.';\n",
              "          element.innerHTML = '';\n",
              "          dataTable['output_type'] = 'display_data';\n",
              "          await google.colab.output.renderOutput(dataTable, element);\n",
              "          const docLink = document.createElement('div');\n",
              "          docLink.innerHTML = docLinkHtml;\n",
              "          element.appendChild(docLink);\n",
              "        }\n",
              "      </script>\n",
              "    </div>\n",
              "  </div>\n",
              "  "
            ]
          },
          "metadata": {},
          "execution_count": 18
        }
      ]
    },
    {
      "cell_type": "markdown",
      "source": [
        "### Ex 10\n",
        "##### Qual é a UF com maior média de escolaridade e qual a UF com maior média de renda?"
      ],
      "metadata": {
        "id": "IsLfdnAhhApq"
      }
    },
    {
      "cell_type": "code",
      "source": [
        "uf_media = df.groupby('UF').mean()\n",
        "\n",
        "uf_maior_media_escolaridade = uf_media['Anos de Estudo'].argmax()\n",
        "uf_maior_renda = uf_media['Renda'].argmax()\n",
        "\n",
        "print(f'UF maior média de escolaridade: {uf_media.iloc[uf_maior_media_escolaridade].name}')\n",
        "print(f'UF maior média de renda: {uf_media.iloc[uf_maior_renda].name}')"
      ],
      "metadata": {
        "id": "QHLBtTzFhGyD",
        "colab": {
          "base_uri": "https://localhost:8080/"
        },
        "outputId": "9805426b-119d-456b-a1bc-9135d1e3b1d5"
      },
      "execution_count": 19,
      "outputs": [
        {
          "output_type": "stream",
          "name": "stdout",
          "text": [
            "UF maior média de escolaridade: Distrito Federal\n",
            "UF maior média de renda: Distrito Federal\n"
          ]
        }
      ]
    },
    {
      "cell_type": "markdown",
      "source": [
        "### Ex 11\n",
        "##### Elabore você uma pergunta sobre a base de dados e escreva o código para responder a pergunta."
      ],
      "metadata": {
        "id": "a1lyMY4MhHfL"
      }
    },
    {
      "cell_type": "code",
      "source": [
        "import matplotlib.pyplot as plt\n",
        "\n",
        "# Gráfico Idade x Renda\n",
        "plt.bar(df['Idade'], df['Renda'])\n",
        "plt.xlabel('Idade')\n",
        "plt.ylabel('Renda')\n",
        "plt.title('Idade x Renda')\n",
        "plt.show()"
      ],
      "metadata": {
        "id": "kvXrmm7_hPXC"
      },
      "execution_count": null,
      "outputs": []
    }
  ]
}